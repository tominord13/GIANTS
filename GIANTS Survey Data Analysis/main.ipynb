{
 "cells": [
  {
   "cell_type": "code",
   "execution_count": 1,
   "metadata": {},
   "outputs": [],
   "source": [
    "import pandas as pd\n",
    "import matplotlib.pyplot as plt\n",
    "# Importing necessary modules and functions from your files\n",
    "from GIANTS_data_load_and_preprocessing import load_data, preprocess_data\n",
    "from GIANTS_kano_analysis import (get_feature_names, prepare_kano_data, apply_kano_scoring, calculate_kano_averages, plot_kano_results, \n",
    "                                  plot_kano_by_age_group, plot_feature_means_with_std\n",
    ")\n",
    "from GIANTS_clustering import preprocess_for_clustering, perform_clustering, plot_elbow_method\n",
    "\n",
    "\n",
    "\n",
    "# Step 1: Load the data\n",
    "df = pd.read_excel('C:/Users/TomiNordi2m/OneDrive - i2m Unternehmensentwicklung GmbH/Documents/Python/GIANTS Survey Data Analysis/2024.10.21 GIANTS project_ User and stakeholder needs survey (Responses).xlsx')\n",
    "#file_path = \"C:/Users/TomiNordi2m/OneDrive - i2m Unternehmensentwicklung GmbH/Documents/Python/GIANTS Survey Data Analysis/Copy of 2024.09.12 GIANTS project_ User and stakeholder needs survey (Responses).xlsx\"\n",
    "#df = load_data(file_path)\n",
    "\n",
    "# Step 2: Preprocess the data\n",
    "#df = preprocess_data(df)\n",
    "\n",
    "\n",
    "\n",
    "\n",
    "\n"
   ]
  },
  {
   "cell_type": "markdown",
   "metadata": {},
   "source": [
    "## Subgroup Filtering Definition"
   ]
  },
  {
   "cell_type": "code",
   "execution_count": 2,
   "metadata": {},
   "outputs": [
    {
     "name": "stdout",
     "output_type": "stream",
     "text": [
      "Number of respondents who fulfill the retiree criteria: 30\n"
     ]
    }
   ],
   "source": [
    "\n",
    "# Define the age categories for retirees\n",
    "retiree_ages = ['60-78', '>78']\n",
    "\n",
    "# Filter the dataframe for respondents within the retiree age range\n",
    "df_retiree = df[df['2. Age'].isin(retiree_ages)]\n",
    "\n",
    "# Define keywords related to work for primary and secondary use filtering\n",
    "work_related_keywords = ['work', 'commuting']\n",
    "\n",
    "# Function to check if any of the work-related keywords are present\n",
    "def not_work_related(usage):\n",
    "    if pd.isnull(usage):\n",
    "        return True  # Keep null values (assuming these could be retirees too)\n",
    "    usage = str(usage)  # Convert to string to avoid errors with numeric entries\n",
    "    return not any(keyword in usage.lower() for keyword in work_related_keywords)\n",
    "\n",
    "# Apply the filtering on both primary and secondary usage\n",
    "df_retiree = df_retiree[df_retiree['16. How do you generally use your primary mode of transportation? (Multiple answers allowed.)'].apply(not_work_related)]\n",
    "df_retiree = df_retiree[df_retiree['21. How do you generally use your secondary mode of transportation? (Multiple answers allowed.)'].apply(not_work_related)]\n",
    "\n",
    "# Get the count of how many people fulfill the retiree criteria\n",
    "retiree_count = len(df_retiree)\n",
    "\n",
    "# Output the count\n",
    "print(f\"Number of respondents who fulfill the retiree criteria: {retiree_count}\")\n"
   ]
  },
  {
   "cell_type": "code",
   "execution_count": 3,
   "metadata": {},
   "outputs": [
    {
     "name": "stdout",
     "output_type": "stream",
     "text": [
      "Number of respondents who fulfill the student criteria: 22\n"
     ]
    }
   ],
   "source": [
    "# Define the age range for students\n",
    "student_ages = ['18-29']  # Adjust based on the dataset categories\n",
    "\n",
    "# Define the low-income ranges based on the income column\n",
    "low_income_ranges = [\n",
    "    '0 - 2,500€', \n",
    "    '2,500 - 5,000€', \n",
    "    '5,000 - 10,000€', \n",
    "    '10,000 - 25,000€'\n",
    "]\n",
    "\n",
    "# Filter the dataframe for respondents within the student age range\n",
    "df_student = df[df['2. Age'].isin(student_ages)]\n",
    "\n",
    "# Further filter for respondents within the low-income ranges\n",
    "df_student = df_student[df_student['9.  Estimated annual household (family) income in 2023 in Euros (€/EUR)? (Link to EU Currency Converter)'].isin(low_income_ranges)]\n",
    "\n",
    "# Get the count of how many people fulfill the student criteria\n",
    "student_count = len(df_student)\n",
    "\n",
    "# Output the count\n",
    "print(f\"Number of respondents who fulfill the student criteria: {student_count}\")\n",
    "\n",
    "# The resulting filtered dataframe `df_student` will now contain only students\n",
    "\n",
    "\n"
   ]
  },
  {
   "cell_type": "code",
   "execution_count": 4,
   "metadata": {},
   "outputs": [
    {
     "name": "stdout",
     "output_type": "stream",
     "text": [
      "Number of families with kids: 91\n"
     ]
    },
    {
     "name": "stderr",
     "output_type": "stream",
     "text": [
      "C:\\Users\\TomiNordi2m\\AppData\\Local\\Temp\\ipykernel_10188\\1175133733.py:11: UserWarning: Boolean Series key will be reindexed to match DataFrame index.\n",
      "  df_family = df_family[df['8. How many people  / family members live in your household? (for safety related questions) [Kids (6-17)]'] > 0]\n"
     ]
    }
   ],
   "source": [
    "# Combine the two columns to calculate total household size\n",
    "df['Total Household Size'] = (\n",
    "    pd.to_numeric(df['8. How many people  / family members live in your household? (for safety related questions) [Adults (18 and older)]'], errors='coerce') +\n",
    "    pd.to_numeric(df['8. How many people  / family members live in your household? (for safety related questions) [Kids (6-17)]'], errors='coerce')\n",
    ")\n",
    "\n",
    "# Filter for families with total household size >= 2\n",
    "df_family = df[df['Total Household Size'] >= 2]\n",
    "\n",
    "# Further filter for households with at least one child\n",
    "df_family = df_family[df['8. How many people  / family members live in your household? (for safety related questions) [Kids (6-17)]'] > 0]\n",
    "\n",
    "# Output the count of families with kids\n",
    "family_with_kids_count = len(df_family)\n",
    "print(f\"Number of families with kids: {family_with_kids_count}\")\n",
    "\n"
   ]
  },
  {
   "cell_type": "code",
   "execution_count": 5,
   "metadata": {},
   "outputs": [
    {
     "name": "stdout",
     "output_type": "stream",
     "text": [
      "Number of single-person households aged 30-44 or 45-65: 63\n"
     ]
    },
    {
     "name": "stderr",
     "output_type": "stream",
     "text": [
      "C:\\Users\\TomiNordi2m\\AppData\\Local\\Temp\\ipykernel_10188\\1225874764.py:17: UserWarning: Boolean Series key will be reindexed to match DataFrame index.\n",
      "  df_single_person = df_single_person[(df['8. How many people  / family members live in your household? (for safety related questions) [Kids (6-17)]'] == 0) | (df['8. How many people  / family members live in your household? (for safety related questions) [Kids (6-17)]'].isna())]\n"
     ]
    }
   ],
   "source": [
    "# Calculate total household size\n",
    "df['Total Household Size'] = (\n",
    "    pd.to_numeric(df['8. How many people  / family members live in your household? (for safety related questions) [Adults (18 and older)]'], errors='coerce').fillna(0) +\n",
    "    pd.to_numeric(df['8. How many people  / family members live in your household? (for safety related questions) [Kids (6-17)]'], errors='coerce').fillna(0)\n",
    ")\n",
    "\n",
    "# Define the age ranges to include\n",
    "single_person_ages = ['30-44', '45-65']  # Adjust based on the actual categories in your dataset\n",
    "\n",
    "# Filter for single-person households\n",
    "df_single_person = df[df['Total Household Size'] <= 2]\n",
    "\n",
    "# Further filter for respondents within the specified 2. Ages\n",
    "df_single_person = df_single_person[df_single_person['2. Age'].isin(single_person_ages)]\n",
    "\n",
    "# Further filter for households with no children\n",
    "df_single_person = df_single_person[(df['8. How many people  / family members live in your household? (for safety related questions) [Kids (6-17)]'] == 0) | (df['8. How many people  / family members live in your household? (for safety related questions) [Kids (6-17)]'].isna())]\n",
    "\n",
    "\n",
    "# Output the count of single-person households within the 2. Ages\n",
    "single_person_age_filtered_count = len(df_single_person)\n",
    "print(f\"Number of single-person households aged 30-44 or 45-65: {single_person_age_filtered_count}\")\n"
   ]
  },
  {
   "cell_type": "code",
   "execution_count": 6,
   "metadata": {},
   "outputs": [
    {
     "name": "stdout",
     "output_type": "stream",
     "text": [
      "Number of service providers identified: 6\n"
     ]
    }
   ],
   "source": [
    "# Filter respondents whose trip purpose involves work-related usage\n",
    "df_service_providers = df[\n",
    "    df['16. How do you generally use your primary mode of transportation? (Multiple answers allowed.)'].isin([\n",
    "        'Vehicle is my work tool (for passenger transport)',\n",
    "        'Vehicle is my work tool (for cargo/delivery)'\n",
    "    ])\n",
    "]\n",
    "\n",
    "# Count the number of service providers identified\n",
    "service_provider_count = len(df_service_providers)\n",
    "print(f\"Number of service providers identified: {service_provider_count}\")\n"
   ]
  },
  {
   "cell_type": "code",
   "execution_count": 7,
   "metadata": {},
   "outputs": [],
   "source": [
    "df = df_student"
   ]
  },
  {
   "cell_type": "code",
   "execution_count": 8,
   "metadata": {},
   "outputs": [
    {
     "data": {
      "application/vnd.plotly.v1+json": {
       "config": {
        "plotlyServerURL": "https://plot.ly"
       },
       "data": [
        {
         "hovertemplate": "Average Dysfunctional Score=%{x}<br>Average Functional Score=%{y}<br>Feature=%{text}<extra></extra>",
         "legendgroup": "",
         "marker": {
          "color": "#636efa",
          "symbol": "circle"
         },
         "mode": "markers+text",
         "name": "",
         "orientation": "v",
         "showlegend": false,
         "text": [
          "Heating System",
          "Air Conditioning",
          "Small Vehicle Cargo Capacity",
          "Large Vehicle Cargo Capacity",
          "Tailorable",
          "ABS",
          "Backing Up Alarm",
          "Headrests and Mirrors",
          "Crash Safety Features",
          "Passenger Capacity",
          "Doors",
          "Anti-theft",
          "Comfort Features",
          "Comfort Features - Space",
          "Comfort Features - Acoustic",
          "Compact Size",
          "Vehicle Aesthetics",
          "General Swappable Batteries",
          "Self-Swappable Batteries",
          "Power Capacity",
          "Rapid Charging",
          "Charging Infrastructure",
          "Battery Enclosure",
          "Solar Panels"
         ],
         "textfont": {
          "size": 14
         },
         "textposition": "bottom right",
         "type": "scatter",
         "x": [
          1.0909090909090908,
          1.5909090909090908,
          1.3181818181818181,
          1.1363636363636365,
          1.3636363636363635,
          2.090909090909091,
          1.0454545454545454,
          2.1818181818181817,
          2.272727272727273,
          0.7727272727272727,
          1.8181818181818181,
          1.7272727272727273,
          1.1363636363636365,
          1.2272727272727273,
          0.9545454545454546,
          1.0454545454545454,
          1.0909090909090908,
          1.6363636363636365,
          1.6363636363636365,
          1.4545454545454546,
          1.0909090909090908,
          2,
          1.6818181818181819,
          1.0909090909090908
         ],
         "xaxis": "x",
         "y": [
          1.2727272727272727,
          2.3636363636363638,
          2.4545454545454546,
          2.4545454545454546,
          2.4545454545454546,
          2.4545454545454546,
          1.6363636363636365,
          2.272727272727273,
          2.3636363636363638,
          2.272727272727273,
          2.3636363636363638,
          2.272727272727273,
          1.5909090909090908,
          2.090909090909091,
          1.8181818181818181,
          2.5454545454545454,
          2.3636363636363638,
          2.727272727272727,
          2.3181818181818183,
          2.5,
          2.5454545454545454,
          2.6363636363636362,
          2.6363636363636362,
          2.227272727272727
         ],
         "yaxis": "y"
        }
       ],
       "layout": {
        "annotations": [
         {
          "font": {
           "color": "LightSeaGreen",
           "family": "Arial",
           "size": 20,
           "weight": "bold"
          },
          "showarrow": false,
          "text": "One-dimensional",
          "x": 3,
          "y": 3.5
         },
         {
          "font": {
           "color": "LightCoral",
           "family": "Arial",
           "size": 20,
           "weight": "bold"
          },
          "showarrow": false,
          "text": "Must-have",
          "x": 3,
          "y": 1
         },
         {
          "font": {
           "color": "Blue",
           "family": "Arial",
           "size": 20,
           "weight": "bold"
          },
          "showarrow": false,
          "text": "Attractive",
          "x": 1,
          "y": 3.5
         },
         {
          "font": {
           "color": "Gray",
           "family": "Arial",
           "size": 20,
           "weight": "bold"
          },
          "showarrow": false,
          "text": "Indifferent",
          "x": 1,
          "y": 1
         }
        ],
        "height": 800,
        "legend": {
         "tracegroupgap": 0
        },
        "shapes": [
         {
          "fillcolor": "PaleTurquoise",
          "layer": "below",
          "line": {
           "color": "LightSeaGreen"
          },
          "opacity": 0.3,
          "type": "rect",
          "x0": 2,
          "x1": 4,
          "y0": 2,
          "y1": 4
         },
         {
          "fillcolor": "LightSalmon",
          "layer": "below",
          "line": {
           "color": "LightCoral"
          },
          "opacity": 0.3,
          "type": "rect",
          "x0": 2,
          "x1": 4,
          "y0": 0,
          "y1": 2
         },
         {
          "fillcolor": "LightSteelBlue",
          "layer": "below",
          "line": {
           "color": "LightBlue"
          },
          "opacity": 0.3,
          "type": "rect",
          "x0": 0,
          "x1": 2,
          "y0": 2,
          "y1": 4
         },
         {
          "fillcolor": "LightGray",
          "layer": "below",
          "line": {
           "color": "Gray"
          },
          "opacity": 0.3,
          "type": "rect",
          "x0": 0,
          "x1": 2,
          "y0": 0,
          "y1": 2
         }
        ],
        "template": {
         "data": {
          "bar": [
           {
            "error_x": {
             "color": "#2a3f5f"
            },
            "error_y": {
             "color": "#2a3f5f"
            },
            "marker": {
             "line": {
              "color": "#E5ECF6",
              "width": 0.5
             },
             "pattern": {
              "fillmode": "overlay",
              "size": 10,
              "solidity": 0.2
             }
            },
            "type": "bar"
           }
          ],
          "barpolar": [
           {
            "marker": {
             "line": {
              "color": "#E5ECF6",
              "width": 0.5
             },
             "pattern": {
              "fillmode": "overlay",
              "size": 10,
              "solidity": 0.2
             }
            },
            "type": "barpolar"
           }
          ],
          "carpet": [
           {
            "aaxis": {
             "endlinecolor": "#2a3f5f",
             "gridcolor": "white",
             "linecolor": "white",
             "minorgridcolor": "white",
             "startlinecolor": "#2a3f5f"
            },
            "baxis": {
             "endlinecolor": "#2a3f5f",
             "gridcolor": "white",
             "linecolor": "white",
             "minorgridcolor": "white",
             "startlinecolor": "#2a3f5f"
            },
            "type": "carpet"
           }
          ],
          "choropleth": [
           {
            "colorbar": {
             "outlinewidth": 0,
             "ticks": ""
            },
            "type": "choropleth"
           }
          ],
          "contour": [
           {
            "colorbar": {
             "outlinewidth": 0,
             "ticks": ""
            },
            "colorscale": [
             [
              0,
              "#0d0887"
             ],
             [
              0.1111111111111111,
              "#46039f"
             ],
             [
              0.2222222222222222,
              "#7201a8"
             ],
             [
              0.3333333333333333,
              "#9c179e"
             ],
             [
              0.4444444444444444,
              "#bd3786"
             ],
             [
              0.5555555555555556,
              "#d8576b"
             ],
             [
              0.6666666666666666,
              "#ed7953"
             ],
             [
              0.7777777777777778,
              "#fb9f3a"
             ],
             [
              0.8888888888888888,
              "#fdca26"
             ],
             [
              1,
              "#f0f921"
             ]
            ],
            "type": "contour"
           }
          ],
          "contourcarpet": [
           {
            "colorbar": {
             "outlinewidth": 0,
             "ticks": ""
            },
            "type": "contourcarpet"
           }
          ],
          "heatmap": [
           {
            "colorbar": {
             "outlinewidth": 0,
             "ticks": ""
            },
            "colorscale": [
             [
              0,
              "#0d0887"
             ],
             [
              0.1111111111111111,
              "#46039f"
             ],
             [
              0.2222222222222222,
              "#7201a8"
             ],
             [
              0.3333333333333333,
              "#9c179e"
             ],
             [
              0.4444444444444444,
              "#bd3786"
             ],
             [
              0.5555555555555556,
              "#d8576b"
             ],
             [
              0.6666666666666666,
              "#ed7953"
             ],
             [
              0.7777777777777778,
              "#fb9f3a"
             ],
             [
              0.8888888888888888,
              "#fdca26"
             ],
             [
              1,
              "#f0f921"
             ]
            ],
            "type": "heatmap"
           }
          ],
          "heatmapgl": [
           {
            "colorbar": {
             "outlinewidth": 0,
             "ticks": ""
            },
            "colorscale": [
             [
              0,
              "#0d0887"
             ],
             [
              0.1111111111111111,
              "#46039f"
             ],
             [
              0.2222222222222222,
              "#7201a8"
             ],
             [
              0.3333333333333333,
              "#9c179e"
             ],
             [
              0.4444444444444444,
              "#bd3786"
             ],
             [
              0.5555555555555556,
              "#d8576b"
             ],
             [
              0.6666666666666666,
              "#ed7953"
             ],
             [
              0.7777777777777778,
              "#fb9f3a"
             ],
             [
              0.8888888888888888,
              "#fdca26"
             ],
             [
              1,
              "#f0f921"
             ]
            ],
            "type": "heatmapgl"
           }
          ],
          "histogram": [
           {
            "marker": {
             "pattern": {
              "fillmode": "overlay",
              "size": 10,
              "solidity": 0.2
             }
            },
            "type": "histogram"
           }
          ],
          "histogram2d": [
           {
            "colorbar": {
             "outlinewidth": 0,
             "ticks": ""
            },
            "colorscale": [
             [
              0,
              "#0d0887"
             ],
             [
              0.1111111111111111,
              "#46039f"
             ],
             [
              0.2222222222222222,
              "#7201a8"
             ],
             [
              0.3333333333333333,
              "#9c179e"
             ],
             [
              0.4444444444444444,
              "#bd3786"
             ],
             [
              0.5555555555555556,
              "#d8576b"
             ],
             [
              0.6666666666666666,
              "#ed7953"
             ],
             [
              0.7777777777777778,
              "#fb9f3a"
             ],
             [
              0.8888888888888888,
              "#fdca26"
             ],
             [
              1,
              "#f0f921"
             ]
            ],
            "type": "histogram2d"
           }
          ],
          "histogram2dcontour": [
           {
            "colorbar": {
             "outlinewidth": 0,
             "ticks": ""
            },
            "colorscale": [
             [
              0,
              "#0d0887"
             ],
             [
              0.1111111111111111,
              "#46039f"
             ],
             [
              0.2222222222222222,
              "#7201a8"
             ],
             [
              0.3333333333333333,
              "#9c179e"
             ],
             [
              0.4444444444444444,
              "#bd3786"
             ],
             [
              0.5555555555555556,
              "#d8576b"
             ],
             [
              0.6666666666666666,
              "#ed7953"
             ],
             [
              0.7777777777777778,
              "#fb9f3a"
             ],
             [
              0.8888888888888888,
              "#fdca26"
             ],
             [
              1,
              "#f0f921"
             ]
            ],
            "type": "histogram2dcontour"
           }
          ],
          "mesh3d": [
           {
            "colorbar": {
             "outlinewidth": 0,
             "ticks": ""
            },
            "type": "mesh3d"
           }
          ],
          "parcoords": [
           {
            "line": {
             "colorbar": {
              "outlinewidth": 0,
              "ticks": ""
             }
            },
            "type": "parcoords"
           }
          ],
          "pie": [
           {
            "automargin": true,
            "type": "pie"
           }
          ],
          "scatter": [
           {
            "fillpattern": {
             "fillmode": "overlay",
             "size": 10,
             "solidity": 0.2
            },
            "type": "scatter"
           }
          ],
          "scatter3d": [
           {
            "line": {
             "colorbar": {
              "outlinewidth": 0,
              "ticks": ""
             }
            },
            "marker": {
             "colorbar": {
              "outlinewidth": 0,
              "ticks": ""
             }
            },
            "type": "scatter3d"
           }
          ],
          "scattercarpet": [
           {
            "marker": {
             "colorbar": {
              "outlinewidth": 0,
              "ticks": ""
             }
            },
            "type": "scattercarpet"
           }
          ],
          "scattergeo": [
           {
            "marker": {
             "colorbar": {
              "outlinewidth": 0,
              "ticks": ""
             }
            },
            "type": "scattergeo"
           }
          ],
          "scattergl": [
           {
            "marker": {
             "colorbar": {
              "outlinewidth": 0,
              "ticks": ""
             }
            },
            "type": "scattergl"
           }
          ],
          "scattermapbox": [
           {
            "marker": {
             "colorbar": {
              "outlinewidth": 0,
              "ticks": ""
             }
            },
            "type": "scattermapbox"
           }
          ],
          "scatterpolar": [
           {
            "marker": {
             "colorbar": {
              "outlinewidth": 0,
              "ticks": ""
             }
            },
            "type": "scatterpolar"
           }
          ],
          "scatterpolargl": [
           {
            "marker": {
             "colorbar": {
              "outlinewidth": 0,
              "ticks": ""
             }
            },
            "type": "scatterpolargl"
           }
          ],
          "scatterternary": [
           {
            "marker": {
             "colorbar": {
              "outlinewidth": 0,
              "ticks": ""
             }
            },
            "type": "scatterternary"
           }
          ],
          "surface": [
           {
            "colorbar": {
             "outlinewidth": 0,
             "ticks": ""
            },
            "colorscale": [
             [
              0,
              "#0d0887"
             ],
             [
              0.1111111111111111,
              "#46039f"
             ],
             [
              0.2222222222222222,
              "#7201a8"
             ],
             [
              0.3333333333333333,
              "#9c179e"
             ],
             [
              0.4444444444444444,
              "#bd3786"
             ],
             [
              0.5555555555555556,
              "#d8576b"
             ],
             [
              0.6666666666666666,
              "#ed7953"
             ],
             [
              0.7777777777777778,
              "#fb9f3a"
             ],
             [
              0.8888888888888888,
              "#fdca26"
             ],
             [
              1,
              "#f0f921"
             ]
            ],
            "type": "surface"
           }
          ],
          "table": [
           {
            "cells": {
             "fill": {
              "color": "#EBF0F8"
             },
             "line": {
              "color": "white"
             }
            },
            "header": {
             "fill": {
              "color": "#C8D4E3"
             },
             "line": {
              "color": "white"
             }
            },
            "type": "table"
           }
          ]
         },
         "layout": {
          "annotationdefaults": {
           "arrowcolor": "#2a3f5f",
           "arrowhead": 0,
           "arrowwidth": 1
          },
          "autotypenumbers": "strict",
          "coloraxis": {
           "colorbar": {
            "outlinewidth": 0,
            "ticks": ""
           }
          },
          "colorscale": {
           "diverging": [
            [
             0,
             "#8e0152"
            ],
            [
             0.1,
             "#c51b7d"
            ],
            [
             0.2,
             "#de77ae"
            ],
            [
             0.3,
             "#f1b6da"
            ],
            [
             0.4,
             "#fde0ef"
            ],
            [
             0.5,
             "#f7f7f7"
            ],
            [
             0.6,
             "#e6f5d0"
            ],
            [
             0.7,
             "#b8e186"
            ],
            [
             0.8,
             "#7fbc41"
            ],
            [
             0.9,
             "#4d9221"
            ],
            [
             1,
             "#276419"
            ]
           ],
           "sequential": [
            [
             0,
             "#0d0887"
            ],
            [
             0.1111111111111111,
             "#46039f"
            ],
            [
             0.2222222222222222,
             "#7201a8"
            ],
            [
             0.3333333333333333,
             "#9c179e"
            ],
            [
             0.4444444444444444,
             "#bd3786"
            ],
            [
             0.5555555555555556,
             "#d8576b"
            ],
            [
             0.6666666666666666,
             "#ed7953"
            ],
            [
             0.7777777777777778,
             "#fb9f3a"
            ],
            [
             0.8888888888888888,
             "#fdca26"
            ],
            [
             1,
             "#f0f921"
            ]
           ],
           "sequentialminus": [
            [
             0,
             "#0d0887"
            ],
            [
             0.1111111111111111,
             "#46039f"
            ],
            [
             0.2222222222222222,
             "#7201a8"
            ],
            [
             0.3333333333333333,
             "#9c179e"
            ],
            [
             0.4444444444444444,
             "#bd3786"
            ],
            [
             0.5555555555555556,
             "#d8576b"
            ],
            [
             0.6666666666666666,
             "#ed7953"
            ],
            [
             0.7777777777777778,
             "#fb9f3a"
            ],
            [
             0.8888888888888888,
             "#fdca26"
            ],
            [
             1,
             "#f0f921"
            ]
           ]
          },
          "colorway": [
           "#636efa",
           "#EF553B",
           "#00cc96",
           "#ab63fa",
           "#FFA15A",
           "#19d3f3",
           "#FF6692",
           "#B6E880",
           "#FF97FF",
           "#FECB52"
          ],
          "font": {
           "color": "#2a3f5f"
          },
          "geo": {
           "bgcolor": "white",
           "lakecolor": "white",
           "landcolor": "#E5ECF6",
           "showlakes": true,
           "showland": true,
           "subunitcolor": "white"
          },
          "hoverlabel": {
           "align": "left"
          },
          "hovermode": "closest",
          "mapbox": {
           "style": "light"
          },
          "paper_bgcolor": "white",
          "plot_bgcolor": "#E5ECF6",
          "polar": {
           "angularaxis": {
            "gridcolor": "white",
            "linecolor": "white",
            "ticks": ""
           },
           "bgcolor": "#E5ECF6",
           "radialaxis": {
            "gridcolor": "white",
            "linecolor": "white",
            "ticks": ""
           }
          },
          "scene": {
           "xaxis": {
            "backgroundcolor": "#E5ECF6",
            "gridcolor": "white",
            "gridwidth": 2,
            "linecolor": "white",
            "showbackground": true,
            "ticks": "",
            "zerolinecolor": "white"
           },
           "yaxis": {
            "backgroundcolor": "#E5ECF6",
            "gridcolor": "white",
            "gridwidth": 2,
            "linecolor": "white",
            "showbackground": true,
            "ticks": "",
            "zerolinecolor": "white"
           },
           "zaxis": {
            "backgroundcolor": "#E5ECF6",
            "gridcolor": "white",
            "gridwidth": 2,
            "linecolor": "white",
            "showbackground": true,
            "ticks": "",
            "zerolinecolor": "white"
           }
          },
          "shapedefaults": {
           "line": {
            "color": "#2a3f5f"
           }
          },
          "ternary": {
           "aaxis": {
            "gridcolor": "white",
            "linecolor": "white",
            "ticks": ""
           },
           "baxis": {
            "gridcolor": "white",
            "linecolor": "white",
            "ticks": ""
           },
           "bgcolor": "#E5ECF6",
           "caxis": {
            "gridcolor": "white",
            "linecolor": "white",
            "ticks": ""
           }
          },
          "title": {
           "x": 0.05
          },
          "xaxis": {
           "automargin": true,
           "gridcolor": "white",
           "linecolor": "white",
           "ticks": "",
           "title": {
            "standoff": 15
           },
           "zerolinecolor": "white",
           "zerolinewidth": 2
          },
          "yaxis": {
           "automargin": true,
           "gridcolor": "white",
           "linecolor": "white",
           "ticks": "",
           "title": {
            "standoff": 15
           },
           "zerolinecolor": "white",
           "zerolinewidth": 2
          }
         }
        },
        "title": {
         "text": "Kano Model: Functional vs. Dysfunctional Scores"
        },
        "width": 1400,
        "xaxis": {
         "anchor": "y",
         "domain": [
          0,
          1
         ],
         "tickfont": {
          "size": 18
         },
         "ticktext": [
          "Like",
          "Must-be",
          "Neutral",
          "Tolerate",
          "Dislike"
         ],
         "tickvals": [
          -2,
          -1,
          0,
          2,
          4
         ],
         "title": {
          "font": {
           "size": 20
          },
          "text": "Dysfunctional"
         }
        },
        "yaxis": {
         "anchor": "x",
         "domain": [
          0,
          1
         ],
         "tickfont": {
          "size": 18
         },
         "ticktext": [
          "Dislike",
          "Tolerate",
          "Neutral",
          "Expect it",
          "Like"
         ],
         "tickvals": [
          -2,
          -1,
          0,
          2,
          4
         ],
         "title": {
          "font": {
           "size": 20
          },
          "text": "Functional"
         }
        }
       }
      }
     },
     "metadata": {},
     "output_type": "display_data"
    }
   ],
   "source": [
    "\n",
    "# Step 3: Prepare Kano data\n",
    "df_kano = prepare_kano_data(df)\n",
    "\n",
    "# Step 4: Get feature names for Kano analysis\n",
    "feature_names = get_feature_names()\n",
    "\n",
    "\n",
    "# Step 5: Apply Kano scoring\n",
    "df_kano = apply_kano_scoring(df_kano, feature_names)\n",
    "\n",
    "# Step 6: Calculate Kano averages\n",
    "df_averages = calculate_kano_averages(df_kano, feature_names)\n",
    "\n",
    "# Step 7: Plot Kano results \n",
    "plot_kano_results(df_averages)\n"
   ]
  },
  {
   "cell_type": "code",
   "execution_count": 9,
   "metadata": {},
   "outputs": [
    {
     "data": {
      "application/vnd.plotly.v1+json": {
       "config": {
        "plotlyServerURL": "https://plot.ly"
       },
       "data": [
        {
         "hovertemplate": "Average Dysfunctional Score=%{x}<br>Average Functional Score=%{y}<br>Feature=%{text}<extra></extra>",
         "legendgroup": "",
         "marker": {
          "color": "#636efa",
          "symbol": "circle"
         },
         "mode": "markers+text",
         "name": "",
         "orientation": "v",
         "showlegend": false,
         "text": [
          "Heating System",
          "Air Conditioning",
          "Small Vehicle Cargo Capacity",
          "Large Vehicle Cargo Capacity",
          "Tailorable",
          "ABS",
          "Backing Up Alarm",
          "Headrests and Mirrors",
          "Crash Safety Features",
          "Passenger Capacity",
          "Doors",
          "Anti-theft",
          "Comfort Features",
          "Comfort Features - Space",
          "Comfort Features - Acoustic",
          "Compact Size",
          "Vehicle Aesthetics",
          "General Swappable Batteries",
          "Self-Swappable Batteries",
          "Power Capacity",
          "Rapid Charging",
          "Charging Infrastructure",
          "Battery Enclosure",
          "Solar Panels"
         ],
         "textfont": {
          "size": 14
         },
         "textposition": "bottom right",
         "type": "scatter",
         "x": [
          1.0909090909090908,
          1.5909090909090908,
          1.3181818181818181,
          1.1363636363636365,
          1.3636363636363635,
          2.090909090909091,
          1.0454545454545454,
          2.1818181818181817,
          2.272727272727273,
          0.7727272727272727,
          1.8181818181818181,
          1.7272727272727273,
          1.1363636363636365,
          1.2272727272727273,
          0.9545454545454546,
          1.0454545454545454,
          1.0909090909090908,
          1.6363636363636365,
          1.6363636363636365,
          1.4545454545454546,
          1.0909090909090908,
          2,
          1.6818181818181819,
          1.0909090909090908
         ],
         "xaxis": "x",
         "y": [
          1.2727272727272727,
          2.3636363636363638,
          2.4545454545454546,
          2.4545454545454546,
          2.4545454545454546,
          2.4545454545454546,
          1.6363636363636365,
          2.272727272727273,
          2.3636363636363638,
          2.272727272727273,
          2.3636363636363638,
          2.272727272727273,
          1.5909090909090908,
          2.090909090909091,
          1.8181818181818181,
          2.5454545454545454,
          2.3636363636363638,
          2.727272727272727,
          2.3181818181818183,
          2.5,
          2.5454545454545454,
          2.6363636363636362,
          2.6363636363636362,
          2.227272727272727
         ],
         "yaxis": "y"
        }
       ],
       "layout": {
        "annotations": [
         {
          "font": {
           "color": "LightSeaGreen",
           "family": "Arial",
           "size": 20,
           "weight": "bold"
          },
          "showarrow": false,
          "text": "One-dimensional",
          "x": 3,
          "y": 3.5
         },
         {
          "font": {
           "color": "LightCoral",
           "family": "Arial",
           "size": 20,
           "weight": "bold"
          },
          "showarrow": false,
          "text": "Must-have",
          "x": 3,
          "y": 1
         },
         {
          "font": {
           "color": "Blue",
           "family": "Arial",
           "size": 20,
           "weight": "bold"
          },
          "showarrow": false,
          "text": "Attractive",
          "x": 1,
          "y": 3.5
         },
         {
          "font": {
           "color": "Gray",
           "family": "Arial",
           "size": 20,
           "weight": "bold"
          },
          "showarrow": false,
          "text": "Indifferent",
          "x": 1,
          "y": 1
         }
        ],
        "height": 800,
        "legend": {
         "tracegroupgap": 0
        },
        "shapes": [
         {
          "fillcolor": "PaleTurquoise",
          "layer": "below",
          "line": {
           "color": "LightSeaGreen"
          },
          "opacity": 0.3,
          "type": "rect",
          "x0": 2,
          "x1": 4,
          "y0": 2,
          "y1": 4
         },
         {
          "fillcolor": "LightSalmon",
          "layer": "below",
          "line": {
           "color": "LightCoral"
          },
          "opacity": 0.3,
          "type": "rect",
          "x0": 2,
          "x1": 4,
          "y0": 0,
          "y1": 2
         },
         {
          "fillcolor": "LightSteelBlue",
          "layer": "below",
          "line": {
           "color": "LightBlue"
          },
          "opacity": 0.3,
          "type": "rect",
          "x0": 0,
          "x1": 2,
          "y0": 2,
          "y1": 4
         },
         {
          "fillcolor": "LightGray",
          "layer": "below",
          "line": {
           "color": "Gray"
          },
          "opacity": 0.3,
          "type": "rect",
          "x0": 0,
          "x1": 2,
          "y0": 0,
          "y1": 2
         }
        ],
        "template": {
         "data": {
          "bar": [
           {
            "error_x": {
             "color": "#2a3f5f"
            },
            "error_y": {
             "color": "#2a3f5f"
            },
            "marker": {
             "line": {
              "color": "#E5ECF6",
              "width": 0.5
             },
             "pattern": {
              "fillmode": "overlay",
              "size": 10,
              "solidity": 0.2
             }
            },
            "type": "bar"
           }
          ],
          "barpolar": [
           {
            "marker": {
             "line": {
              "color": "#E5ECF6",
              "width": 0.5
             },
             "pattern": {
              "fillmode": "overlay",
              "size": 10,
              "solidity": 0.2
             }
            },
            "type": "barpolar"
           }
          ],
          "carpet": [
           {
            "aaxis": {
             "endlinecolor": "#2a3f5f",
             "gridcolor": "white",
             "linecolor": "white",
             "minorgridcolor": "white",
             "startlinecolor": "#2a3f5f"
            },
            "baxis": {
             "endlinecolor": "#2a3f5f",
             "gridcolor": "white",
             "linecolor": "white",
             "minorgridcolor": "white",
             "startlinecolor": "#2a3f5f"
            },
            "type": "carpet"
           }
          ],
          "choropleth": [
           {
            "colorbar": {
             "outlinewidth": 0,
             "ticks": ""
            },
            "type": "choropleth"
           }
          ],
          "contour": [
           {
            "colorbar": {
             "outlinewidth": 0,
             "ticks": ""
            },
            "colorscale": [
             [
              0,
              "#0d0887"
             ],
             [
              0.1111111111111111,
              "#46039f"
             ],
             [
              0.2222222222222222,
              "#7201a8"
             ],
             [
              0.3333333333333333,
              "#9c179e"
             ],
             [
              0.4444444444444444,
              "#bd3786"
             ],
             [
              0.5555555555555556,
              "#d8576b"
             ],
             [
              0.6666666666666666,
              "#ed7953"
             ],
             [
              0.7777777777777778,
              "#fb9f3a"
             ],
             [
              0.8888888888888888,
              "#fdca26"
             ],
             [
              1,
              "#f0f921"
             ]
            ],
            "type": "contour"
           }
          ],
          "contourcarpet": [
           {
            "colorbar": {
             "outlinewidth": 0,
             "ticks": ""
            },
            "type": "contourcarpet"
           }
          ],
          "heatmap": [
           {
            "colorbar": {
             "outlinewidth": 0,
             "ticks": ""
            },
            "colorscale": [
             [
              0,
              "#0d0887"
             ],
             [
              0.1111111111111111,
              "#46039f"
             ],
             [
              0.2222222222222222,
              "#7201a8"
             ],
             [
              0.3333333333333333,
              "#9c179e"
             ],
             [
              0.4444444444444444,
              "#bd3786"
             ],
             [
              0.5555555555555556,
              "#d8576b"
             ],
             [
              0.6666666666666666,
              "#ed7953"
             ],
             [
              0.7777777777777778,
              "#fb9f3a"
             ],
             [
              0.8888888888888888,
              "#fdca26"
             ],
             [
              1,
              "#f0f921"
             ]
            ],
            "type": "heatmap"
           }
          ],
          "heatmapgl": [
           {
            "colorbar": {
             "outlinewidth": 0,
             "ticks": ""
            },
            "colorscale": [
             [
              0,
              "#0d0887"
             ],
             [
              0.1111111111111111,
              "#46039f"
             ],
             [
              0.2222222222222222,
              "#7201a8"
             ],
             [
              0.3333333333333333,
              "#9c179e"
             ],
             [
              0.4444444444444444,
              "#bd3786"
             ],
             [
              0.5555555555555556,
              "#d8576b"
             ],
             [
              0.6666666666666666,
              "#ed7953"
             ],
             [
              0.7777777777777778,
              "#fb9f3a"
             ],
             [
              0.8888888888888888,
              "#fdca26"
             ],
             [
              1,
              "#f0f921"
             ]
            ],
            "type": "heatmapgl"
           }
          ],
          "histogram": [
           {
            "marker": {
             "pattern": {
              "fillmode": "overlay",
              "size": 10,
              "solidity": 0.2
             }
            },
            "type": "histogram"
           }
          ],
          "histogram2d": [
           {
            "colorbar": {
             "outlinewidth": 0,
             "ticks": ""
            },
            "colorscale": [
             [
              0,
              "#0d0887"
             ],
             [
              0.1111111111111111,
              "#46039f"
             ],
             [
              0.2222222222222222,
              "#7201a8"
             ],
             [
              0.3333333333333333,
              "#9c179e"
             ],
             [
              0.4444444444444444,
              "#bd3786"
             ],
             [
              0.5555555555555556,
              "#d8576b"
             ],
             [
              0.6666666666666666,
              "#ed7953"
             ],
             [
              0.7777777777777778,
              "#fb9f3a"
             ],
             [
              0.8888888888888888,
              "#fdca26"
             ],
             [
              1,
              "#f0f921"
             ]
            ],
            "type": "histogram2d"
           }
          ],
          "histogram2dcontour": [
           {
            "colorbar": {
             "outlinewidth": 0,
             "ticks": ""
            },
            "colorscale": [
             [
              0,
              "#0d0887"
             ],
             [
              0.1111111111111111,
              "#46039f"
             ],
             [
              0.2222222222222222,
              "#7201a8"
             ],
             [
              0.3333333333333333,
              "#9c179e"
             ],
             [
              0.4444444444444444,
              "#bd3786"
             ],
             [
              0.5555555555555556,
              "#d8576b"
             ],
             [
              0.6666666666666666,
              "#ed7953"
             ],
             [
              0.7777777777777778,
              "#fb9f3a"
             ],
             [
              0.8888888888888888,
              "#fdca26"
             ],
             [
              1,
              "#f0f921"
             ]
            ],
            "type": "histogram2dcontour"
           }
          ],
          "mesh3d": [
           {
            "colorbar": {
             "outlinewidth": 0,
             "ticks": ""
            },
            "type": "mesh3d"
           }
          ],
          "parcoords": [
           {
            "line": {
             "colorbar": {
              "outlinewidth": 0,
              "ticks": ""
             }
            },
            "type": "parcoords"
           }
          ],
          "pie": [
           {
            "automargin": true,
            "type": "pie"
           }
          ],
          "scatter": [
           {
            "fillpattern": {
             "fillmode": "overlay",
             "size": 10,
             "solidity": 0.2
            },
            "type": "scatter"
           }
          ],
          "scatter3d": [
           {
            "line": {
             "colorbar": {
              "outlinewidth": 0,
              "ticks": ""
             }
            },
            "marker": {
             "colorbar": {
              "outlinewidth": 0,
              "ticks": ""
             }
            },
            "type": "scatter3d"
           }
          ],
          "scattercarpet": [
           {
            "marker": {
             "colorbar": {
              "outlinewidth": 0,
              "ticks": ""
             }
            },
            "type": "scattercarpet"
           }
          ],
          "scattergeo": [
           {
            "marker": {
             "colorbar": {
              "outlinewidth": 0,
              "ticks": ""
             }
            },
            "type": "scattergeo"
           }
          ],
          "scattergl": [
           {
            "marker": {
             "colorbar": {
              "outlinewidth": 0,
              "ticks": ""
             }
            },
            "type": "scattergl"
           }
          ],
          "scattermapbox": [
           {
            "marker": {
             "colorbar": {
              "outlinewidth": 0,
              "ticks": ""
             }
            },
            "type": "scattermapbox"
           }
          ],
          "scatterpolar": [
           {
            "marker": {
             "colorbar": {
              "outlinewidth": 0,
              "ticks": ""
             }
            },
            "type": "scatterpolar"
           }
          ],
          "scatterpolargl": [
           {
            "marker": {
             "colorbar": {
              "outlinewidth": 0,
              "ticks": ""
             }
            },
            "type": "scatterpolargl"
           }
          ],
          "scatterternary": [
           {
            "marker": {
             "colorbar": {
              "outlinewidth": 0,
              "ticks": ""
             }
            },
            "type": "scatterternary"
           }
          ],
          "surface": [
           {
            "colorbar": {
             "outlinewidth": 0,
             "ticks": ""
            },
            "colorscale": [
             [
              0,
              "#0d0887"
             ],
             [
              0.1111111111111111,
              "#46039f"
             ],
             [
              0.2222222222222222,
              "#7201a8"
             ],
             [
              0.3333333333333333,
              "#9c179e"
             ],
             [
              0.4444444444444444,
              "#bd3786"
             ],
             [
              0.5555555555555556,
              "#d8576b"
             ],
             [
              0.6666666666666666,
              "#ed7953"
             ],
             [
              0.7777777777777778,
              "#fb9f3a"
             ],
             [
              0.8888888888888888,
              "#fdca26"
             ],
             [
              1,
              "#f0f921"
             ]
            ],
            "type": "surface"
           }
          ],
          "table": [
           {
            "cells": {
             "fill": {
              "color": "#EBF0F8"
             },
             "line": {
              "color": "white"
             }
            },
            "header": {
             "fill": {
              "color": "#C8D4E3"
             },
             "line": {
              "color": "white"
             }
            },
            "type": "table"
           }
          ]
         },
         "layout": {
          "annotationdefaults": {
           "arrowcolor": "#2a3f5f",
           "arrowhead": 0,
           "arrowwidth": 1
          },
          "autotypenumbers": "strict",
          "coloraxis": {
           "colorbar": {
            "outlinewidth": 0,
            "ticks": ""
           }
          },
          "colorscale": {
           "diverging": [
            [
             0,
             "#8e0152"
            ],
            [
             0.1,
             "#c51b7d"
            ],
            [
             0.2,
             "#de77ae"
            ],
            [
             0.3,
             "#f1b6da"
            ],
            [
             0.4,
             "#fde0ef"
            ],
            [
             0.5,
             "#f7f7f7"
            ],
            [
             0.6,
             "#e6f5d0"
            ],
            [
             0.7,
             "#b8e186"
            ],
            [
             0.8,
             "#7fbc41"
            ],
            [
             0.9,
             "#4d9221"
            ],
            [
             1,
             "#276419"
            ]
           ],
           "sequential": [
            [
             0,
             "#0d0887"
            ],
            [
             0.1111111111111111,
             "#46039f"
            ],
            [
             0.2222222222222222,
             "#7201a8"
            ],
            [
             0.3333333333333333,
             "#9c179e"
            ],
            [
             0.4444444444444444,
             "#bd3786"
            ],
            [
             0.5555555555555556,
             "#d8576b"
            ],
            [
             0.6666666666666666,
             "#ed7953"
            ],
            [
             0.7777777777777778,
             "#fb9f3a"
            ],
            [
             0.8888888888888888,
             "#fdca26"
            ],
            [
             1,
             "#f0f921"
            ]
           ],
           "sequentialminus": [
            [
             0,
             "#0d0887"
            ],
            [
             0.1111111111111111,
             "#46039f"
            ],
            [
             0.2222222222222222,
             "#7201a8"
            ],
            [
             0.3333333333333333,
             "#9c179e"
            ],
            [
             0.4444444444444444,
             "#bd3786"
            ],
            [
             0.5555555555555556,
             "#d8576b"
            ],
            [
             0.6666666666666666,
             "#ed7953"
            ],
            [
             0.7777777777777778,
             "#fb9f3a"
            ],
            [
             0.8888888888888888,
             "#fdca26"
            ],
            [
             1,
             "#f0f921"
            ]
           ]
          },
          "colorway": [
           "#636efa",
           "#EF553B",
           "#00cc96",
           "#ab63fa",
           "#FFA15A",
           "#19d3f3",
           "#FF6692",
           "#B6E880",
           "#FF97FF",
           "#FECB52"
          ],
          "font": {
           "color": "#2a3f5f"
          },
          "geo": {
           "bgcolor": "white",
           "lakecolor": "white",
           "landcolor": "#E5ECF6",
           "showlakes": true,
           "showland": true,
           "subunitcolor": "white"
          },
          "hoverlabel": {
           "align": "left"
          },
          "hovermode": "closest",
          "mapbox": {
           "style": "light"
          },
          "paper_bgcolor": "white",
          "plot_bgcolor": "#E5ECF6",
          "polar": {
           "angularaxis": {
            "gridcolor": "white",
            "linecolor": "white",
            "ticks": ""
           },
           "bgcolor": "#E5ECF6",
           "radialaxis": {
            "gridcolor": "white",
            "linecolor": "white",
            "ticks": ""
           }
          },
          "scene": {
           "xaxis": {
            "backgroundcolor": "#E5ECF6",
            "gridcolor": "white",
            "gridwidth": 2,
            "linecolor": "white",
            "showbackground": true,
            "ticks": "",
            "zerolinecolor": "white"
           },
           "yaxis": {
            "backgroundcolor": "#E5ECF6",
            "gridcolor": "white",
            "gridwidth": 2,
            "linecolor": "white",
            "showbackground": true,
            "ticks": "",
            "zerolinecolor": "white"
           },
           "zaxis": {
            "backgroundcolor": "#E5ECF6",
            "gridcolor": "white",
            "gridwidth": 2,
            "linecolor": "white",
            "showbackground": true,
            "ticks": "",
            "zerolinecolor": "white"
           }
          },
          "shapedefaults": {
           "line": {
            "color": "#2a3f5f"
           }
          },
          "ternary": {
           "aaxis": {
            "gridcolor": "white",
            "linecolor": "white",
            "ticks": ""
           },
           "baxis": {
            "gridcolor": "white",
            "linecolor": "white",
            "ticks": ""
           },
           "bgcolor": "#E5ECF6",
           "caxis": {
            "gridcolor": "white",
            "linecolor": "white",
            "ticks": ""
           }
          },
          "title": {
           "x": 0.05
          },
          "xaxis": {
           "automargin": true,
           "gridcolor": "white",
           "linecolor": "white",
           "ticks": "",
           "title": {
            "standoff": 15
           },
           "zerolinecolor": "white",
           "zerolinewidth": 2
          },
          "yaxis": {
           "automargin": true,
           "gridcolor": "white",
           "linecolor": "white",
           "ticks": "",
           "title": {
            "standoff": 15
           },
           "zerolinecolor": "white",
           "zerolinewidth": 2
          }
         }
        },
        "title": {
         "text": "Kano Model: Functional vs. Dysfunctional Scores"
        },
        "width": 1400,
        "xaxis": {
         "anchor": "y",
         "domain": [
          0,
          1
         ],
         "tickfont": {
          "size": 18
         },
         "ticktext": [
          "Like",
          "Must-be",
          "Neutral",
          "Tolerate",
          "Dislike"
         ],
         "tickvals": [
          -2,
          -1,
          0,
          2,
          4
         ],
         "title": {
          "font": {
           "size": 20
          },
          "text": "Dysfunctional"
         }
        },
        "yaxis": {
         "anchor": "x",
         "domain": [
          0,
          1
         ],
         "tickfont": {
          "size": 18
         },
         "ticktext": [
          "Dislike",
          "Tolerate",
          "Neutral",
          "Expect it",
          "Like"
         ],
         "tickvals": [
          -2,
          -1,
          0,
          2,
          4
         ],
         "title": {
          "font": {
           "size": 20
          },
          "text": "Functional"
         }
        }
       }
      }
     },
     "metadata": {},
     "output_type": "display_data"
    }
   ],
   "source": [
    "def plot_kano_results_with_errors(df_averages, plot_title='Kano Model with Errors'):\n",
    "    \"\"\"Plots Kano results using Plotly with error bars for functional and dysfunctional scores.\"\"\"\n",
    "    fig = px.scatter(df_averages,\n",
    "                     x='Average Dysfunctional Score',\n",
    "                     y='Average Functional Score',\n",
    "                     text='Feature', \n",
    "                     title=plot_title,\n",
    "                     error_x='Dysfunctional StdDev',  # Add standard deviation for dysfunctional scores\n",
    "                     error_y='Functional StdDev')  # Add standard deviation for functional scores\n",
    "\n",
    "   \n",
    "\n",
    "# Step 6: Calculate Kano averages\n",
    "df_averages = calculate_kano_averages(df_kano, feature_names)\n",
    "\n",
    "\n",
    "# Step 7: Plot Kano results with standard deviations\n",
    "plot_kano_results(df_averages)"
   ]
  },
  {
   "cell_type": "code",
   "execution_count": 10,
   "metadata": {},
   "outputs": [],
   "source": [
    "#plot_interactive_scatter_for_feature(df_kano, 'Doors')"
   ]
  },
  {
   "cell_type": "code",
   "execution_count": 11,
   "metadata": {},
   "outputs": [
    {
     "name": "stderr",
     "output_type": "stream",
     "text": [
      "c:\\Users\\TomiNordi2m\\OneDrive - i2m Unternehmensentwicklung GmbH\\Documents\\Python\\GIANTS Survey Data Analysis\\GIANTS_kano_analysis.py:109: UserWarning:\n",
      "\n",
      "No artists with labels found to put in legend.  Note that artists whose label start with an underscore are ignored when legend() is called with no argument.\n",
      "\n",
      "c:\\Users\\TomiNordi2m\\OneDrive - i2m Unternehmensentwicklung GmbH\\Documents\\Python\\GIANTS Survey Data Analysis\\GIANTS_kano_analysis.py:112: UserWarning:\n",
      "\n",
      "Tight layout not applied. The bottom and top margins cannot be made large enough to accommodate all Axes decorations.\n",
      "\n"
     ]
    },
    {
     "data": {
      "image/png": "[encoded data removed]",
      "text/plain": [
       "<Figure size 1200x1000 with 1 Axes>"
      ]
     },
     "metadata": {},
     "output_type": "display_data"
    }
   ],
   "source": [
    "#Standard Deviations of Features\n",
    "plot_feature_means_with_std(df_averages)\n"
   ]
  },
  {
   "cell_type": "code",
   "execution_count": 12,
   "metadata": {},
   "outputs": [],
   "source": [
    "# Step 8: Plot Kano analysis for each age group (set show_plot to False to avoid showing)\n",
    "#plot_kano_by_age_group(df, df_kano, feature_names)"
   ]
  },
  {
   "cell_type": "code",
   "execution_count": 13,
   "metadata": {},
   "outputs": [],
   "source": [
    "#kano_analysis_for_students(df, df_kano, feature_names)"
   ]
  },
  {
   "cell_type": "code",
   "execution_count": 14,
   "metadata": {},
   "outputs": [],
   "source": [
    "\n",
    "# Step 9: Plot the market distribution\n",
    "#plot_market_distribution(df)\n",
    "\n",
    "\n",
    "# Plot age distribution\n",
    "#plot_age_distribution(df)\n",
    "\n",
    "# Plot income distribution\n",
    "#plot_income_distribution(df)\n",
    "\n",
    "#Plot user type distribution\n",
    "#plot_user_type_distribution(df)\n",
    "\n",
    "\n",
    "#df = apply_persona_classification(df)\n",
    "\n",
    "# Print the first few rows to check the classified personas\n",
    "#print(df[['Persona']].head(20))"
   ]
  },
  {
   "cell_type": "code",
   "execution_count": 15,
   "metadata": {},
   "outputs": [
    {
     "ename": "KeyError",
     "evalue": "\"None of [Index(['age', 'market', 'gender', 'city_type', 'user_type', 'education',\\n       'income', 'mode', 'purpose'],\\n      dtype='object')] are in the [columns]\"",
     "output_type": "error",
     "traceback": [
      "\u001b[1;31m---------------------------------------------------------------------------\u001b[0m",
      "\u001b[1;31mKeyError\u001b[0m                                  Traceback (most recent call last)",
      "Cell \u001b[1;32mIn[15], line 2\u001b[0m\n\u001b[0;32m      1\u001b[0m \u001b[38;5;66;03m# Preprocess specifically for clustering (inside the clustering module)\u001b[39;00m\n\u001b[1;32m----> 2\u001b[0m df_scaled, df_encoded \u001b[38;5;241m=\u001b[39m \u001b[43mpreprocess_for_clustering\u001b[49m\u001b[43m(\u001b[49m\u001b[43mdf\u001b[49m\u001b[43m)\u001b[49m\n\u001b[0;32m      4\u001b[0m \u001b[38;5;66;03m# Perform clustering\u001b[39;00m\n\u001b[0;32m      5\u001b[0m df_with_clusters \u001b[38;5;241m=\u001b[39m perform_clustering(df_scaled, df_encoded)\n",
      "File \u001b[1;32mc:\\Users\\TomiNordi2m\\OneDrive - i2m Unternehmensentwicklung GmbH\\Documents\\Python\\GIANTS Survey Data Analysis\\GIANTS_clustering.py:23\u001b[0m, in \u001b[0;36mpreprocess_for_clustering\u001b[1;34m(df)\u001b[0m\n\u001b[0;32m     21\u001b[0m \u001b[38;5;66;03m# Apply OneHotEncoder to the categorical columns\u001b[39;00m\n\u001b[0;32m     22\u001b[0m encoder \u001b[38;5;241m=\u001b[39m OneHotEncoder(drop\u001b[38;5;241m=\u001b[39m\u001b[38;5;124m'\u001b[39m\u001b[38;5;124mfirst\u001b[39m\u001b[38;5;124m'\u001b[39m, sparse_output\u001b[38;5;241m=\u001b[39m\u001b[38;5;28;01mFalse\u001b[39;00m)  \u001b[38;5;66;03m# Drop first to avoid collinearity\u001b[39;00m\n\u001b[1;32m---> 23\u001b[0m encoded_data \u001b[38;5;241m=\u001b[39m encoder\u001b[38;5;241m.\u001b[39mfit_transform(\u001b[43mdf\u001b[49m\u001b[43m[\u001b[49m\u001b[43mcategorical_columns\u001b[49m\u001b[43m]\u001b[49m)\n\u001b[0;32m     25\u001b[0m \u001b[38;5;66;03m# Create a DataFrame with encoded data\u001b[39;00m\n\u001b[0;32m     26\u001b[0m df_encoded \u001b[38;5;241m=\u001b[39m pd\u001b[38;5;241m.\u001b[39mDataFrame(encoded_data, columns\u001b[38;5;241m=\u001b[39mencoder\u001b[38;5;241m.\u001b[39mget_feature_names_out(categorical_columns))\n",
      "File \u001b[1;32mc:\\Users\\TomiNordi2m\\AppData\\Local\\Programs\\Python\\Python312\\Lib\\site-packages\\pandas\\core\\frame.py:4108\u001b[0m, in \u001b[0;36mDataFrame.__getitem__\u001b[1;34m(self, key)\u001b[0m\n\u001b[0;32m   4106\u001b[0m     \u001b[38;5;28;01mif\u001b[39;00m is_iterator(key):\n\u001b[0;32m   4107\u001b[0m         key \u001b[38;5;241m=\u001b[39m \u001b[38;5;28mlist\u001b[39m(key)\n\u001b[1;32m-> 4108\u001b[0m     indexer \u001b[38;5;241m=\u001b[39m \u001b[38;5;28;43mself\u001b[39;49m\u001b[38;5;241;43m.\u001b[39;49m\u001b[43mcolumns\u001b[49m\u001b[38;5;241;43m.\u001b[39;49m\u001b[43m_get_indexer_strict\u001b[49m\u001b[43m(\u001b[49m\u001b[43mkey\u001b[49m\u001b[43m,\u001b[49m\u001b[43m \u001b[49m\u001b[38;5;124;43m\"\u001b[39;49m\u001b[38;5;124;43mcolumns\u001b[39;49m\u001b[38;5;124;43m\"\u001b[39;49m\u001b[43m)\u001b[49m[\u001b[38;5;241m1\u001b[39m]\n\u001b[0;32m   4110\u001b[0m \u001b[38;5;66;03m# take() does not accept boolean indexers\u001b[39;00m\n\u001b[0;32m   4111\u001b[0m \u001b[38;5;28;01mif\u001b[39;00m \u001b[38;5;28mgetattr\u001b[39m(indexer, \u001b[38;5;124m\"\u001b[39m\u001b[38;5;124mdtype\u001b[39m\u001b[38;5;124m\"\u001b[39m, \u001b[38;5;28;01mNone\u001b[39;00m) \u001b[38;5;241m==\u001b[39m \u001b[38;5;28mbool\u001b[39m:\n",
      "File \u001b[1;32mc:\\Users\\TomiNordi2m\\AppData\\Local\\Programs\\Python\\Python312\\Lib\\site-packages\\pandas\\core\\indexes\\base.py:6200\u001b[0m, in \u001b[0;36mIndex._get_indexer_strict\u001b[1;34m(self, key, axis_name)\u001b[0m\n\u001b[0;32m   6197\u001b[0m \u001b[38;5;28;01melse\u001b[39;00m:\n\u001b[0;32m   6198\u001b[0m     keyarr, indexer, new_indexer \u001b[38;5;241m=\u001b[39m \u001b[38;5;28mself\u001b[39m\u001b[38;5;241m.\u001b[39m_reindex_non_unique(keyarr)\n\u001b[1;32m-> 6200\u001b[0m \u001b[38;5;28;43mself\u001b[39;49m\u001b[38;5;241;43m.\u001b[39;49m\u001b[43m_raise_if_missing\u001b[49m\u001b[43m(\u001b[49m\u001b[43mkeyarr\u001b[49m\u001b[43m,\u001b[49m\u001b[43m \u001b[49m\u001b[43mindexer\u001b[49m\u001b[43m,\u001b[49m\u001b[43m \u001b[49m\u001b[43maxis_name\u001b[49m\u001b[43m)\u001b[49m\n\u001b[0;32m   6202\u001b[0m keyarr \u001b[38;5;241m=\u001b[39m \u001b[38;5;28mself\u001b[39m\u001b[38;5;241m.\u001b[39mtake(indexer)\n\u001b[0;32m   6203\u001b[0m \u001b[38;5;28;01mif\u001b[39;00m \u001b[38;5;28misinstance\u001b[39m(key, Index):\n\u001b[0;32m   6204\u001b[0m     \u001b[38;5;66;03m# GH 42790 - Preserve name from an Index\u001b[39;00m\n",
      "File \u001b[1;32mc:\\Users\\TomiNordi2m\\AppData\\Local\\Programs\\Python\\Python312\\Lib\\site-packages\\pandas\\core\\indexes\\base.py:6249\u001b[0m, in \u001b[0;36mIndex._raise_if_missing\u001b[1;34m(self, key, indexer, axis_name)\u001b[0m\n\u001b[0;32m   6247\u001b[0m \u001b[38;5;28;01mif\u001b[39;00m nmissing:\n\u001b[0;32m   6248\u001b[0m     \u001b[38;5;28;01mif\u001b[39;00m nmissing \u001b[38;5;241m==\u001b[39m \u001b[38;5;28mlen\u001b[39m(indexer):\n\u001b[1;32m-> 6249\u001b[0m         \u001b[38;5;28;01mraise\u001b[39;00m \u001b[38;5;167;01mKeyError\u001b[39;00m(\u001b[38;5;124mf\u001b[39m\u001b[38;5;124m\"\u001b[39m\u001b[38;5;124mNone of [\u001b[39m\u001b[38;5;132;01m{\u001b[39;00mkey\u001b[38;5;132;01m}\u001b[39;00m\u001b[38;5;124m] are in the [\u001b[39m\u001b[38;5;132;01m{\u001b[39;00maxis_name\u001b[38;5;132;01m}\u001b[39;00m\u001b[38;5;124m]\u001b[39m\u001b[38;5;124m\"\u001b[39m)\n\u001b[0;32m   6251\u001b[0m     not_found \u001b[38;5;241m=\u001b[39m \u001b[38;5;28mlist\u001b[39m(ensure_index(key)[missing_mask\u001b[38;5;241m.\u001b[39mnonzero()[\u001b[38;5;241m0\u001b[39m]]\u001b[38;5;241m.\u001b[39munique())\n\u001b[0;32m   6252\u001b[0m     \u001b[38;5;28;01mraise\u001b[39;00m \u001b[38;5;167;01mKeyError\u001b[39;00m(\u001b[38;5;124mf\u001b[39m\u001b[38;5;124m\"\u001b[39m\u001b[38;5;132;01m{\u001b[39;00mnot_found\u001b[38;5;132;01m}\u001b[39;00m\u001b[38;5;124m not in index\u001b[39m\u001b[38;5;124m\"\u001b[39m)\n",
      "\u001b[1;31mKeyError\u001b[0m: \"None of [Index(['age', 'market', 'gender', 'city_type', 'user_type', 'education',\\n       'income', 'mode', 'purpose'],\\n      dtype='object')] are in the [columns]\""
     ]
    }
   ],
   "source": [
    "# Preprocess specifically for clustering (inside the clustering module)\n",
    "df_scaled, df_encoded = preprocess_for_clustering(df)\n",
    "\n",
    "# Perform clustering\n",
    "df_with_clusters = perform_clustering(df_scaled, df_encoded)\n",
    "\n",
    "# Plot the elbow method to find the optimal number of clusters\n",
    "plot_elbow_method(df_scaled, max_clusters=10)\n",
    "\n",
    "\n"
   ]
  },
  {
   "cell_type": "code",
   "execution_count": null,
   "metadata": {},
   "outputs": [
    {
     "ename": "NameError",
     "evalue": "name 'pca_and_visualize' is not defined",
     "output_type": "error",
     "traceback": [
      "\u001b[1;31m---------------------------------------------------------------------------\u001b[0m",
      "\u001b[1;31mNameError\u001b[0m                                 Traceback (most recent call last)",
      "Cell \u001b[1;32mIn[9], line 3\u001b[0m\n\u001b[0;32m      1\u001b[0m \u001b[38;5;66;03m# 4. Visualize clusters using PCA\u001b[39;00m\n\u001b[1;32m----> 3\u001b[0m pca, df_pca \u001b[38;5;241m=\u001b[39m \u001b[43mpca_and_visualize\u001b[49m(df_scaled, df_with_clusters)\n",
      "\u001b[1;31mNameError\u001b[0m: name 'pca_and_visualize' is not defined"
     ]
    }
   ],
   "source": [
    "# 4. Visualize clusters using PCA\n",
    "\n",
    "pca, df_pca = pca_and_visualize(df_scaled, df_with_clusters)\n"
   ]
  },
  {
   "cell_type": "code",
   "execution_count": null,
   "metadata": {},
   "outputs": [
    {
     "data": {
      "image/png": "[encoded data removed]",
      "text/plain": [
       "<Figure size 1400x500 with 2 Axes>"
      ]
     },
     "metadata": {},
     "output_type": "display_data"
    }
   ],
   "source": [
    "import seaborn as sns\n",
    "import matplotlib.pyplot as plt\n",
    "\n",
    "# Group by cluster and compute the mean of each feature to see the average profile per cluster\n",
    "cluster_summary = df_with_clusters.groupby('cluster').mean()\n",
    "\n",
    "# Create a heatmap for cluster characteristics with smaller cells and without numbers inside\n",
    "plt.figure(figsize=(14, 5))  # Adjust the figure size to make cells less tall\n",
    "sns.heatmap(cluster_summary, cmap='viridis', annot=False, linewidths=0.5, cbar=True)  # Set annot to False to remove numbers inside\n",
    "plt.title('Cluster Characteristics Heatmap')\n",
    "plt.xlabel('Features')\n",
    "plt.ylabel('Cluster')\n",
    "plt.xticks(rotation=90)\n",
    "plt.show()\n",
    "\n"
   ]
  },
  {
   "cell_type": "code",
   "execution_count": null,
   "metadata": {},
   "outputs": [
    {
     "data": {
      "application/vnd.plotly.v1+json": {
       "config": {
        "plotlyServerURL": "https://plot.ly"
       },
       "data": [
        {
         "hovertemplate": "cluster=3<br>PCA Component 1=%{x}<br>PCA Component 2=%{y}<br>PCA Component 3=%{z}<extra></extra>",
         "legendgroup": "3",
         "marker": {
          "color": "rgb(228,26,28)",
          "symbol": "circle"
         },
         "mode": "markers",
         "name": "3",
         "scene": "scene",
         "showlegend": true,
         "type": "scatter3d",
         "x": [
          1.290252541018852,
          1.9465982783840972,
          1.5839696899272815,
          1.1962600606677782,
          2.4494081120148423,
          1.3119858101235127,
          0.7313877533128932,
          1.586275714826542,
          1.3867731959928145,
          3.3962027510628836,
          1.4199304474622458,
          1.5975784305395733,
          2.7980688825590265,
          1.7631035919395015,
          0.929312085414673,
          2.502040530095286,
          3.0012335963067476,
          1.41101328773403,
          1.1756815334372235,
          2.8496626301166366,
          1.3595807259331645,
          1.1639580399888074,
          1.9491155322304652,
          1.5679089717615697,
          0.887343722939742,
          0.23864337467025634,
          1.091701275415695,
          1.9899024803083734,
          2.586144171862388,
          0.7159753252714999,
          1.08554451118614,
          2.0729472643934588,
          0.5841311433753991,
          2.6440273974820236,
          1.2048827402550828,
          1.5818929319419273,
          1.5353859165887391,
          1.2956844989649192,
          0.08227616691761214,
          3.630023452847755,
          1.8844709046181907,
          1.2799769833259598,
          3.158061499973245,
          2.016240393361981,
          0.592445124534465,
          2.5400251010623287,
          1.6072527114115878,
          0.3820055836654775,
          3.2720730241632605,
          1.440098383405372,
          0.7095652202357164,
          1.5842398784029248,
          2.257419220782318,
          0.9853539760840959,
          1.936079203357393,
          0.4752943589930361,
          3.185531442064773,
          1.1606383032028798,
          1.5560372338868278,
          2.214364638345115,
          2.6367851267763935,
          2.5371372892841753,
          2.2238088134676763,
          1.2603065477381974,
          0.6727815831092048,
          1.0758050335351104,
          1.8511490004274014,
          0.716123894201759,
          1.999069886429254,
          0.4206820780677419,
          1.0173502135081733,
          1.6134159193333226,
          1.114611010782861,
          0.9440608802677916,
          1.5698966958431713,
          2.9796879586407017,
          1.8420084702292165,
          1.6804970821342098,
          1.8927352203103047,
          1.7059194281225836,
          0.5393676039016789,
          1.0448455262106067
         ],
         "y": [
          0.07455284569763633,
          -1.00548321005243,
          1.720770023832745,
          0.3932335303245022,
          0.21094430392136507,
          1.5650424250567316,
          -0.28642022469887474,
          1.4992316747094527,
          0.0970698213787167,
          0.955878937436175,
          -0.044490640370541894,
          0.16060578444571938,
          0.6256175748806652,
          -0.5613826416631049,
          -0.8747029956758964,
          0.631356721276069,
          -0.6351294143463989,
          -1.871232078226435,
          1.0146102192377704,
          0.20782700108064717,
          0.41918481727737805,
          -0.27969870691095405,
          -0.08155953824189532,
          0.2945156523527356,
          1.7569348291377016,
          -1.7133292308736257,
          0.27961509689970354,
          0.3078801380687154,
          0.4117998712889124,
          0.5770463803255097,
          -2.5793339293691715,
          -0.5787906782675205,
          -2.641005848399623,
          0.17966237549120162,
          0.5663683420999589,
          -1.515910761241897,
          -0.005080279926782397,
          -0.5269804061898383,
          -1.7315381742087594,
          0.2232078386261527,
          0.5860290017824892,
          1.063323444499647,
          0.7232552945584415,
          0.41263338394166404,
          0.26987649363909383,
          0.04034360624076897,
          0.6918360137808952,
          0.9081774188176606,
          0.1800468487349344,
          0.9049927763349633,
          0.7568341668195352,
          0.5822507148790919,
          1.3209296277363909,
          -2.6563862478449383,
          0.23038489032052104,
          -0.34604937092285526,
          0.03509316237766692,
          1.1320692919301207,
          -0.5037847725429075,
          -0.886072922229136,
          0.28615853376141304,
          0.5593495945793311,
          0.9390049674300195,
          0.6396903147555957,
          -0.1443572101887707,
          1.678383157227382,
          0.8853689922330056,
          0.47513967750501246,
          -0.5311593129429341,
          1.0666615257000074,
          0.4186296967985553,
          1.2797400854470395,
          -1.625924318323007,
          -1.3010561372695626,
          -0.21827322000769442,
          1.4738648832076544,
          1.2715691798432567,
          2.167954018369482,
          0.7731312095823005,
          1.0691815273153555,
          1.231965367885287,
          1.042709694701691
         ],
         "z": [
          0.3549516500171273,
          -0.22628280083544547,
          -1.1930489967260558,
          0.3346009808583405,
          -0.28140263847999725,
          1.2352478543938772,
          -0.4441551501777643,
          0.8137774499063951,
          0.28471597560030587,
          -1.8744064181402023,
          -1.2059018148025311,
          -0.3425150207676868,
          -0.1117056798901091,
          -0.727802208549345,
          -3.9151680220679634,
          0.08731468738637532,
          -2.8806023352422105,
          -0.7376528926312657,
          -1.229247927030306,
          -0.22030557023689074,
          0.20731130722512955,
          -0.7464566548861766,
          -0.17718459823046442,
          -0.15641542650969817,
          -2.2092057707488415,
          -1.1742326153921752,
          -0.07701489864402992,
          -0.31593897639431184,
          -2.1708991098978743,
          1.181237460587363,
          1.4710165044770116,
          -1.494830514315507,
          1.2979032281601435,
          -0.5834998142403214,
          -1.2835088060812898,
          -2.62473071000221,
          1.8322665865610235,
          2.1409393288419043,
          -0.7597716652190891,
          -1.4457286843109936,
          -0.053091703261672,
          1.05609127991736,
          -0.32106484806654956,
          -3.5223737286720715,
          -1.0024379162266188,
          1.9254301821910496,
          -1.534368510864666,
          -1.1075809874758444,
          -0.6672688962542639,
          -1.5508950338768006,
          -1.9766126200065885,
          -2.0103828184130754,
          0.9506688844615346,
          -1.153098583361513,
          0.16084067587943018,
          -0.1539582806114708,
          -0.45706891963039975,
          -0.9594921842830235,
          1.7014978676163401,
          1.1097821276660484,
          0.13651563073679035,
          -1.1354114544871392,
          -0.3864367224551779,
          -0.3164887394640318,
          -0.7444543210009139,
          -0.14988655104850965,
          -0.5825059390351371,
          1.131542077847493,
          -0.08373430021519303,
          -0.6588565852400045,
          -0.24715646929368418,
          -1.7057502400742564,
          -0.2023778759125336,
          1.446167976423362,
          0.25380778629421,
          0.7324785969509793,
          -1.9947844667879837,
          -2.57294441559021,
          -1.515623366415183,
          0.6873295806328367,
          -2.7799623992252402,
          0.366813061272729
         ]
        },
        {
         "hovertemplate": "cluster=2<br>PCA Component 1=%{x}<br>PCA Component 2=%{y}<br>PCA Component 3=%{z}<extra></extra>",
         "legendgroup": "2",
         "marker": {
          "color": "rgb(55,126,184)",
          "symbol": "circle"
         },
         "mode": "markers",
         "name": "2",
         "scene": "scene",
         "showlegend": true,
         "type": "scatter3d",
         "x": [
          -0.4302806272114745,
          -3.2025142299729534,
          2.121680246482426e-17,
          -1.0243404231981725,
          -1.41656568319674,
          -1.7585164462451146,
          -2.053638450485943,
          -0.3677736485591545,
          -0.41115285573153254,
          2.121680246482426e-17,
          2.121680246482426e-17,
          -1.6517271037304637,
          -0.7224061080054915,
          0.4828782964983671,
          -2.3381924035887707,
          -0.027383395815711472,
          -2.4205862459249725,
          0.06500293883143696,
          -0.31073150383558634,
          -1.7645135368471063,
          -1.5492655503833197,
          -1.7532214380352746,
          -0.07536514766286843,
          -0.989673366276486,
          0.05381193721798841,
          0.9749806369529553,
          -1.5964425564396219,
          -3.480537648425431,
          0.5747569016582741,
          -2.8803917567655155,
          -2.871427140389187,
          2.121680246482426e-17,
          -1.0912556626109329,
          -0.5410094058303665,
          0.4481765460313544,
          2.121680246482426e-17,
          -2.8592204417077043,
          -0.510313889764218,
          -1.6104114569083732,
          -2.0024941914804413,
          -0.4243228003484863,
          -0.6255116483361337,
          2.121680246482426e-17,
          -1.1105124424890764,
          -1.4778739612622356,
          -0.8806475824996589,
          -0.8064335795107647,
          -0.41390389116064835,
          -2.4569407709086755,
          -1.2516754044838663,
          -1.800679229399786,
          -2.9241955939063926,
          0.6490552041467095,
          -3.475734135704102,
          -2.6876134829552516,
          -2.314121540737264,
          -0.7726694724448698,
          -1.4906467761611732,
          -1.5392344875258246,
          0.973798708125563,
          -2.911661065768334,
          2.121680246482426e-17,
          -0.04716987909700722,
          -1.3982635540909902,
          2.121680246482426e-17,
          2.121680246482426e-17,
          -0.30018316973883113,
          -0.6473162785536909,
          -0.1277031425966669,
          2.121680246482426e-17,
          -1.0414313936208741,
          2.121680246482426e-17,
          2.121680246482426e-17,
          -1.0719257585463944,
          -1.651380952565289,
          -3.0883177635773387,
          2.121680246482426e-17,
          0.6980186423279396,
          -2.1209208232261716,
          2.121680246482426e-17,
          2.121680246482426e-17,
          2.121680246482426e-17,
          2.121680246482426e-17,
          2.121680246482426e-17,
          2.121680246482426e-17,
          2.121680246482426e-17,
          2.121680246482426e-17,
          -0.8377388240676806,
          -2.5443309163444168,
          2.121680246482426e-17,
          -0.22341015908723819,
          2.121680246482426e-17,
          2.121680246482426e-17,
          -2.664688258014486,
          -2.337220545889971,
          2.121680246482426e-17,
          0.23217552737821243,
          0.5906870435650451,
          -1.487676435969558,
          -0.3901690127741777,
          -1.4059967992905453,
          -0.38449075566551844,
          -0.2730494400385617,
          -1.4118076487573437,
          -3.932015163310765,
          -0.43905917143932377,
          -1.1015726746369066,
          2.121680246482426e-17,
          -0.38504194440473116,
          -2.552915812689062,
          -1.767932662758804,
          2.121680246482426e-17,
          0.13280467287541897,
          -2.0211178390158833,
          -0.6054246386552766,
          2.121680246482426e-17,
          -1.9739312621338903,
          2.121680246482426e-17,
          2.121680246482426e-17,
          -2.0636919739392625,
          -3.2228746120505045,
          -2.57184537006734,
          -3.593527060790322,
          -2.3949589047144726,
          -3.2698335380447667,
          2.121680246482426e-17,
          -2.08512838798939,
          -3.2025040824041806,
          2.121680246482426e-17,
          2.121680246482426e-17,
          2.121680246482426e-17,
          2.121680246482426e-17,
          2.121680246482426e-17,
          2.121680246482426e-17,
          -2.0073894956780935,
          2.121680246482426e-17,
          -2.3653525845456818,
          2.121680246482426e-17
         ],
         "y": [
          -0.5878081514113926,
          1.6877266980076253,
          -1.0156629666180015e-17,
          -0.8420157842016763,
          -1.6264829873772404,
          1.7233585366917994,
          0.37199382178275975,
          -0.28508352947186316,
          -0.0920079766665637,
          -1.0156629666180015e-17,
          -1.0156629666180015e-17,
          -1.377896442543201,
          -0.5602139468699527,
          -0.005075937599322296,
          -0.08597455013167217,
          0.19228220760447118,
          0.5134735772399502,
          0.28123706505779994,
          0.3610676959505121,
          1.0324815802032339,
          -1.9079263350643443,
          1.0833080734890852,
          -0.026091865288541398,
          0.3990525879231896,
          -0.8319542238250394,
          1.7197662007851624,
          -2.288086603689256,
          0.6704226648939655,
          0.46364408495656706,
          -1.6172282356177745,
          0.6404383039449529,
          -1.0156629666180015e-17,
          -1.0734857142504572,
          0.6742397371635802,
          -2.8360127686891263,
          -1.0156629666180015e-17,
          0.03343219819236947,
          0.1659126886601749,
          0.7977196509444721,
          0.3532768429366783,
          1.3929822425862157,
          -1.0931388016304535,
          -1.0156629666180015e-17,
          0.2539208985157692,
          0.45514396916723104,
          3.021877000022246,
          -0.08789179986397745,
          -0.8061155563138858,
          2.1978781367548654,
          -1.4358797914185744,
          -0.15985621647484086,
          0.3319855039627148,
          0.17497694849844503,
          3.7246806763325235,
          1.0579909798901357,
          2.3331241392589694,
          0.40094716275514136,
          -0.21863923631070756,
          1.4060246072869054,
          3.8468933118246253,
          -1.6750133893267405,
          -1.0156629666180015e-17,
          0.46613232304561153,
          2.13920389550217,
          -1.0156629666180015e-17,
          -1.0156629666180015e-17,
          1.203285197302464,
          -1.1461217799108323,
          0.07525533728067875,
          -1.0156629666180015e-17,
          3.693456162763296,
          -1.0156629666180015e-17,
          -1.0156629666180015e-17,
          1.1609065485205847,
          1.6440456443577909,
          2.363721640384892,
          -1.0156629666180015e-17,
          1.7101623860523183,
          2.6716490571769684,
          -1.0156629666180015e-17,
          -1.0156629666180015e-17,
          -1.0156629666180015e-17,
          -1.0156629666180015e-17,
          -1.0156629666180015e-17,
          -1.0156629666180015e-17,
          -1.0156629666180015e-17,
          -1.0156629666180015e-17,
          2.7908904725119035,
          1.4908238304131343,
          -1.0156629666180015e-17,
          1.383204900702656,
          -1.0156629666180015e-17,
          -1.0156629666180015e-17,
          1.0945351451314262,
          1.132703732827516,
          -1.0156629666180015e-17,
          1.2665690198186654,
          0.8331150231313708,
          1.6821001134829037,
          0.8421666594252388,
          3.205188832719854,
          0.21585655030925469,
          -0.7869011134964177,
          2.097452878575053,
          3.423236634202684,
          0.4257133606772094,
          1.278486026133918,
          -1.0156629666180015e-17,
          -1.3694266219943942,
          0.4643270647430531,
          2.0032736063675434,
          -1.0156629666180015e-17,
          2.065286061082349,
          1.2300194693638316,
          0.5400036688513673,
          -1.0156629666180015e-17,
          1.718774479982754,
          -1.0156629666180015e-17,
          -1.0156629666180015e-17,
          1.299629572908304,
          1.7710280815388575,
          1.471976076336885,
          1.5620820214164521,
          1.9210639728395682,
          -0.6652887720250451,
          -1.0156629666180015e-17,
          -0.2639821405795584,
          -0.730712164242439,
          -1.0156629666180015e-17,
          -1.0156629666180015e-17,
          -1.0156629666180015e-17,
          -1.0156629666180015e-17,
          -1.0156629666180015e-17,
          -1.0156629666180015e-17,
          -2.263073548854661,
          -1.0156629666180015e-17,
          -2.5363502022328137,
          -1.0156629666180015e-17
         ],
         "z": [
          -0.17223662787644722,
          0.14124776426031688,
          -5.1012048822286397e-17,
          0.17097899015639068,
          0.9694234968466644,
          0.2769358699922138,
          -1.6963710237850802,
          -0.7265904717491024,
          -0.3828264814335591,
          -5.1012048822286397e-17,
          -5.1012048822286397e-17,
          0.3649456879002666,
          -1.0792962925333491,
          1.113536514849784,
          2.614004262558318,
          0.710173932617024,
          1.4587766488763458,
          2.0392958716173832,
          -0.6433473859067228,
          1.0831169735165656,
          -1.0567324554007618,
          -1.9195603064881996,
          -0.13843154788529402,
          0.24961816489507846,
          1.8782392972922541,
          3.5768288474564076,
          -2.62368758194355,
          0.32466026419342164,
          0.9719427723615409,
          0.4194512465903754,
          0.535409883389271,
          -5.1012048822286397e-17,
          -0.3194950775547922,
          1.2341895287986537,
          0.2753910409762875,
          -5.1012048822286397e-17,
          1.1863089979696273,
          0.46862148536984277,
          -0.33755231013687126,
          -0.5055646124428875,
          -1.641118713989473,
          -2.1982780192910343,
          -5.1012048822286397e-17,
          -2.9918158394210193,
          2.988808686743942,
          -2.276425230616689,
          0.7101054319614869,
          -1.3231851387365186,
          0.14387847969524956,
          -0.245425409576397,
          -1.7102959722913897,
          3.1928331201320095,
          2.3418036061998175,
          -0.39160883215369785,
          -1.4178354544876088,
          0.9170602791910085,
          0.026879978241023412,
          -2.486449086964024,
          -0.7180823702484639,
          -0.2922095030804523,
          0.8435306457775674,
          -5.1012048822286397e-17,
          -0.7449313139992534,
          1.5564065602213306,
          -5.1012048822286397e-17,
          -5.1012048822286397e-17,
          0.5645168713293898,
          -3.464144678793161,
          -0.1776015200924243,
          -5.1012048822286397e-17,
          -3.7507320714021195,
          -5.1012048822286397e-17,
          -5.1012048822286397e-17,
          0.40886833964990366,
          -1.9887102621552846,
          1.0198495323554069,
          -5.1012048822286397e-17,
          -0.4111213271493422,
          -0.6404152792142119,
          -5.1012048822286397e-17,
          -5.1012048822286397e-17,
          -5.1012048822286397e-17,
          -5.1012048822286397e-17,
          -5.1012048822286397e-17,
          -5.1012048822286397e-17,
          -5.1012048822286397e-17,
          -5.1012048822286397e-17,
          -0.7999847673648238,
          0.9488849921363459,
          -5.1012048822286397e-17,
          0.36739650616052805,
          -5.1012048822286397e-17,
          -5.1012048822286397e-17,
          0.9202968248717575,
          3.1493899685371,
          -5.1012048822286397e-17,
          -2.1124021449250336,
          3.9641308968058198,
          -0.246206781411759,
          -0.7600997372175392,
          -0.29219168486788044,
          -1.9291391749900402,
          1.2399552956274777,
          -0.9572090786008521,
          -0.8750101960676241,
          0.9555122323840566,
          1.5455286965674138,
          -5.1012048822286397e-17,
          -1.0238067939774727,
          -2.686436200997247,
          1.1278876060117369,
          -5.1012048822286397e-17,
          -2.319000000923891,
          -0.8235594283189701,
          0.9362586683163642,
          -5.1012048822286397e-17,
          2.372962466062616,
          -5.1012048822286397e-17,
          -5.1012048822286397e-17,
          -0.2548408273138265,
          -0.8010113743560495,
          -0.2318636477907894,
          1.716160364576274,
          0.19865105088905013,
          -1.3095535651315187,
          -5.1012048822286397e-17,
          0.3578462881043039,
          1.9303618458170462,
          -5.1012048822286397e-17,
          -5.1012048822286397e-17,
          -5.1012048822286397e-17,
          -5.1012048822286397e-17,
          -5.1012048822286397e-17,
          -5.1012048822286397e-17,
          -0.28100954389154015,
          -5.1012048822286397e-17,
          0.13843310603074177,
          -5.1012048822286397e-17
         ]
        },
        {
         "hovertemplate": "cluster=0<br>PCA Component 1=%{x}<br>PCA Component 2=%{y}<br>PCA Component 3=%{z}<extra></extra>",
         "legendgroup": "0",
         "marker": {
          "color": "rgb(77,175,74)",
          "symbol": "circle"
         },
         "mode": "markers",
         "name": "0",
         "scene": "scene",
         "showlegend": true,
         "type": "scatter3d",
         "x": [
          3.5900888549524295,
          3.674896138369826,
          4.2432817535893905,
          2.2015646564347993,
          3.061949141888088,
          3.455174272639497,
          5.117836507130479,
          2.009715830809217,
          3.788185650393321,
          3.2699612403201583,
          2.9032220778352915,
          4.076033878838903,
          3.3291934080243104,
          3.5913545359961176,
          3.4852770539163416,
          2.711569931074114,
          3.8727584763927334,
          5.149087781536473,
          3.9692066456235278,
          3.4899998434133095,
          2.5709627504728876,
          2.1261471955913245,
          5.257684248533438,
          4.901685154218477,
          3.644102156811305,
          4.13495457687395,
          3.28002374056323,
          2.5471510297921407,
          3.2928478923075635,
          4.82601088125465,
          3.918383718709313,
          2.5672659626364607,
          5.600996838752193,
          4.301073303241241,
          4.756810829527454,
          5.266940387792521,
          3.5482018717804626,
          3.4775084944960404,
          3.649007885526752,
          3.8459727454947927,
          4.65851587055095,
          5.935839491859387,
          4.903838312683079,
          5.00845200470075,
          3.560677873390519,
          4.036649721905017,
          4.169775660912216,
          4.396366810293164,
          3.2230623502980618,
          4.5551687397569065,
          3.692304578057842,
          4.888052819681865,
          4.766668568578711,
          4.204839741058533,
          2.6024172674010533,
          5.924206253881418,
          5.1145557190835085,
          5.262812653290262,
          3.124234675079777,
          3.385366256938728,
          5.193024604075655
         ],
         "y": [
          0.30968986138070564,
          -0.7547191327950732,
          -1.9208594596898612,
          -1.2985200612340968,
          -1.0457762916072026,
          0.3132152118857876,
          -0.7369930352326226,
          -1.4395641253261668,
          -0.4485748062427416,
          -0.8435545732282371,
          -2.031210237485899,
          -1.0194803116017719,
          -1.342438305876646,
          -1.0153163576055515,
          0.18620708053313043,
          -0.11564038428137824,
          -0.3040025198832356,
          -0.9017827612142325,
          0.40956324326115706,
          -0.12520775152870708,
          -0.4256141247312639,
          -1.6129383605822516,
          -0.14140750927413737,
          -1.1604350606659788,
          -1.5046132720863286,
          0.28165432991107303,
          -0.8139869758672275,
          0.0011595973533880164,
          0.1236797456080547,
          -0.7988688442032073,
          -2.4312012175339732,
          -2.3538827325705802,
          -0.4386791545269208,
          -0.3121489171515973,
          -1.3968750634143081,
          -1.0293836091280066,
          -1.415783280450385,
          -0.859421936076044,
          -1.3876013776856853,
          -2.1226692360826807,
          -2.1745088399925114,
          -0.5506903429768736,
          0.45294914823108623,
          0.07452078044483923,
          -0.41997271681897835,
          0.07350531437135496,
          0.03957681465713974,
          0.5570440945053283,
          0.29682808999599625,
          0.271272993736558,
          -0.47166997874640015,
          -0.7785417070372324,
          -0.8595913065984616,
          0.4044498149685572,
          -0.31036026185994164,
          -0.7797822590319687,
          -0.2173389702833282,
          -1.143377985191921,
          0.07971142927728825,
          -1.2379978284956412,
          -0.4138114146477585
         ],
         "z": [
          0.5435082056459395,
          -0.11916064684776813,
          -0.1765020212356663,
          1.0373999949523476,
          -0.029482552838326258,
          0.692526841646128,
          0.06745682111057313,
          2.4996906527133596,
          -0.45488081845075184,
          0.7889866706995498,
          1.044897676205084,
          0.1502930677400923,
          0.728332930697738,
          0.4712771173954953,
          -0.20454052172188122,
          0.6213067491760635,
          1.3307316291743485,
          0.20025328815846474,
          2.023952736170576,
          0.16717171972754646,
          1.9515561183699623,
          0.39160901917756935,
          1.180893809417333,
          -0.40867900970901816,
          -0.7374360949662596,
          0.20235789789184397,
          -0.8306167372511389,
          0.35267170409593124,
          -0.20995807160298965,
          1.1442758705262204,
          0.7556503077120387,
          0.4415055527430373,
          1.3007919444010856,
          -0.3927985796584408,
          0.45430596095301345,
          0.25654898614033816,
          -1.4494466127842782,
          -0.016650846939882686,
          1.3596102015375382,
          1.4401084140789504,
          1.1881013802316018,
          1.0278200334646619,
          -0.06186205664712244,
          -1.3458798742554805,
          2.0228549069461383,
          -0.3166861634340491,
          1.3015343679153104,
          -0.10256206246367566,
          -0.5574908774330575,
          0.21341145685841184,
          0.3948126434887472,
          -0.6748078296566047,
          -0.24074062947604175,
          1.2001103576016912,
          0.6987076069677826,
          0.08407061017246495,
          1.181961810327517,
          0.9073688008003229,
          1.372400738570724,
          -0.5988339830468781,
          0.36276834026041926
         ]
        },
        {
         "hovertemplate": "cluster=1<br>PCA Component 1=%{x}<br>PCA Component 2=%{y}<br>PCA Component 3=%{z}<extra></extra>",
         "legendgroup": "1",
         "marker": {
          "color": "rgb(152,78,163)",
          "symbol": "circle"
         },
         "mode": "markers",
         "name": "1",
         "scene": "scene",
         "showlegend": true,
         "type": "scatter3d",
         "x": [
          -3.963071138158719,
          -3.6584883487257804,
          -7.204076814251723,
          -7.380552971863737,
          -3.977204942067288,
          -6.1533747723558125,
          -7.659709635542215,
          -3.070028629972799,
          -5.021362256348067,
          -5.122257643880959,
          -8.894211649761068,
          -7.2618866056100435,
          -3.208674458050946,
          -8.029978253513669,
          -5.108147770593188,
          -4.115555958099189,
          -3.064371015105313,
          -5.076111828937574,
          -6.179934603948332,
          -5.741270641805354,
          -4.685019190004872,
          -3.2195980385918497,
          -4.047904487237,
          -9.693748162929495,
          -3.830145324282132,
          -7.433947287854143,
          -3.5104897147539504,
          -5.907750112330548,
          -5.24360040595878,
          -4.289572520015028,
          -4.161812672277677,
          -3.537021616815187,
          -5.4379041528124255,
          -9.307076867945302,
          -3.078339147779841,
          -7.211932485409685,
          -8.594240141860835,
          -10.43821329288857,
          -11.477189857770156,
          -4.9144588515919425,
          -10.158820245997054
         ],
         "y": [
          -0.24063709946480066,
          0.6851396820130135,
          -1.9625213989237678,
          1.7852346985327643,
          2.3506582118639043,
          1.2891301759995926,
          -1.2052841423992693,
          -1.644232319317336,
          1.804887812159896,
          0.5290238666689351,
          1.019138184709793,
          -3.078922548798801,
          -1.3971906608399418,
          -1.3287123408695853,
          1.5637218549558864,
          0.5847993424668869,
          -6.226166316872771,
          -1.7140693197699481,
          0.6490730978307839,
          0.9006638133945077,
          -1.229856760747111,
          -0.8757364267123287,
          0.31364079078885215,
          -2.2223955774305018,
          -4.320504905189546,
          0.6211405075799746,
          -6.247589214569563,
          1.3142727284125133,
          2.3730050060596866,
          3.502577476618375,
          2.600232556699447,
          -5.84251681774381,
          1.2281892290973688,
          -2.335964529659085,
          -1.9998130278459838,
          -2.072282958387116,
          -2.811812004448601,
          -1.9537400427886475,
          -2.5748505493013405,
          -1.887398773554054,
          -3.8538160022334784
         ],
         "z": [
          1.5578516804307985,
          1.1906112266890567,
          -1.6539911381497716,
          2.151883178412473,
          0.33639719851668937,
          1.7629604799078975,
          2.122794973487187,
          1.7706025392482665,
          1.521916290201351,
          1.8815198351869247,
          -0.2295164884466148,
          -0.28781701306687446,
          1.690531568648137,
          -0.4469103510066743,
          0.41423779522715776,
          1.8694993762342875,
          0.05382765072942463,
          1.244220453724437,
          1.9198742157616067,
          2.116149235141129,
          1.1217784674284375,
          0.5383524425236308,
          1.4111126993870875,
          -1.85018006882772,
          -0.6654337267750752,
          1.6933044770722452,
          -1.1136541729630247,
          -0.22963461179182157,
          -0.9033818477387114,
          -0.2335272807077675,
          -0.9412181764930727,
          -1.5172559895274513,
          0.5880469334114644,
          -1.1790822351844936,
          0.3267802892293481,
          -0.914429331989179,
          -1.1713858677481241,
          -1.4672422994531324,
          -0.9291509654611425,
          -0.6297856791708728,
          -0.7636915936815711
         ]
        }
       ],
       "layout": {
        "legend": {
         "title": {
          "text": "cluster"
         },
         "tracegroupgap": 0
        },
        "scene": {
         "domain": {
          "x": [
           0,
           1
          ],
          "y": [
           0,
           1
          ]
         },
         "xaxis": {
          "title": {
           "text": "PCA Component 1"
          }
         },
         "yaxis": {
          "title": {
           "text": "PCA Component 2"
          }
         },
         "zaxis": {
          "title": {
           "text": "PCA Component 3"
          }
         }
        },
        "template": {
         "data": {
          "bar": [
           {
            "error_x": {
             "color": "#2a3f5f"
            },
            "error_y": {
             "color": "#2a3f5f"
            },
            "marker": {
             "line": {
              "color": "#E5ECF6",
              "width": 0.5
             },
             "pattern": {
              "fillmode": "overlay",
              "size": 10,
              "solidity": 0.2
             }
            },
            "type": "bar"
           }
          ],
          "barpolar": [
           {
            "marker": {
             "line": {
              "color": "#E5ECF6",
              "width": 0.5
             },
             "pattern": {
              "fillmode": "overlay",
              "size": 10,
              "solidity": 0.2
             }
            },
            "type": "barpolar"
           }
          ],
          "carpet": [
           {
            "aaxis": {
             "endlinecolor": "#2a3f5f",
             "gridcolor": "white",
             "linecolor": "white",
             "minorgridcolor": "white",
             "startlinecolor": "#2a3f5f"
            },
            "baxis": {
             "endlinecolor": "#2a3f5f",
             "gridcolor": "white",
             "linecolor": "white",
             "minorgridcolor": "white",
             "startlinecolor": "#2a3f5f"
            },
            "type": "carpet"
           }
          ],
          "choropleth": [
           {
            "colorbar": {
             "outlinewidth": 0,
             "ticks": ""
            },
            "type": "choropleth"
           }
          ],
          "contour": [
           {
            "colorbar": {
             "outlinewidth": 0,
             "ticks": ""
            },
            "colorscale": [
             [
              0,
              "#0d0887"
             ],
             [
              0.1111111111111111,
              "#46039f"
             ],
             [
              0.2222222222222222,
              "#7201a8"
             ],
             [
              0.3333333333333333,
              "#9c179e"
             ],
             [
              0.4444444444444444,
              "#bd3786"
             ],
             [
              0.5555555555555556,
              "#d8576b"
             ],
             [
              0.6666666666666666,
              "#ed7953"
             ],
             [
              0.7777777777777778,
              "#fb9f3a"
             ],
             [
              0.8888888888888888,
              "#fdca26"
             ],
             [
              1,
              "#f0f921"
             ]
            ],
            "type": "contour"
           }
          ],
          "contourcarpet": [
           {
            "colorbar": {
             "outlinewidth": 0,
             "ticks": ""
            },
            "type": "contourcarpet"
           }
          ],
          "heatmap": [
           {
            "colorbar": {
             "outlinewidth": 0,
             "ticks": ""
            },
            "colorscale": [
             [
              0,
              "#0d0887"
             ],
             [
              0.1111111111111111,
              "#46039f"
             ],
             [
              0.2222222222222222,
              "#7201a8"
             ],
             [
              0.3333333333333333,
              "#9c179e"
             ],
             [
              0.4444444444444444,
              "#bd3786"
             ],
             [
              0.5555555555555556,
              "#d8576b"
             ],
             [
              0.6666666666666666,
              "#ed7953"
             ],
             [
              0.7777777777777778,
              "#fb9f3a"
             ],
             [
              0.8888888888888888,
              "#fdca26"
             ],
             [
              1,
              "#f0f921"
             ]
            ],
            "type": "heatmap"
           }
          ],
          "heatmapgl": [
           {
            "colorbar": {
             "outlinewidth": 0,
             "ticks": ""
            },
            "colorscale": [
             [
              0,
              "#0d0887"
             ],
             [
              0.1111111111111111,
              "#46039f"
             ],
             [
              0.2222222222222222,
              "#7201a8"
             ],
             [
              0.3333333333333333,
              "#9c179e"
             ],
             [
              0.4444444444444444,
              "#bd3786"
             ],
             [
              0.5555555555555556,
              "#d8576b"
             ],
             [
              0.6666666666666666,
              "#ed7953"
             ],
             [
              0.7777777777777778,
              "#fb9f3a"
             ],
             [
              0.8888888888888888,
              "#fdca26"
             ],
             [
              1,
              "#f0f921"
             ]
            ],
            "type": "heatmapgl"
           }
          ],
          "histogram": [
           {
            "marker": {
             "pattern": {
              "fillmode": "overlay",
              "size": 10,
              "solidity": 0.2
             }
            },
            "type": "histogram"
           }
          ],
          "histogram2d": [
           {
            "colorbar": {
             "outlinewidth": 0,
             "ticks": ""
            },
            "colorscale": [
             [
              0,
              "#0d0887"
             ],
             [
              0.1111111111111111,
              "#46039f"
             ],
             [
              0.2222222222222222,
              "#7201a8"
             ],
             [
              0.3333333333333333,
              "#9c179e"
             ],
             [
              0.4444444444444444,
              "#bd3786"
             ],
             [
              0.5555555555555556,
              "#d8576b"
             ],
             [
              0.6666666666666666,
              "#ed7953"
             ],
             [
              0.7777777777777778,
              "#fb9f3a"
             ],
             [
              0.8888888888888888,
              "#fdca26"
             ],
             [
              1,
              "#f0f921"
             ]
            ],
            "type": "histogram2d"
           }
          ],
          "histogram2dcontour": [
           {
            "colorbar": {
             "outlinewidth": 0,
             "ticks": ""
            },
            "colorscale": [
             [
              0,
              "#0d0887"
             ],
             [
              0.1111111111111111,
              "#46039f"
             ],
             [
              0.2222222222222222,
              "#7201a8"
             ],
             [
              0.3333333333333333,
              "#9c179e"
             ],
             [
              0.4444444444444444,
              "#bd3786"
             ],
             [
              0.5555555555555556,
              "#d8576b"
             ],
             [
              0.6666666666666666,
              "#ed7953"
             ],
             [
              0.7777777777777778,
              "#fb9f3a"
             ],
             [
              0.8888888888888888,
              "#fdca26"
             ],
             [
              1,
              "#f0f921"
             ]
            ],
            "type": "histogram2dcontour"
           }
          ],
          "mesh3d": [
           {
            "colorbar": {
             "outlinewidth": 0,
             "ticks": ""
            },
            "type": "mesh3d"
           }
          ],
          "parcoords": [
           {
            "line": {
             "colorbar": {
              "outlinewidth": 0,
              "ticks": ""
             }
            },
            "type": "parcoords"
           }
          ],
          "pie": [
           {
            "automargin": true,
            "type": "pie"
           }
          ],
          "scatter": [
           {
            "fillpattern": {
             "fillmode": "overlay",
             "size": 10,
             "solidity": 0.2
            },
            "type": "scatter"
           }
          ],
          "scatter3d": [
           {
            "line": {
             "colorbar": {
              "outlinewidth": 0,
              "ticks": ""
             }
            },
            "marker": {
             "colorbar": {
              "outlinewidth": 0,
              "ticks": ""
             }
            },
            "type": "scatter3d"
           }
          ],
          "scattercarpet": [
           {
            "marker": {
             "colorbar": {
              "outlinewidth": 0,
              "ticks": ""
             }
            },
            "type": "scattercarpet"
           }
          ],
          "scattergeo": [
           {
            "marker": {
             "colorbar": {
              "outlinewidth": 0,
              "ticks": ""
             }
            },
            "type": "scattergeo"
           }
          ],
          "scattergl": [
           {
            "marker": {
             "colorbar": {
              "outlinewidth": 0,
              "ticks": ""
             }
            },
            "type": "scattergl"
           }
          ],
          "scattermapbox": [
           {
            "marker": {
             "colorbar": {
              "outlinewidth": 0,
              "ticks": ""
             }
            },
            "type": "scattermapbox"
           }
          ],
          "scatterpolar": [
           {
            "marker": {
             "colorbar": {
              "outlinewidth": 0,
              "ticks": ""
             }
            },
            "type": "scatterpolar"
           }
          ],
          "scatterpolargl": [
           {
            "marker": {
             "colorbar": {
              "outlinewidth": 0,
              "ticks": ""
             }
            },
            "type": "scatterpolargl"
           }
          ],
          "scatterternary": [
           {
            "marker": {
             "colorbar": {
              "outlinewidth": 0,
              "ticks": ""
             }
            },
            "type": "scatterternary"
           }
          ],
          "surface": [
           {
            "colorbar": {
             "outlinewidth": 0,
             "ticks": ""
            },
            "colorscale": [
             [
              0,
              "#0d0887"
             ],
             [
              0.1111111111111111,
              "#46039f"
             ],
             [
              0.2222222222222222,
              "#7201a8"
             ],
             [
              0.3333333333333333,
              "#9c179e"
             ],
             [
              0.4444444444444444,
              "#bd3786"
             ],
             [
              0.5555555555555556,
              "#d8576b"
             ],
             [
              0.6666666666666666,
              "#ed7953"
             ],
             [
              0.7777777777777778,
              "#fb9f3a"
             ],
             [
              0.8888888888888888,
              "#fdca26"
             ],
             [
              1,
              "#f0f921"
             ]
            ],
            "type": "surface"
           }
          ],
          "table": [
           {
            "cells": {
             "fill": {
              "color": "#EBF0F8"
             },
             "line": {
              "color": "white"
             }
            },
            "header": {
             "fill": {
              "color": "#C8D4E3"
             },
             "line": {
              "color": "white"
             }
            },
            "type": "table"
           }
          ]
         },
         "layout": {
          "annotationdefaults": {
           "arrowcolor": "#2a3f5f",
           "arrowhead": 0,
           "arrowwidth": 1
          },
          "autotypenumbers": "strict",
          "coloraxis": {
           "colorbar": {
            "outlinewidth": 0,
            "ticks": ""
           }
          },
          "colorscale": {
           "diverging": [
            [
             0,
             "#8e0152"
            ],
            [
             0.1,
             "#c51b7d"
            ],
            [
             0.2,
             "#de77ae"
            ],
            [
             0.3,
             "#f1b6da"
            ],
            [
             0.4,
             "#fde0ef"
            ],
            [
             0.5,
             "#f7f7f7"
            ],
            [
             0.6,
             "#e6f5d0"
            ],
            [
             0.7,
             "#b8e186"
            ],
            [
             0.8,
             "#7fbc41"
            ],
            [
             0.9,
             "#4d9221"
            ],
            [
             1,
             "#276419"
            ]
           ],
           "sequential": [
            [
             0,
             "#0d0887"
            ],
            [
             0.1111111111111111,
             "#46039f"
            ],
            [
             0.2222222222222222,
             "#7201a8"
            ],
            [
             0.3333333333333333,
             "#9c179e"
            ],
            [
             0.4444444444444444,
             "#bd3786"
            ],
            [
             0.5555555555555556,
             "#d8576b"
            ],
            [
             0.6666666666666666,
             "#ed7953"
            ],
            [
             0.7777777777777778,
             "#fb9f3a"
            ],
            [
             0.8888888888888888,
             "#fdca26"
            ],
            [
             1,
             "#f0f921"
            ]
           ],
           "sequentialminus": [
            [
             0,
             "#0d0887"
            ],
            [
             0.1111111111111111,
             "#46039f"
            ],
            [
             0.2222222222222222,
             "#7201a8"
            ],
            [
             0.3333333333333333,
             "#9c179e"
            ],
            [
             0.4444444444444444,
             "#bd3786"
            ],
            [
             0.5555555555555556,
             "#d8576b"
            ],
            [
             0.6666666666666666,
             "#ed7953"
            ],
            [
             0.7777777777777778,
             "#fb9f3a"
            ],
            [
             0.8888888888888888,
             "#fdca26"
            ],
            [
             1,
             "#f0f921"
            ]
           ]
          },
          "colorway": [
           "#636efa",
           "#EF553B",
           "#00cc96",
           "#ab63fa",
           "#FFA15A",
           "#19d3f3",
           "#FF6692",
           "#B6E880",
           "#FF97FF",
           "#FECB52"
          ],
          "font": {
           "color": "#2a3f5f"
          },
          "geo": {
           "bgcolor": "white",
           "lakecolor": "white",
           "landcolor": "#E5ECF6",
           "showlakes": true,
           "showland": true,
           "subunitcolor": "white"
          },
          "hoverlabel": {
           "align": "left"
          },
          "hovermode": "closest",
          "mapbox": {
           "style": "light"
          },
          "paper_bgcolor": "white",
          "plot_bgcolor": "#E5ECF6",
          "polar": {
           "angularaxis": {
            "gridcolor": "white",
            "linecolor": "white",
            "ticks": ""
           },
           "bgcolor": "#E5ECF6",
           "radialaxis": {
            "gridcolor": "white",
            "linecolor": "white",
            "ticks": ""
           }
          },
          "scene": {
           "xaxis": {
            "backgroundcolor": "#E5ECF6",
            "gridcolor": "white",
            "gridwidth": 2,
            "linecolor": "white",
            "showbackground": true,
            "ticks": "",
            "zerolinecolor": "white"
           },
           "yaxis": {
            "backgroundcolor": "#E5ECF6",
            "gridcolor": "white",
            "gridwidth": 2,
            "linecolor": "white",
            "showbackground": true,
            "ticks": "",
            "zerolinecolor": "white"
           },
           "zaxis": {
            "backgroundcolor": "#E5ECF6",
            "gridcolor": "white",
            "gridwidth": 2,
            "linecolor": "white",
            "showbackground": true,
            "ticks": "",
            "zerolinecolor": "white"
           }
          },
          "shapedefaults": {
           "line": {
            "color": "#2a3f5f"
           }
          },
          "ternary": {
           "aaxis": {
            "gridcolor": "white",
            "linecolor": "white",
            "ticks": ""
           },
           "baxis": {
            "gridcolor": "white",
            "linecolor": "white",
            "ticks": ""
           },
           "bgcolor": "#E5ECF6",
           "caxis": {
            "gridcolor": "white",
            "linecolor": "white",
            "ticks": ""
           }
          },
          "title": {
           "x": 0.05
          },
          "xaxis": {
           "automargin": true,
           "gridcolor": "white",
           "linecolor": "white",
           "ticks": "",
           "title": {
            "standoff": 15
           },
           "zerolinecolor": "white",
           "zerolinewidth": 2
          },
          "yaxis": {
           "automargin": true,
           "gridcolor": "white",
           "linecolor": "white",
           "ticks": "",
           "title": {
            "standoff": 15
           },
           "zerolinecolor": "white",
           "zerolinewidth": 2
          }
         }
        },
        "title": {
         "text": "3D Cluster Visualization with PCA"
        }
       }
      }
     },
     "metadata": {},
     "output_type": "display_data"
    },
    {
     "data": {
      "image/png": "[encoded data removed]",
      "text/plain": [
       "<Figure size 1400x500 with 2 Axes>"
      ]
     },
     "metadata": {},
     "output_type": "display_data"
    }
   ],
   "source": [
    "# Step 1: Define the importance columns (i.e., vehicle feature columns: questions 55, 56, and 57)\n",
    "# Define vehicle feature columns based on the newly renamed columns\n",
    "vehicle_features_columns = [\n",
    "    'Additional Heating', \n",
    "    'Air Conditioning', \n",
    "    'Cargo Capacity', \n",
    "    'Price', \n",
    "    'Tailorability', \n",
    "    'Doors', \n",
    "    'Charging Infrastructure', \n",
    "    'Safety Features General', \n",
    "    'Aesthetics and Design', \n",
    "    'Price 2', \n",
    "    'Safety Features General 2', \n",
    "    'Anti-Theft Features', \n",
    "    'Range', \n",
    "    'Rapid Charging', \n",
    "    'Swappable Batteries', \n",
    "    'Comfort Space', \n",
    "    'Acoustic Comfort', \n",
    "    'Solar Panels', \n",
    "    'ABS', \n",
    "    'Reverse Alarm', \n",
    "    'Headrests', \n",
    "    'Mirrors', \n",
    "    'Airbags', \n",
    "    'Crumple Zones', \n",
    "    'Collapsible Steering Column'\n",
    "]\n",
    "\n",
    "\n",
    "# Step 2: Preprocess the data for clustering (impute missing values, then scale)\n",
    "df_scaled, df_importance_imputed = preprocess_numerical_for_clustering(df, vehicle_features_columns)\n",
    "\n",
    "# Step 3: Perform clustering using the existing function\n",
    "n_clusters = 4  # Adjust the number of clusters as needed\n",
    "df_with_clusters = perform_clustering(df_scaled, df_importance_imputed, n_clusters=n_clusters)\n",
    "\n",
    "# Step 4: Visualize the clusters using PCA\n",
    "pca, df_pca = pca_and_visualize(df_scaled, df_with_clusters)\n",
    "\n",
    "# Step 5: Create a Cluster Characteristics Heatmap\n",
    "# Group by cluster and compute the mean of each feature to see the average profile per cluster\n",
    "cluster_summary = df_with_clusters.groupby('cluster').mean()\n",
    "\n",
    "# Create a heatmap for cluster characteristics with smaller cells and without numbers inside\n",
    "plt.figure(figsize=(14, 5))  # Adjust the figure size to make cells less tall\n",
    "sns.heatmap(cluster_summary, cmap='viridis', annot=False, linewidths=0.5, cbar=True)  # Set annot to False to remove numbers inside\n",
    "plt.title('Cluster Characteristics Heatmap')\n",
    "plt.xlabel('Features')\n",
    "plt.ylabel('Cluster')\n",
    "plt.xticks(rotation=90)\n",
    "plt.show()\n"
   ]
  }
 ],
 "metadata": {
  "kernelspec": {
   "display_name": "Python 3",
   "language": "python",
   "name": "python3"
  },
  "language_info": {
   "codemirror_mode": {
    "name": "ipython",
    "version": 3
   },
   "file_extension": ".py",
   "mimetype": "text/x-python",
   "name": "python",
   "nbconvert_exporter": "python",
   "pygments_lexer": "ipython3",
   "version": "3.12.4"
  }
 },
 "nbformat": 4,
 "nbformat_minor": 2
}
