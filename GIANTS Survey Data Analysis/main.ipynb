{
 "cells": [
  {
   "cell_type": "code",
   "execution_count": 1,
   "metadata": {},
   "outputs": [
    {
     "name": "stdout",
     "output_type": "stream",
     "text": [
      "['Timestamp', 'GENDER', 'AGE', 'COUNTRY', 'CITY', '5. What is the population where you live? (*If you are completing this survey as a fleet operator, public authority, etc. the population of the primary city of your operations / city you represent)', 'USER TYPE', 'EDUCATION', '8. How many people  / family members live in your household? (for safety related questions) [Adults (18 and older)]', '8. How many people  / family members live in your household? (for safety related questions) [Kids (6-17)]', '8. How many people  / family members live in your household? (for safety related questions) [Toddlers (1-5)]', '8. How many people  / family members live in your household? (for safety related questions) [Infants (younger than 1)]', 'INCOME', '10. Please indicate the typical elevation profile of the areas where you drive most frequently. Choose the option that best describes the terrain:', '11. Road quality: What type of terrain do you primarily drive on? Please select the option that best describes the surface conditions of the roads you typically use: ', '12. What type and how many vehicles does your household currently own? [Sedan (traditional passenger car)]', '12. What type and how many vehicles does your household currently own? [SUV / Truck]', '12. What type and how many vehicles does your household currently own? [Three-wheel vehicle]', '12. What type and how many vehicles does your household currently own? [Motorcycle / Scooter]', '12. What type and how many vehicles does your household currently own? [Cargo bicycle]', '12. What type and how many vehicles does your household currently own? [Bicycle]', '12. What type and how many vehicles does your household currently own? [E-scooter]', '12. What type and how many vehicles does your household currently own? [L5 LEV / Three-wheel vehicle]', '12. What type and how many vehicles does your household currently own? [L6/L7 LEV / Four-wheel vehicle]', '13. Other vehicles (please specify type and number):', 'PRIMARY TRANSPORT MODE', '15. How is this vehicle powered?', 'PURPOSE', '17. In what conditions/context do you normally choose this transport mode?  (Multiple answers allowed.)', '18. Do you use this mode of transport in connection with another mode?  (Multiple answers allowed.)', '19. What is your secondary/alternate mode of transportation? ', '20. How is this vehicle powered?', '21. How do you generally use your secondary mode of transportation? (Multiple answers allowed.)', '22. In what conditions/context do you normally choose this transport mode?  (Multiple answers allowed.)', '23. Do you use this mode of transport in connection with another mode?  (Multiple answers allowed.)', '24. What type of housing do you live in? (relevant for charging infrastructure):', '25. How many ‘car’ parking spaces do you have available for yourself at your residence (even if used for other type of vehicles, bicycles, etc.)?', '26. Would you/your building be able to install charging infrastructure at your home?', '27. How many hours do you generally spend per week on the following in your own vehicles / on public transport? (Road types are only an example. Please choose what best aligns with the infrastructure/speed limit.) [Bicycle infrastructure (<25 km/h)]', '27. How many hours do you generally spend per week on the following in your own vehicles / on public transport? (Road types are only an example. Please choose what best aligns with the infrastructure/speed limit.) [Local (sub)urban roads (restricted speeds / residential areas) (20 – 30 km/h)]', '27. How many hours do you generally spend per week on the following in your own vehicles / on public transport? (Road types are only an example. Please choose what best aligns with the infrastructure/speed limit.) [Local (built environment / unrestricted speeds) (30 – 50 km/h)]', '27. How many hours do you generally spend per week on the following in your own vehicles / on public transport? (Road types are only an example. Please choose what best aligns with the infrastructure/speed limit.) [Local public transport - bus]', '27. How many hours do you generally spend per week on the following in your own vehicles / on public transport? (Road types are only an example. Please choose what best aligns with the infrastructure/speed limit.) [Regional / long distance public transport - bus]', '27. How many hours do you generally spend per week on the following in your own vehicles / on public transport? (Road types are only an example. Please choose what best aligns with the infrastructure/speed limit.) [Local rail - train]', '27. How many hours do you generally spend per week on the following in your own vehicles / on public transport? (Road types are only an example. Please choose what best aligns with the infrastructure/speed limit.) [Regional / long distance rail - train]', '27. How many hours do you generally spend per week on the following in your own vehicles / on public transport? (Road types are only an example. Please choose what best aligns with the infrastructure/speed limit.) [Rural roads / motorways (45 – 70 km/h)]', '27. How many hours do you generally spend per week on the following in your own vehicles / on public transport? (Road types are only an example. Please choose what best aligns with the infrastructure/speed limit.) [Rural roads / motorways (70 – 90 km/h)]', '27. How many hours do you generally spend per week on the following in your own vehicles / on public transport? (Road types are only an example. Please choose what best aligns with the infrastructure/speed limit.) [Highway\\t (>90 km/h)]', '28. If you rent vehicles from an agency, what type and for what purpose? ', '29. If you use shared vehicles, what type and for what purpose? ', '30. What model would best represent your preferred usage of a frugal L5/L6/L7 light electric vehicle?', '31. Additional Heating [How do you feel if the LEV has an additional heating system (beyond the defogging/de-icing required by law which provides some heating)?]', '31. Additional Heating [How do you feel if the LEV does not have an additional heating system?]', '32. Air Conditioning [How do you feel if the LEV has air conditioning?]', '32. Air Conditioning [How do you feel if the LEV does not have air conditioning?]', '33. Cargo Capacity - smaller vehicle (2-person) [How do you feel if the LEV has a higher cargo / weight capacity (including driver, passengers, cargo >200kg total)?]', '33. Cargo Capacity - smaller vehicle (2-person) [How do you feel if the LEV has limited cargo / weight capacity (<200kg total)?]', '34. Cargo Capacity – larger vehicle (4-person) [How do you feel if the LEV has a higher cargo / weight capacity (including, driver, passengers, cargo >450kg total)?]', '34. Cargo Capacity – larger vehicle (4-person) [How do you feel if the LEV has limited cargo capacity (<450kg total)?]', '35. Tailorable (vehicle modifications made by the user) changes in seating and cargo space [How do you feel if the LEV allows for modular changes  to shift seating for cargo space?]', '35. Tailorable (vehicle modifications made by the user) changes in seating and cargo space [How do you feel if the LEV does not allow for modular changes to shift seating for cargo space?]', '36. Anti-Lock Braking Systems (ABS) [How do you feel if the LEV includes Anti-Lock Braking Systems (ABS)?]', '36. Anti-Lock Braking Systems (ABS) [How do you feel if the LEV does not include ABS? ]', '37. Backing Up Alarm [How do you feel if the LEV includes a vehicle motion alarm (driving in reverse / backing up alarm)?]', '37. Backing Up Alarm [How do you feel if the LEV does not include a backing up alarm?]', '38. Headrests and Mirrors [How do you feel if the LEV includes headrests and side/rear-view mirrors?]', '38. Headrests and Mirrors [How do you feel if the LEV does not include headrests and side/rear-view mirrors?]', '39. Crash Safety Features [How do you feel if the LEV includes safety features in relation to crash safety such as airbags, crumple zones (structural features- to absorb impact in a collision), a collapsable steering column (mechanical feature designed to prevent the steering column from penetrating the interior of the car or the driver in the case of a collision)?]', '39. Crash Safety Features [How do you feel if the LEV does not include safety features in relation to crash safety such as airbags, crumple zones, a collapsable steering column?]', '40. Passenger Capacity [How do you feel if the LEV can carry more than 2 passengers?]', '40. Passenger Capacity [How do you feel if the LEV can not carry more than 2 passengers?]', '41. Doors [How do you feel if the LEV is enclosed and with doors?]', '41. Doors [How do you feel if the LEV is open and without doors?]', '42. Anti-Theft [How do you feel if the LEVs were capable of (if software was developed) advanced anti-theft features, such as GPS tracking systems, an alarm?]', '42. Anti-Theft [How do you feel if the LEVs were not capable of advanced anti-theft features?]', '43. Comfort Features  [How do you feel if the LEV has additional comfort features, such as cupholders, speakers, vanity mirrors?]', '43. Comfort Features  [How do you feel if the LEV does not have additional comfort features?]', '44. Comfort Features - Space [How do you feel if the LEV has extra legroom / headspace in the vehicle?]', '44. Comfort Features - Space [How do you feel if the LEV does not have extra legroom / headspace in the vehicle?]', '45. Comfort Features – Acoustic (shield from noise) [How do you feel if the LEV has extra acoustic dampening qualities (shield from external/road noise)?]', '45. Comfort Features – Acoustic (shield from noise) [How do you feel if the LEV does not have extra acoustic dampening qualities (shield from external/road noise)?]', '46. Compact Size [How do you feel if the LEV has a compact size (<2 meters length) and is able to park crosswise?]', '46. Compact Size [How do you feel if the LEV is not this compact?]', '47. Vehicle Aesthetics and Design [How do you feel if you find the vehicle aesthetics and design appealing when purchasing a vehicle?]', '47. Vehicle Aesthetics and Design [How do you feel if you do not find the vehicle aesthetics and design appealing when purchasing a vehicle?]', '48. Swappable Batteries for Charging [How do you feel if the LEV has swappable batteries for charging?]', '48. Swappable Batteries for Charging [How do you feel if the LEV does not have swappable batteries for charging?]', '49. Swappable Batteries – Ability to self-swap [How would you feel if the swappable batteries were of a weight and placement in the vehicle which allowed the user to change these on their own?]', '49. Swappable Batteries – Ability to self-swap [How would you feel if the swappable batteries were not of a weight and placement in the vehicle which allowed the user to change these on their own?]', '50. Power Capacity [How would you feel if the vehicle was capable of having backup (extra) batteries?]', '50. Power Capacity [How would you feel if the vehicle was not capable of having backup (extra) batteries?]', '51. Rapid Charging [How do you feel if the LEV supports rapid charging -~45 minutes (normal charging time 3.5 hours)?]', '51. Rapid Charging [How do you feel if the LEV does not support rapid charging?]', '52. Charging Infrastructure [How do you feel if the LEV is compatible with standard public charging stations?]', '52. Charging Infrastructure [How do you feel if the LEV is not compatible with standard public charging stations? (requires specialised charging infrastructure and can mostly only be charged at home?]', '53. Battery Enclosure [How would you feel if the battery was in a secured enclosure/casing to protect it from floods/water?]', '53. Battery Enclosure [How would you feel if the battery was not in a secured enclosure/casing to protect it from floods/water?]', '54. Solar Panels [How do you feel if the LEV has solar panels?]', '54. Solar Panels [How do you feel if the LEV does not have solar panels?]', '55. How important do you rank the following features (1 = Not Important, 9 = Extremely Important) [Additional Heating]', '55. How important do you rank the following features (1 = Not Important, 9 = Extremely Important) [Air Conditioning]', '55. How important do you rank the following features (1 = Not Important, 9 = Extremely Important) [Cargo / Passenger capacity]', '55. How important do you rank the following features (1 = Not Important, 9 = Extremely Important) [Price]', '55. How important do you rank the following features (1 = Not Important, 9 = Extremely Important) [Tailorable (vehicle modifications made by the user) changes in seating and cargo space]', '55. How important do you rank the following features (1 = Not Important, 9 = Extremely Important) [Doors]', '55. How important do you rank the following features (1 = Not Important, 9 = Extremely Important) [Charging Infrastructure]', '55. How important do you rank the following features (1 = Not Important, 9 = Extremely Important) [Safety Features (in general)]', '55. How important do you rank the following features (1 = Not Important, 9 = Extremely Important) [Vehicle Aesthetics and Design]', '56.  How important do you rank the following features (1 = Not Important, 9 = Extremely Important) [Price]', '56.  How important do you rank the following features (1 = Not Important, 9 = Extremely Important) [Safety features (in general)]', '56.  How important do you rank the following features (1 = Not Important, 9 = Extremely Important) [Anti-theft features]', '56.  How important do you rank the following features (1 = Not Important, 9 = Extremely Important) [Range (cover longer distances without charging)]', '56.  How important do you rank the following features (1 = Not Important, 9 = Extremely Important) [Rapid charging]', '56.  How important do you rank the following features (1 = Not Important, 9 = Extremely Important) [Swappable batteries for charging (lighter, ability to self-swap)]', '56.  How important do you rank the following features (1 = Not Important, 9 = Extremely Important) [Comfort features - Space (legroom and headspace)]', '56.  How important do you rank the following features (1 = Not Important, 9 = Extremely Important) [Comfort Features – Acoustic (shield from noise)]', '56.  How important do you rank the following features (1 = Not Important, 9 = Extremely Important) [Solar panels]', '57.  How important do you rank the following safety features (1 = Not Important, 9 = Extremely Important) [Anti-Lock Braking Systems (ABS)]', '57.  How important do you rank the following safety features (1 = Not Important, 9 = Extremely Important) [Driving in reverse / Backing up alarm]', '57.  How important do you rank the following safety features (1 = Not Important, 9 = Extremely Important) [Headrests]', '57.  How important do you rank the following safety features (1 = Not Important, 9 = Extremely Important) [Side/rear-view mirrors]', '57.  How important do you rank the following safety features (1 = Not Important, 9 = Extremely Important) [Airbags]', '57.  How important do you rank the following safety features (1 = Not Important, 9 = Extremely Important) [Crumple zones]', '57.  How important do you rank the following safety features (1 = Not Important, 9 = Extremely Important) [Collapsable steering column]', '58. How much payload/passenger capacity meets your minimum needs? How much payload capacity is enough to fulfil the purpose of your travel?  [100 kg capacity (people + cargo)]', '58. How much payload/passenger capacity meets your minimum needs? How much payload capacity is enough to fulfil the purpose of your travel?  [Between 100 and 250 kg capacity (people + cargo)]', '58. How much payload/passenger capacity meets your minimum needs? How much payload capacity is enough to fulfil the purpose of your travel?  [Between 250 and 450 kg capacity (people + cargo)]', '58. How much payload/passenger capacity meets your minimum needs? How much payload capacity is enough to fulfil the purpose of your travel?  [Between 450 and 650 kg capacity (people + cargo)]', '58. How much payload/passenger capacity meets your minimum needs? How much payload capacity is enough to fulfil the purpose of your travel?  [Between 600 and 1000 kg capacity (people + cargo)]', '58. How much payload/passenger capacity meets your minimum needs? How much payload capacity is enough to fulfil the purpose of your travel?  [> 1000 kg capacity (people + cargo)]', '59. If you would invest in an affordable light electric vehicle which category would best suit your mobility needs? (Multiple answers allowed.)', '60. Do you have any comments regarding the previous question?', '61. If you were to decide to use a light electric vehicle, which situation applies to you? Would the addition of a frugal light electric vehicle to your household replace your current vehicle usage habits? If so which vehicle/s? (Multiple answers allowed.) ', '62. If you do not already own an L5/L6/L7 LEV, why would you consider investing in one? ', '63. If we develop an L5/L6/L7 LEV vehicle that fulfils all your needs/purposes described above OR replace your current vehicle(s), what price range do you estimate as reasonable/affordable within your market in Euros (€/EUR)? (Link to EU currency converter)', '64. What incentives or benefits would motivate you to switch from conventional vehicles to frugal light electric vehicles?', '65. How often do you use the HVAC system (Heating, Ventilation, and Air Conditioning) in your car, and for what purposes? Please select the option that best describes your usage.', '66. Does your city of operations have sufficient public charging space for vehicles?', '67. What do you see as barriers to using an L5/L6/L7 LEV vehicle as a primary form of transport/work vehicle?  ', '68. How easy is it to find parking in your daily travels? (1 = Not easy, 9 = Extremely easy) [Ease of Parking]', '69. How fair do you think it is to pay a parking fee relative to the size of the vehicle? (1 = Not Fair, 9 = Extremely Fair) [Parking fee fairness]', '70. What safety precautions would you feel most necessary/important for yourself and/or transporting children? (Choose 1-3 answers.)', '71. What age do you think is appropriate for operating an L5/L6/L7 LEV vehicle?', '72. Do you identify any age restrictions/courses/licensing which are in place / should be in place on who can drive a frugal L5/L6/L7 LEV, or in any specific use case?', '73. Are there any transport spaces you feel L5/L6/L7 class LEV vehicles should not be permitted to operate for safety reasons? (Multiple answers allowed.)', '74. Are there any transport spaces in your area which you feel L5/L6/L7 class LEV vehicles should be permitted to operate where traditional larger vehicles can not? (Multiple answers allowed.)', '75. Do you have any additional views or feedback on operational and safety aspects of frugal L5/L6/L7 LEVs (what is best; what to avoid; issues encountered in your city/region/country)?', '76. Any comments on the effectiveness of enforcement (parking, charging areas, areas of operation) in regard to anything that should be changed?', '77. How important is it to you to have ample charging stations conveniently located throughout your area? (1 = Not Important, 9 = Extremely Important) [Charging station importance]', '78. How important is it to you to have locally available replacement parts? (1 = Not Important, 9 = Extremely Important) [Locally available replacement parts importance]', '79. How important is it to you to have local after-sales support services (maintenance, repair)? (1 = Not Important, 9 = Extremely Important) [Local after-sales support importance]', '80. What benefits do you foresee with other road users sharing the space with this class of vehicle?', '81. What concerns do you have or foresee with other road users sharing the space with this class of vehicle: safety, negative perceptions, allocation of space, potential conflicts, etc.?', '82. Do you see any need for subsidies or incentives offered to users (e.g. low-income, pensioners, etc.)? ', '83. Do you support/want increased use of these smaller, more frugal L-class vehicles?', '84. What would you see as potential incentives to increase uptake?', '85. What would be the ideal type and characteristics of an L5/L6/L7 class LEV vehicle to perform municipal services, and for what purpose would you consider these vehicles?', '86. How well do you think local regulations support the adoption and effective use of electric vehicles? Consider incentives, infrastructure support, and other policies.', '87. What changes in local regulations would most benefit the adoption and effective use of these vehicles?', '88. Do you have any infrastructure or incentives in place to support differentiated parking fees (by size of vehicle)?', '89. Do you have / plan to have charging facilities at mobility hubs?', '90. Do you have / plan to have public charging facilities?', '91. Are there existing policies that you feel need re-thinking, changed, or improved upon in relation to accelerating the implementation of charging infrastructure / increasing usage of LEVs in fleets / improving road safety? etc.', '92. What requirements would you need met to provide municipal services with L5/L6/L7 class EV fleets? (For example, for work in city parks and playground services, maintaining active transport infrastructure, garbage removal, de-icing streets, vehicles for office staff, shared municipal vehicles, etc.)', '93. What are the most significant barriers to the adoption of electric vehicles in your area?', '94. Are there any current or planned government-led programs for financing or funding procurement of LEVs? If yes, which market segment are these targeted for (e.g. logistics company, private users or individuals, transport service providers, manufacturers, etc)?', '95. How many passenger/cargo vehicles are in your fleet?', '96. During typical daily fleet operations, what payload capacity would be sufficient for L5/L6/L7 class LEVs to meet your needs?', '97. What charging system would be most preferable to ensure smooth fleet operations? ', '98. Over the course of typical daily operations, what would be the necessary minimum maximum speed required of an L5/L6/L7 LEV?', '99. What is the average daily km covered by a vehicle in your fleet? ', '100. What is the typical total length of time that a vehicle in your fleet stands idle over the course of 24 hours? (Please include time parked at locations where charging facilities might conceivably be provided) ', '101. Durability: What qualities do you require? Do you have any suggestions to strengthen the overall durability of fleet vehicles? ', '102. From your experience, what aspects/parts of LEVs could be optimised towards a circular economy?   ', '103. What security features do you need / expect?', '104. What would you need to ensure the vehicles / fleets could be adapted with external software for such tasks as real-time vehicle tracking, unlocking, maintenance management, analytics on energy consumption?', '105. Do banks have favourable interest rates or financing schemes that help different kinds of users in purchasing LEVs? What are the usual terms for bank/loan programs?', '106. Have you/your organization/company been a recipient of an electric vehicle project pilot/program/initiative in the past or currently? If yes, could you provide some further details such as project names, the procurement arrangement (donated, partially paid, fully paid), types of LEVs and how many vehicles were involved?', 'Do you have any other comments?']\n"
     ]
    },
    {
     "data": {
      "application/vnd.plotly.v1+json": {
       "config": {
        "plotlyServerURL": "https://plot.ly"
       },
       "data": [
        {
         "hovertemplate": "Average Dysfunctional Score=%{x}<br>Average Functional Score=%{y}<br>Feature=%{text}<extra></extra>",
         "legendgroup": "",
         "marker": {
          "color": "#636efa",
          "symbol": "circle"
         },
         "mode": "markers+text",
         "name": "",
         "orientation": "v",
         "showlegend": false,
         "text": [
          "Heating System",
          "Air Conditioning",
          "Small Vehicle Cargo Capacity",
          "Large Vehicle Cargo Capacity",
          "Tailorable",
          "ABS",
          "Backing Up Alarm",
          "Headrests and Mirrors",
          "Crash Safety Features",
          "Passenger Capacity",
          "Doors",
          "Anti-theft",
          "Comfort Features",
          "Comfort Features - Space",
          "Comfort Features - Acoustic",
          "Compact Size",
          "Vehicle Aesthetics",
          "General Swappable Batteries",
          "Self-Swappable Batteries",
          "Power Capacity",
          "Rapid Charging",
          "Charging Infrastructure",
          "Battery Enclosure",
          "Solar Panels"
         ],
         "textposition": "top center",
         "type": "scatter",
         "x": [
          1.4826254826254825,
          1.359073359073359,
          0.8764478764478765,
          0.583011583011583,
          1.5675675675675675,
          1.7915057915057915,
          0.8803088803088803,
          2.6216216216216215,
          2.1042471042471043,
          1.054054054054054,
          2.4092664092664093,
          1.2895752895752897,
          0.6988416988416989,
          1.2625482625482625,
          1.0772200772200773,
          1.5173745173745175,
          1.6525096525096525,
          1.528957528957529,
          1.8532818532818534,
          1.2162162162162162,
          1.2664092664092663,
          2.33976833976834,
          2.3552123552123554,
          0
         ],
         "xaxis": "x",
         "y": [
          1.5675675675675675,
          1.7142857142857142,
          1.2972972972972974,
          1.1544401544401544,
          2.4633204633204633,
          2.1505791505791505,
          1.1583011583011582,
          2.250965250965251,
          2.2046332046332044,
          1.61003861003861,
          2.471042471042471,
          1.803088803088803,
          1.1003861003861004,
          1.803088803088803,
          1.5984555984555984,
          2.3204633204633205,
          2.1196911196911197,
          2.250965250965251,
          2.312741312741313,
          2.312741312741313,
          2.1274131274131274,
          2.563706563706564,
          2.1042471042471043,
          2.1737451737451736
         ],
         "yaxis": "y"
        }
       ],
       "layout": {
        "annotations": [
         {
          "font": {
           "color": "LightSeaGreen",
           "size": 16
          },
          "showarrow": false,
          "text": "Performance",
          "x": 3,
          "y": 3.5
         },
         {
          "font": {
           "color": "LightCoral",
           "size": 16
          },
          "showarrow": false,
          "text": "Must-have",
          "x": 3,
          "y": 1
         },
         {
          "font": {
           "color": "LightBlue",
           "size": 16
          },
          "showarrow": false,
          "text": "Attractive",
          "x": 1,
          "y": 3.5
         },
         {
          "font": {
           "color": "Gray",
           "size": 16
          },
          "showarrow": false,
          "text": "Indifferent",
          "x": 1,
          "y": 1
         }
        ],
        "legend": {
         "tracegroupgap": 0
        },
        "shapes": [
         {
          "fillcolor": "PaleTurquoise",
          "layer": "below",
          "line": {
           "color": "LightSeaGreen"
          },
          "opacity": 0.3,
          "type": "rect",
          "x0": 2,
          "x1": 4,
          "y0": 2,
          "y1": 4
         },
         {
          "fillcolor": "LightSalmon",
          "layer": "below",
          "line": {
           "color": "LightCoral"
          },
          "opacity": 0.3,
          "type": "rect",
          "x0": 2,
          "x1": 4,
          "y0": 0,
          "y1": 2
         },
         {
          "fillcolor": "LightSteelBlue",
          "layer": "below",
          "line": {
           "color": "LightBlue"
          },
          "opacity": 0.3,
          "type": "rect",
          "x0": 0,
          "x1": 2,
          "y0": 2,
          "y1": 4
         },
         {
          "fillcolor": "LightGray",
          "layer": "below",
          "line": {
           "color": "Gray"
          },
          "opacity": 0.3,
          "type": "rect",
          "x0": 0,
          "x1": 2,
          "y0": 0,
          "y1": 2
         }
        ],
        "template": {
         "data": {
          "bar": [
           {
            "error_x": {
             "color": "#2a3f5f"
            },
            "error_y": {
             "color": "#2a3f5f"
            },
            "marker": {
             "line": {
              "color": "#E5ECF6",
              "width": 0.5
             },
             "pattern": {
              "fillmode": "overlay",
              "size": 10,
              "solidity": 0.2
             }
            },
            "type": "bar"
           }
          ],
          "barpolar": [
           {
            "marker": {
             "line": {
              "color": "#E5ECF6",
              "width": 0.5
             },
             "pattern": {
              "fillmode": "overlay",
              "size": 10,
              "solidity": 0.2
             }
            },
            "type": "barpolar"
           }
          ],
          "carpet": [
           {
            "aaxis": {
             "endlinecolor": "#2a3f5f",
             "gridcolor": "white",
             "linecolor": "white",
             "minorgridcolor": "white",
             "startlinecolor": "#2a3f5f"
            },
            "baxis": {
             "endlinecolor": "#2a3f5f",
             "gridcolor": "white",
             "linecolor": "white",
             "minorgridcolor": "white",
             "startlinecolor": "#2a3f5f"
            },
            "type": "carpet"
           }
          ],
          "choropleth": [
           {
            "colorbar": {
             "outlinewidth": 0,
             "ticks": ""
            },
            "type": "choropleth"
           }
          ],
          "contour": [
           {
            "colorbar": {
             "outlinewidth": 0,
             "ticks": ""
            },
            "colorscale": [
             [
              0,
              "#0d0887"
             ],
             [
              0.1111111111111111,
              "#46039f"
             ],
             [
              0.2222222222222222,
              "#7201a8"
             ],
             [
              0.3333333333333333,
              "#9c179e"
             ],
             [
              0.4444444444444444,
              "#bd3786"
             ],
             [
              0.5555555555555556,
              "#d8576b"
             ],
             [
              0.6666666666666666,
              "#ed7953"
             ],
             [
              0.7777777777777778,
              "#fb9f3a"
             ],
             [
              0.8888888888888888,
              "#fdca26"
             ],
             [
              1,
              "#f0f921"
             ]
            ],
            "type": "contour"
           }
          ],
          "contourcarpet": [
           {
            "colorbar": {
             "outlinewidth": 0,
             "ticks": ""
            },
            "type": "contourcarpet"
           }
          ],
          "heatmap": [
           {
            "colorbar": {
             "outlinewidth": 0,
             "ticks": ""
            },
            "colorscale": [
             [
              0,
              "#0d0887"
             ],
             [
              0.1111111111111111,
              "#46039f"
             ],
             [
              0.2222222222222222,
              "#7201a8"
             ],
             [
              0.3333333333333333,
              "#9c179e"
             ],
             [
              0.4444444444444444,
              "#bd3786"
             ],
             [
              0.5555555555555556,
              "#d8576b"
             ],
             [
              0.6666666666666666,
              "#ed7953"
             ],
             [
              0.7777777777777778,
              "#fb9f3a"
             ],
             [
              0.8888888888888888,
              "#fdca26"
             ],
             [
              1,
              "#f0f921"
             ]
            ],
            "type": "heatmap"
           }
          ],
          "heatmapgl": [
           {
            "colorbar": {
             "outlinewidth": 0,
             "ticks": ""
            },
            "colorscale": [
             [
              0,
              "#0d0887"
             ],
             [
              0.1111111111111111,
              "#46039f"
             ],
             [
              0.2222222222222222,
              "#7201a8"
             ],
             [
              0.3333333333333333,
              "#9c179e"
             ],
             [
              0.4444444444444444,
              "#bd3786"
             ],
             [
              0.5555555555555556,
              "#d8576b"
             ],
             [
              0.6666666666666666,
              "#ed7953"
             ],
             [
              0.7777777777777778,
              "#fb9f3a"
             ],
             [
              0.8888888888888888,
              "#fdca26"
             ],
             [
              1,
              "#f0f921"
             ]
            ],
            "type": "heatmapgl"
           }
          ],
          "histogram": [
           {
            "marker": {
             "pattern": {
              "fillmode": "overlay",
              "size": 10,
              "solidity": 0.2
             }
            },
            "type": "histogram"
           }
          ],
          "histogram2d": [
           {
            "colorbar": {
             "outlinewidth": 0,
             "ticks": ""
            },
            "colorscale": [
             [
              0,
              "#0d0887"
             ],
             [
              0.1111111111111111,
              "#46039f"
             ],
             [
              0.2222222222222222,
              "#7201a8"
             ],
             [
              0.3333333333333333,
              "#9c179e"
             ],
             [
              0.4444444444444444,
              "#bd3786"
             ],
             [
              0.5555555555555556,
              "#d8576b"
             ],
             [
              0.6666666666666666,
              "#ed7953"
             ],
             [
              0.7777777777777778,
              "#fb9f3a"
             ],
             [
              0.8888888888888888,
              "#fdca26"
             ],
             [
              1,
              "#f0f921"
             ]
            ],
            "type": "histogram2d"
           }
          ],
          "histogram2dcontour": [
           {
            "colorbar": {
             "outlinewidth": 0,
             "ticks": ""
            },
            "colorscale": [
             [
              0,
              "#0d0887"
             ],
             [
              0.1111111111111111,
              "#46039f"
             ],
             [
              0.2222222222222222,
              "#7201a8"
             ],
             [
              0.3333333333333333,
              "#9c179e"
             ],
             [
              0.4444444444444444,
              "#bd3786"
             ],
             [
              0.5555555555555556,
              "#d8576b"
             ],
             [
              0.6666666666666666,
              "#ed7953"
             ],
             [
              0.7777777777777778,
              "#fb9f3a"
             ],
             [
              0.8888888888888888,
              "#fdca26"
             ],
             [
              1,
              "#f0f921"
             ]
            ],
            "type": "histogram2dcontour"
           }
          ],
          "mesh3d": [
           {
            "colorbar": {
             "outlinewidth": 0,
             "ticks": ""
            },
            "type": "mesh3d"
           }
          ],
          "parcoords": [
           {
            "line": {
             "colorbar": {
              "outlinewidth": 0,
              "ticks": ""
             }
            },
            "type": "parcoords"
           }
          ],
          "pie": [
           {
            "automargin": true,
            "type": "pie"
           }
          ],
          "scatter": [
           {
            "fillpattern": {
             "fillmode": "overlay",
             "size": 10,
             "solidity": 0.2
            },
            "type": "scatter"
           }
          ],
          "scatter3d": [
           {
            "line": {
             "colorbar": {
              "outlinewidth": 0,
              "ticks": ""
             }
            },
            "marker": {
             "colorbar": {
              "outlinewidth": 0,
              "ticks": ""
             }
            },
            "type": "scatter3d"
           }
          ],
          "scattercarpet": [
           {
            "marker": {
             "colorbar": {
              "outlinewidth": 0,
              "ticks": ""
             }
            },
            "type": "scattercarpet"
           }
          ],
          "scattergeo": [
           {
            "marker": {
             "colorbar": {
              "outlinewidth": 0,
              "ticks": ""
             }
            },
            "type": "scattergeo"
           }
          ],
          "scattergl": [
           {
            "marker": {
             "colorbar": {
              "outlinewidth": 0,
              "ticks": ""
             }
            },
            "type": "scattergl"
           }
          ],
          "scattermapbox": [
           {
            "marker": {
             "colorbar": {
              "outlinewidth": 0,
              "ticks": ""
             }
            },
            "type": "scattermapbox"
           }
          ],
          "scatterpolar": [
           {
            "marker": {
             "colorbar": {
              "outlinewidth": 0,
              "ticks": ""
             }
            },
            "type": "scatterpolar"
           }
          ],
          "scatterpolargl": [
           {
            "marker": {
             "colorbar": {
              "outlinewidth": 0,
              "ticks": ""
             }
            },
            "type": "scatterpolargl"
           }
          ],
          "scatterternary": [
           {
            "marker": {
             "colorbar": {
              "outlinewidth": 0,
              "ticks": ""
             }
            },
            "type": "scatterternary"
           }
          ],
          "surface": [
           {
            "colorbar": {
             "outlinewidth": 0,
             "ticks": ""
            },
            "colorscale": [
             [
              0,
              "#0d0887"
             ],
             [
              0.1111111111111111,
              "#46039f"
             ],
             [
              0.2222222222222222,
              "#7201a8"
             ],
             [
              0.3333333333333333,
              "#9c179e"
             ],
             [
              0.4444444444444444,
              "#bd3786"
             ],
             [
              0.5555555555555556,
              "#d8576b"
             ],
             [
              0.6666666666666666,
              "#ed7953"
             ],
             [
              0.7777777777777778,
              "#fb9f3a"
             ],
             [
              0.8888888888888888,
              "#fdca26"
             ],
             [
              1,
              "#f0f921"
             ]
            ],
            "type": "surface"
           }
          ],
          "table": [
           {
            "cells": {
             "fill": {
              "color": "#EBF0F8"
             },
             "line": {
              "color": "white"
             }
            },
            "header": {
             "fill": {
              "color": "#C8D4E3"
             },
             "line": {
              "color": "white"
             }
            },
            "type": "table"
           }
          ]
         },
         "layout": {
          "annotationdefaults": {
           "arrowcolor": "#2a3f5f",
           "arrowhead": 0,
           "arrowwidth": 1
          },
          "autotypenumbers": "strict",
          "coloraxis": {
           "colorbar": {
            "outlinewidth": 0,
            "ticks": ""
           }
          },
          "colorscale": {
           "diverging": [
            [
             0,
             "#8e0152"
            ],
            [
             0.1,
             "#c51b7d"
            ],
            [
             0.2,
             "#de77ae"
            ],
            [
             0.3,
             "#f1b6da"
            ],
            [
             0.4,
             "#fde0ef"
            ],
            [
             0.5,
             "#f7f7f7"
            ],
            [
             0.6,
             "#e6f5d0"
            ],
            [
             0.7,
             "#b8e186"
            ],
            [
             0.8,
             "#7fbc41"
            ],
            [
             0.9,
             "#4d9221"
            ],
            [
             1,
             "#276419"
            ]
           ],
           "sequential": [
            [
             0,
             "#0d0887"
            ],
            [
             0.1111111111111111,
             "#46039f"
            ],
            [
             0.2222222222222222,
             "#7201a8"
            ],
            [
             0.3333333333333333,
             "#9c179e"
            ],
            [
             0.4444444444444444,
             "#bd3786"
            ],
            [
             0.5555555555555556,
             "#d8576b"
            ],
            [
             0.6666666666666666,
             "#ed7953"
            ],
            [
             0.7777777777777778,
             "#fb9f3a"
            ],
            [
             0.8888888888888888,
             "#fdca26"
            ],
            [
             1,
             "#f0f921"
            ]
           ],
           "sequentialminus": [
            [
             0,
             "#0d0887"
            ],
            [
             0.1111111111111111,
             "#46039f"
            ],
            [
             0.2222222222222222,
             "#7201a8"
            ],
            [
             0.3333333333333333,
             "#9c179e"
            ],
            [
             0.4444444444444444,
             "#bd3786"
            ],
            [
             0.5555555555555556,
             "#d8576b"
            ],
            [
             0.6666666666666666,
             "#ed7953"
            ],
            [
             0.7777777777777778,
             "#fb9f3a"
            ],
            [
             0.8888888888888888,
             "#fdca26"
            ],
            [
             1,
             "#f0f921"
            ]
           ]
          },
          "colorway": [
           "#636efa",
           "#EF553B",
           "#00cc96",
           "#ab63fa",
           "#FFA15A",
           "#19d3f3",
           "#FF6692",
           "#B6E880",
           "#FF97FF",
           "#FECB52"
          ],
          "font": {
           "color": "#2a3f5f"
          },
          "geo": {
           "bgcolor": "white",
           "lakecolor": "white",
           "landcolor": "#E5ECF6",
           "showlakes": true,
           "showland": true,
           "subunitcolor": "white"
          },
          "hoverlabel": {
           "align": "left"
          },
          "hovermode": "closest",
          "mapbox": {
           "style": "light"
          },
          "paper_bgcolor": "white",
          "plot_bgcolor": "#E5ECF6",
          "polar": {
           "angularaxis": {
            "gridcolor": "white",
            "linecolor": "white",
            "ticks": ""
           },
           "bgcolor": "#E5ECF6",
           "radialaxis": {
            "gridcolor": "white",
            "linecolor": "white",
            "ticks": ""
           }
          },
          "scene": {
           "xaxis": {
            "backgroundcolor": "#E5ECF6",
            "gridcolor": "white",
            "gridwidth": 2,
            "linecolor": "white",
            "showbackground": true,
            "ticks": "",
            "zerolinecolor": "white"
           },
           "yaxis": {
            "backgroundcolor": "#E5ECF6",
            "gridcolor": "white",
            "gridwidth": 2,
            "linecolor": "white",
            "showbackground": true,
            "ticks": "",
            "zerolinecolor": "white"
           },
           "zaxis": {
            "backgroundcolor": "#E5ECF6",
            "gridcolor": "white",
            "gridwidth": 2,
            "linecolor": "white",
            "showbackground": true,
            "ticks": "",
            "zerolinecolor": "white"
           }
          },
          "shapedefaults": {
           "line": {
            "color": "#2a3f5f"
           }
          },
          "ternary": {
           "aaxis": {
            "gridcolor": "white",
            "linecolor": "white",
            "ticks": ""
           },
           "baxis": {
            "gridcolor": "white",
            "linecolor": "white",
            "ticks": ""
           },
           "bgcolor": "#E5ECF6",
           "caxis": {
            "gridcolor": "white",
            "linecolor": "white",
            "ticks": ""
           }
          },
          "title": {
           "x": 0.05
          },
          "xaxis": {
           "automargin": true,
           "gridcolor": "white",
           "linecolor": "white",
           "ticks": "",
           "title": {
            "standoff": 15
           },
           "zerolinecolor": "white",
           "zerolinewidth": 2
          },
          "yaxis": {
           "automargin": true,
           "gridcolor": "white",
           "linecolor": "white",
           "ticks": "",
           "title": {
            "standoff": 15
           },
           "zerolinecolor": "white",
           "zerolinewidth": 2
          }
         }
        },
        "title": {
         "text": "Kano Model: Functional vs. Dysfunctional Scores"
        },
        "xaxis": {
         "anchor": "y",
         "domain": [
          0,
          1
         ],
         "ticktext": [
          "Like",
          "Must-be",
          "Neutral",
          "Live with",
          "Dislike"
         ],
         "tickvals": [
          -2,
          -1,
          0,
          2,
          4
         ],
         "title": {
          "text": "Dysfunctional"
         }
        },
        "yaxis": {
         "anchor": "x",
         "domain": [
          0,
          1
         ],
         "ticktext": [
          "Dislike",
          "Live with",
          "Neutral",
          "Neutral",
          "Like"
         ],
         "tickvals": [
          -2,
          -1,
          0,
          2,
          4
         ],
         "title": {
          "text": "Functional"
         }
        }
       }
      }
     },
     "metadata": {},
     "output_type": "display_data"
    }
   ],
   "source": [
    "import pandas as pd\n",
    "import matplotlib.pyplot as plt\n",
    "# Importing necessary modules and functions from your files\n",
    "from GIANTS_data_load_and_preprocessing import load_data, preprocess_data\n",
    "from GIANTS_kano_analysis import (get_feature_names, prepare_kano_data, apply_kano_scoring, calculate_kano_averages, plot_kano_results, \n",
    "                                  plot_kano_by_age_group, plot_feature_means_with_std\n",
    ")\n",
    "from GIANTS_survey_demographics import plot_age_distribution, plot_market_distribution, plot_income_distribution, plot_user_type_distribution\n",
    "from GIANTS_clustering import preprocess_for_clustering, perform_clustering, visualize_clusters_with_pca, plot_elbow_method, analyze_survey_responses_by_cluster\n",
    "\n",
    "\n",
    "\n",
    "# Step 1: Load the data\n",
    "file_path = \"C:/Users/TomiNordi2m/OneDrive - i2m Unternehmensentwicklung GmbH/Documents/Python/GIANTS Survey Data Analysis/Copy of 2024.09.12 GIANTS project_ User and stakeholder needs survey (Responses).xlsx\"\n",
    "df = load_data(file_path)\n",
    "\n",
    "# Step 2: Preprocess the data\n",
    "df = preprocess_data(df)\n",
    "\n",
    "\n",
    "# Step 3: Prepare Kano data\n",
    "df_kano = prepare_kano_data(df)\n",
    "\n",
    "# Step 4: Get feature names for Kano analysis\n",
    "feature_names = get_feature_names()\n",
    "\n",
    "\n",
    "\n",
    "# Step 5: Apply Kano scoring\n",
    "df_kano = apply_kano_scoring(df_kano, feature_names)\n",
    "\n",
    "# Step 6: Calculate Kano averages\n",
    "df_averages = calculate_kano_averages(df_kano, feature_names)\n",
    "\n",
    "# Step 7: Plot Kano results \n",
    "plot_kano_results(df_averages)\n",
    "\n",
    "\n",
    "\n",
    "\n"
   ]
  },
  {
   "cell_type": "code",
   "execution_count": 2,
   "metadata": {},
   "outputs": [
    {
     "data": {
      "application/vnd.plotly.v1+json": {
       "config": {
        "plotlyServerURL": "https://plot.ly"
       },
       "data": [
        {
         "hovertemplate": "Average Dysfunctional Score=%{x}<br>Average Functional Score=%{y}<br>Feature=%{text}<extra></extra>",
         "legendgroup": "",
         "marker": {
          "color": "#636efa",
          "symbol": "circle"
         },
         "mode": "markers+text",
         "name": "",
         "orientation": "v",
         "showlegend": false,
         "text": [
          "Heating System",
          "Air Conditioning",
          "Small Vehicle Cargo Capacity",
          "Large Vehicle Cargo Capacity",
          "Tailorable",
          "ABS",
          "Backing Up Alarm",
          "Headrests and Mirrors",
          "Crash Safety Features",
          "Passenger Capacity",
          "Doors",
          "Anti-theft",
          "Comfort Features",
          "Comfort Features - Space",
          "Comfort Features - Acoustic",
          "Compact Size",
          "Vehicle Aesthetics",
          "General Swappable Batteries",
          "Self-Swappable Batteries",
          "Power Capacity",
          "Rapid Charging",
          "Charging Infrastructure",
          "Battery Enclosure",
          "Solar Panels"
         ],
         "textposition": "top center",
         "type": "scatter",
         "x": [
          1.4826254826254825,
          1.359073359073359,
          0.8764478764478765,
          0.583011583011583,
          1.5675675675675675,
          1.7915057915057915,
          0.8803088803088803,
          2.6216216216216215,
          2.1042471042471043,
          1.054054054054054,
          2.4092664092664093,
          1.2895752895752897,
          0.6988416988416989,
          1.2625482625482625,
          1.0772200772200773,
          1.5173745173745175,
          1.6525096525096525,
          1.528957528957529,
          1.8532818532818534,
          1.2162162162162162,
          1.2664092664092663,
          2.33976833976834,
          2.3552123552123554,
          0
         ],
         "xaxis": "x",
         "y": [
          1.5675675675675675,
          1.7142857142857142,
          1.2972972972972974,
          1.1544401544401544,
          2.4633204633204633,
          2.1505791505791505,
          1.1583011583011582,
          2.250965250965251,
          2.2046332046332044,
          1.61003861003861,
          2.471042471042471,
          1.803088803088803,
          1.1003861003861004,
          1.803088803088803,
          1.5984555984555984,
          2.3204633204633205,
          2.1196911196911197,
          2.250965250965251,
          2.312741312741313,
          2.312741312741313,
          2.1274131274131274,
          2.563706563706564,
          2.1042471042471043,
          2.1737451737451736
         ],
         "yaxis": "y"
        }
       ],
       "layout": {
        "annotations": [
         {
          "font": {
           "color": "LightSeaGreen",
           "size": 16
          },
          "showarrow": false,
          "text": "Performance",
          "x": 3,
          "y": 3.5
         },
         {
          "font": {
           "color": "LightCoral",
           "size": 16
          },
          "showarrow": false,
          "text": "Must-have",
          "x": 3,
          "y": 1
         },
         {
          "font": {
           "color": "LightBlue",
           "size": 16
          },
          "showarrow": false,
          "text": "Attractive",
          "x": 1,
          "y": 3.5
         },
         {
          "font": {
           "color": "Gray",
           "size": 16
          },
          "showarrow": false,
          "text": "Indifferent",
          "x": 1,
          "y": 1
         }
        ],
        "legend": {
         "tracegroupgap": 0
        },
        "shapes": [
         {
          "fillcolor": "PaleTurquoise",
          "layer": "below",
          "line": {
           "color": "LightSeaGreen"
          },
          "opacity": 0.3,
          "type": "rect",
          "x0": 2,
          "x1": 4,
          "y0": 2,
          "y1": 4
         },
         {
          "fillcolor": "LightSalmon",
          "layer": "below",
          "line": {
           "color": "LightCoral"
          },
          "opacity": 0.3,
          "type": "rect",
          "x0": 2,
          "x1": 4,
          "y0": 0,
          "y1": 2
         },
         {
          "fillcolor": "LightSteelBlue",
          "layer": "below",
          "line": {
           "color": "LightBlue"
          },
          "opacity": 0.3,
          "type": "rect",
          "x0": 0,
          "x1": 2,
          "y0": 2,
          "y1": 4
         },
         {
          "fillcolor": "LightGray",
          "layer": "below",
          "line": {
           "color": "Gray"
          },
          "opacity": 0.3,
          "type": "rect",
          "x0": 0,
          "x1": 2,
          "y0": 0,
          "y1": 2
         }
        ],
        "template": {
         "data": {
          "bar": [
           {
            "error_x": {
             "color": "#2a3f5f"
            },
            "error_y": {
             "color": "#2a3f5f"
            },
            "marker": {
             "line": {
              "color": "#E5ECF6",
              "width": 0.5
             },
             "pattern": {
              "fillmode": "overlay",
              "size": 10,
              "solidity": 0.2
             }
            },
            "type": "bar"
           }
          ],
          "barpolar": [
           {
            "marker": {
             "line": {
              "color": "#E5ECF6",
              "width": 0.5
             },
             "pattern": {
              "fillmode": "overlay",
              "size": 10,
              "solidity": 0.2
             }
            },
            "type": "barpolar"
           }
          ],
          "carpet": [
           {
            "aaxis": {
             "endlinecolor": "#2a3f5f",
             "gridcolor": "white",
             "linecolor": "white",
             "minorgridcolor": "white",
             "startlinecolor": "#2a3f5f"
            },
            "baxis": {
             "endlinecolor": "#2a3f5f",
             "gridcolor": "white",
             "linecolor": "white",
             "minorgridcolor": "white",
             "startlinecolor": "#2a3f5f"
            },
            "type": "carpet"
           }
          ],
          "choropleth": [
           {
            "colorbar": {
             "outlinewidth": 0,
             "ticks": ""
            },
            "type": "choropleth"
           }
          ],
          "contour": [
           {
            "colorbar": {
             "outlinewidth": 0,
             "ticks": ""
            },
            "colorscale": [
             [
              0,
              "#0d0887"
             ],
             [
              0.1111111111111111,
              "#46039f"
             ],
             [
              0.2222222222222222,
              "#7201a8"
             ],
             [
              0.3333333333333333,
              "#9c179e"
             ],
             [
              0.4444444444444444,
              "#bd3786"
             ],
             [
              0.5555555555555556,
              "#d8576b"
             ],
             [
              0.6666666666666666,
              "#ed7953"
             ],
             [
              0.7777777777777778,
              "#fb9f3a"
             ],
             [
              0.8888888888888888,
              "#fdca26"
             ],
             [
              1,
              "#f0f921"
             ]
            ],
            "type": "contour"
           }
          ],
          "contourcarpet": [
           {
            "colorbar": {
             "outlinewidth": 0,
             "ticks": ""
            },
            "type": "contourcarpet"
           }
          ],
          "heatmap": [
           {
            "colorbar": {
             "outlinewidth": 0,
             "ticks": ""
            },
            "colorscale": [
             [
              0,
              "#0d0887"
             ],
             [
              0.1111111111111111,
              "#46039f"
             ],
             [
              0.2222222222222222,
              "#7201a8"
             ],
             [
              0.3333333333333333,
              "#9c179e"
             ],
             [
              0.4444444444444444,
              "#bd3786"
             ],
             [
              0.5555555555555556,
              "#d8576b"
             ],
             [
              0.6666666666666666,
              "#ed7953"
             ],
             [
              0.7777777777777778,
              "#fb9f3a"
             ],
             [
              0.8888888888888888,
              "#fdca26"
             ],
             [
              1,
              "#f0f921"
             ]
            ],
            "type": "heatmap"
           }
          ],
          "heatmapgl": [
           {
            "colorbar": {
             "outlinewidth": 0,
             "ticks": ""
            },
            "colorscale": [
             [
              0,
              "#0d0887"
             ],
             [
              0.1111111111111111,
              "#46039f"
             ],
             [
              0.2222222222222222,
              "#7201a8"
             ],
             [
              0.3333333333333333,
              "#9c179e"
             ],
             [
              0.4444444444444444,
              "#bd3786"
             ],
             [
              0.5555555555555556,
              "#d8576b"
             ],
             [
              0.6666666666666666,
              "#ed7953"
             ],
             [
              0.7777777777777778,
              "#fb9f3a"
             ],
             [
              0.8888888888888888,
              "#fdca26"
             ],
             [
              1,
              "#f0f921"
             ]
            ],
            "type": "heatmapgl"
           }
          ],
          "histogram": [
           {
            "marker": {
             "pattern": {
              "fillmode": "overlay",
              "size": 10,
              "solidity": 0.2
             }
            },
            "type": "histogram"
           }
          ],
          "histogram2d": [
           {
            "colorbar": {
             "outlinewidth": 0,
             "ticks": ""
            },
            "colorscale": [
             [
              0,
              "#0d0887"
             ],
             [
              0.1111111111111111,
              "#46039f"
             ],
             [
              0.2222222222222222,
              "#7201a8"
             ],
             [
              0.3333333333333333,
              "#9c179e"
             ],
             [
              0.4444444444444444,
              "#bd3786"
             ],
             [
              0.5555555555555556,
              "#d8576b"
             ],
             [
              0.6666666666666666,
              "#ed7953"
             ],
             [
              0.7777777777777778,
              "#fb9f3a"
             ],
             [
              0.8888888888888888,
              "#fdca26"
             ],
             [
              1,
              "#f0f921"
             ]
            ],
            "type": "histogram2d"
           }
          ],
          "histogram2dcontour": [
           {
            "colorbar": {
             "outlinewidth": 0,
             "ticks": ""
            },
            "colorscale": [
             [
              0,
              "#0d0887"
             ],
             [
              0.1111111111111111,
              "#46039f"
             ],
             [
              0.2222222222222222,
              "#7201a8"
             ],
             [
              0.3333333333333333,
              "#9c179e"
             ],
             [
              0.4444444444444444,
              "#bd3786"
             ],
             [
              0.5555555555555556,
              "#d8576b"
             ],
             [
              0.6666666666666666,
              "#ed7953"
             ],
             [
              0.7777777777777778,
              "#fb9f3a"
             ],
             [
              0.8888888888888888,
              "#fdca26"
             ],
             [
              1,
              "#f0f921"
             ]
            ],
            "type": "histogram2dcontour"
           }
          ],
          "mesh3d": [
           {
            "colorbar": {
             "outlinewidth": 0,
             "ticks": ""
            },
            "type": "mesh3d"
           }
          ],
          "parcoords": [
           {
            "line": {
             "colorbar": {
              "outlinewidth": 0,
              "ticks": ""
             }
            },
            "type": "parcoords"
           }
          ],
          "pie": [
           {
            "automargin": true,
            "type": "pie"
           }
          ],
          "scatter": [
           {
            "fillpattern": {
             "fillmode": "overlay",
             "size": 10,
             "solidity": 0.2
            },
            "type": "scatter"
           }
          ],
          "scatter3d": [
           {
            "line": {
             "colorbar": {
              "outlinewidth": 0,
              "ticks": ""
             }
            },
            "marker": {
             "colorbar": {
              "outlinewidth": 0,
              "ticks": ""
             }
            },
            "type": "scatter3d"
           }
          ],
          "scattercarpet": [
           {
            "marker": {
             "colorbar": {
              "outlinewidth": 0,
              "ticks": ""
             }
            },
            "type": "scattercarpet"
           }
          ],
          "scattergeo": [
           {
            "marker": {
             "colorbar": {
              "outlinewidth": 0,
              "ticks": ""
             }
            },
            "type": "scattergeo"
           }
          ],
          "scattergl": [
           {
            "marker": {
             "colorbar": {
              "outlinewidth": 0,
              "ticks": ""
             }
            },
            "type": "scattergl"
           }
          ],
          "scattermapbox": [
           {
            "marker": {
             "colorbar": {
              "outlinewidth": 0,
              "ticks": ""
             }
            },
            "type": "scattermapbox"
           }
          ],
          "scatterpolar": [
           {
            "marker": {
             "colorbar": {
              "outlinewidth": 0,
              "ticks": ""
             }
            },
            "type": "scatterpolar"
           }
          ],
          "scatterpolargl": [
           {
            "marker": {
             "colorbar": {
              "outlinewidth": 0,
              "ticks": ""
             }
            },
            "type": "scatterpolargl"
           }
          ],
          "scatterternary": [
           {
            "marker": {
             "colorbar": {
              "outlinewidth": 0,
              "ticks": ""
             }
            },
            "type": "scatterternary"
           }
          ],
          "surface": [
           {
            "colorbar": {
             "outlinewidth": 0,
             "ticks": ""
            },
            "colorscale": [
             [
              0,
              "#0d0887"
             ],
             [
              0.1111111111111111,
              "#46039f"
             ],
             [
              0.2222222222222222,
              "#7201a8"
             ],
             [
              0.3333333333333333,
              "#9c179e"
             ],
             [
              0.4444444444444444,
              "#bd3786"
             ],
             [
              0.5555555555555556,
              "#d8576b"
             ],
             [
              0.6666666666666666,
              "#ed7953"
             ],
             [
              0.7777777777777778,
              "#fb9f3a"
             ],
             [
              0.8888888888888888,
              "#fdca26"
             ],
             [
              1,
              "#f0f921"
             ]
            ],
            "type": "surface"
           }
          ],
          "table": [
           {
            "cells": {
             "fill": {
              "color": "#EBF0F8"
             },
             "line": {
              "color": "white"
             }
            },
            "header": {
             "fill": {
              "color": "#C8D4E3"
             },
             "line": {
              "color": "white"
             }
            },
            "type": "table"
           }
          ]
         },
         "layout": {
          "annotationdefaults": {
           "arrowcolor": "#2a3f5f",
           "arrowhead": 0,
           "arrowwidth": 1
          },
          "autotypenumbers": "strict",
          "coloraxis": {
           "colorbar": {
            "outlinewidth": 0,
            "ticks": ""
           }
          },
          "colorscale": {
           "diverging": [
            [
             0,
             "#8e0152"
            ],
            [
             0.1,
             "#c51b7d"
            ],
            [
             0.2,
             "#de77ae"
            ],
            [
             0.3,
             "#f1b6da"
            ],
            [
             0.4,
             "#fde0ef"
            ],
            [
             0.5,
             "#f7f7f7"
            ],
            [
             0.6,
             "#e6f5d0"
            ],
            [
             0.7,
             "#b8e186"
            ],
            [
             0.8,
             "#7fbc41"
            ],
            [
             0.9,
             "#4d9221"
            ],
            [
             1,
             "#276419"
            ]
           ],
           "sequential": [
            [
             0,
             "#0d0887"
            ],
            [
             0.1111111111111111,
             "#46039f"
            ],
            [
             0.2222222222222222,
             "#7201a8"
            ],
            [
             0.3333333333333333,
             "#9c179e"
            ],
            [
             0.4444444444444444,
             "#bd3786"
            ],
            [
             0.5555555555555556,
             "#d8576b"
            ],
            [
             0.6666666666666666,
             "#ed7953"
            ],
            [
             0.7777777777777778,
             "#fb9f3a"
            ],
            [
             0.8888888888888888,
             "#fdca26"
            ],
            [
             1,
             "#f0f921"
            ]
           ],
           "sequentialminus": [
            [
             0,
             "#0d0887"
            ],
            [
             0.1111111111111111,
             "#46039f"
            ],
            [
             0.2222222222222222,
             "#7201a8"
            ],
            [
             0.3333333333333333,
             "#9c179e"
            ],
            [
             0.4444444444444444,
             "#bd3786"
            ],
            [
             0.5555555555555556,
             "#d8576b"
            ],
            [
             0.6666666666666666,
             "#ed7953"
            ],
            [
             0.7777777777777778,
             "#fb9f3a"
            ],
            [
             0.8888888888888888,
             "#fdca26"
            ],
            [
             1,
             "#f0f921"
            ]
           ]
          },
          "colorway": [
           "#636efa",
           "#EF553B",
           "#00cc96",
           "#ab63fa",
           "#FFA15A",
           "#19d3f3",
           "#FF6692",
           "#B6E880",
           "#FF97FF",
           "#FECB52"
          ],
          "font": {
           "color": "#2a3f5f"
          },
          "geo": {
           "bgcolor": "white",
           "lakecolor": "white",
           "landcolor": "#E5ECF6",
           "showlakes": true,
           "showland": true,
           "subunitcolor": "white"
          },
          "hoverlabel": {
           "align": "left"
          },
          "hovermode": "closest",
          "mapbox": {
           "style": "light"
          },
          "paper_bgcolor": "white",
          "plot_bgcolor": "#E5ECF6",
          "polar": {
           "angularaxis": {
            "gridcolor": "white",
            "linecolor": "white",
            "ticks": ""
           },
           "bgcolor": "#E5ECF6",
           "radialaxis": {
            "gridcolor": "white",
            "linecolor": "white",
            "ticks": ""
           }
          },
          "scene": {
           "xaxis": {
            "backgroundcolor": "#E5ECF6",
            "gridcolor": "white",
            "gridwidth": 2,
            "linecolor": "white",
            "showbackground": true,
            "ticks": "",
            "zerolinecolor": "white"
           },
           "yaxis": {
            "backgroundcolor": "#E5ECF6",
            "gridcolor": "white",
            "gridwidth": 2,
            "linecolor": "white",
            "showbackground": true,
            "ticks": "",
            "zerolinecolor": "white"
           },
           "zaxis": {
            "backgroundcolor": "#E5ECF6",
            "gridcolor": "white",
            "gridwidth": 2,
            "linecolor": "white",
            "showbackground": true,
            "ticks": "",
            "zerolinecolor": "white"
           }
          },
          "shapedefaults": {
           "line": {
            "color": "#2a3f5f"
           }
          },
          "ternary": {
           "aaxis": {
            "gridcolor": "white",
            "linecolor": "white",
            "ticks": ""
           },
           "baxis": {
            "gridcolor": "white",
            "linecolor": "white",
            "ticks": ""
           },
           "bgcolor": "#E5ECF6",
           "caxis": {
            "gridcolor": "white",
            "linecolor": "white",
            "ticks": ""
           }
          },
          "title": {
           "x": 0.05
          },
          "xaxis": {
           "automargin": true,
           "gridcolor": "white",
           "linecolor": "white",
           "ticks": "",
           "title": {
            "standoff": 15
           },
           "zerolinecolor": "white",
           "zerolinewidth": 2
          },
          "yaxis": {
           "automargin": true,
           "gridcolor": "white",
           "linecolor": "white",
           "ticks": "",
           "title": {
            "standoff": 15
           },
           "zerolinecolor": "white",
           "zerolinewidth": 2
          }
         }
        },
        "title": {
         "text": "Kano Model: Functional vs. Dysfunctional Scores"
        },
        "xaxis": {
         "anchor": "y",
         "domain": [
          0,
          1
         ],
         "ticktext": [
          "Like",
          "Must-be",
          "Neutral",
          "Live with",
          "Dislike"
         ],
         "tickvals": [
          -2,
          -1,
          0,
          2,
          4
         ],
         "title": {
          "text": "Dysfunctional"
         }
        },
        "yaxis": {
         "anchor": "x",
         "domain": [
          0,
          1
         ],
         "ticktext": [
          "Dislike",
          "Live with",
          "Neutral",
          "Neutral",
          "Like"
         ],
         "tickvals": [
          -2,
          -1,
          0,
          2,
          4
         ],
         "title": {
          "text": "Functional"
         }
        }
       }
      }
     },
     "metadata": {},
     "output_type": "display_data"
    }
   ],
   "source": [
    "def plot_kano_results_with_errors(df_averages, plot_title='Kano Model with Errors'):\n",
    "    \"\"\"Plots Kano results using Plotly with error bars for functional and dysfunctional scores.\"\"\"\n",
    "    fig = px.scatter(df_averages,\n",
    "                     x='Average Dysfunctional Score',\n",
    "                     y='Average Functional Score',\n",
    "                     text='Feature', \n",
    "                     title=plot_title,\n",
    "                     error_x='Dysfunctional StdDev',  # Add standard deviation for dysfunctional scores\n",
    "                     error_y='Functional StdDev')  # Add standard deviation for functional scores\n",
    "\n",
    "   \n",
    "\n",
    "# Step 6: Calculate Kano averages\n",
    "df_averages = calculate_kano_averages(df_kano, feature_names)\n",
    "\n",
    "\n",
    "# Step 7: Plot Kano results with standard deviations\n",
    "plot_kano_results(df_averages)\n"
   ]
  },
  {
   "cell_type": "code",
   "execution_count": 3,
   "metadata": {},
   "outputs": [],
   "source": [
    "#plot_interactive_scatter_for_feature(df_kano, 'Doors')"
   ]
  },
  {
   "cell_type": "code",
   "execution_count": 4,
   "metadata": {},
   "outputs": [
    {
     "name": "stderr",
     "output_type": "stream",
     "text": [
      "c:\\Users\\TomiNordi2m\\OneDrive - i2m Unternehmensentwicklung GmbH\\Documents\\Python\\GIANTS Survey Data Analysis\\GIANTS_kano_analysis.py:91: UserWarning:\n",
      "\n",
      "marker is redundantly defined by the 'marker' keyword argument and the fmt string \"o\" (-> marker='o'). The keyword argument will take precedence.\n",
      "\n",
      "c:\\Users\\TomiNordi2m\\OneDrive - i2m Unternehmensentwicklung GmbH\\Documents\\Python\\GIANTS Survey Data Analysis\\GIANTS_kano_analysis.py:95: UserWarning:\n",
      "\n",
      "marker is redundantly defined by the 'marker' keyword argument and the fmt string \"o\" (-> marker='o'). The keyword argument will take precedence.\n",
      "\n"
     ]
    },
    {
     "data": {
      "image/png": "[encoded data removed]",
      "text/plain": [
       "<Figure size 1200x1000 with 1 Axes>"
      ]
     },
     "metadata": {},
     "output_type": "display_data"
    }
   ],
   "source": [
    "#Standard Deviations of Features\n",
    "plot_feature_means_with_std(df_averages)\n"
   ]
  },
  {
   "cell_type": "code",
   "execution_count": 5,
   "metadata": {},
   "outputs": [],
   "source": [
    "# Step 8: Plot Kano analysis for each age group (set show_plot to False to avoid showing)\n",
    "#plot_kano_by_age_group(df, df_kano, feature_names)"
   ]
  },
  {
   "cell_type": "code",
   "execution_count": 6,
   "metadata": {},
   "outputs": [],
   "source": [
    "#kano_analysis_for_students(df, df_kano, feature_names)"
   ]
  },
  {
   "cell_type": "code",
   "execution_count": 7,
   "metadata": {},
   "outputs": [],
   "source": [
    "\n",
    "# Step 9: Plot the market distribution\n",
    "#plot_market_distribution(df)\n",
    "\n",
    "\n",
    "# Plot age distribution\n",
    "#plot_age_distribution(df)\n",
    "\n",
    "# Plot income distribution\n",
    "#plot_income_distribution(df)\n",
    "\n",
    "#Plot user type distribution\n",
    "#plot_user_type_distribution(df)\n",
    "\n",
    "\n",
    "#df = apply_persona_classification(df)\n",
    "\n",
    "# Print the first few rows to check the classified personas\n",
    "#print(df[['Persona']].head(20))"
   ]
  },
  {
   "cell_type": "code",
   "execution_count": 8,
   "metadata": {},
   "outputs": [
    {
     "data": {
      "image/png": "[encoded data removed]",
      "text/plain": [
       "<Figure size 800x500 with 1 Axes>"
      ]
     },
     "metadata": {},
     "output_type": "display_data"
    },
    {
     "data": {
      "image/png": "[encoded data removed]",
      "text/plain": [
       "<Figure size 1000x600 with 1 Axes>"
      ]
     },
     "metadata": {},
     "output_type": "display_data"
    },
    {
     "name": "stdout",
     "output_type": "stream",
     "text": [
      "Number of points plotted: 259\n"
     ]
    }
   ],
   "source": [
    "# Preprocess specifically for clustering (inside the clustering module)\n",
    "df_scaled, df_encoded = preprocess_for_clustering(df)\n",
    "\n",
    "# Perform clustering\n",
    "df_with_clusters = perform_clustering(df_scaled, df_encoded)\n",
    "\n",
    "# Plot the elbow method to find the optimal number of clusters\n",
    "plot_elbow_method(df_scaled, max_clusters=10)\n",
    "\n",
    "# Visualize clusters (optional)\n",
    "visualize_clusters_with_pca(df_scaled, df_with_clusters)\n",
    "\n",
    "# Assuming you have already performed clustering and added the 'cluster' column:\n",
    "df_with_clusters = perform_clustering(df_scaled, df_encoded, n_clusters=4)\n",
    "\n",
    "# Now, analyze the survey responses by cluster\n",
    "analyze_survey_responses_by_cluster(df_with_clusters)\n"
   ]
  }
 ],
 "metadata": {
  "kernelspec": {
   "display_name": "Python 3",
   "language": "python",
   "name": "python3"
  },
  "language_info": {
   "codemirror_mode": {
    "name": "ipython",
    "version": 3
   },
   "file_extension": ".py",
   "mimetype": "text/x-python",
   "name": "python",
   "nbconvert_exporter": "python",
   "pygments_lexer": "ipython3",
   "version": "3.12.4"
  }
 },
 "nbformat": 4,
 "nbformat_minor": 2
}
