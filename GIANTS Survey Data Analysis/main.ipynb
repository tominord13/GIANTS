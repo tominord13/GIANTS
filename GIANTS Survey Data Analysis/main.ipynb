{
 "cells": [
  {
   "cell_type": "code",
   "execution_count": 1,
   "metadata": {},
   "outputs": [
    {
     "name": "stdout",
     "output_type": "stream",
     "text": [
      "['Timestamp', 'GENDER', 'AGE', 'COUNTRY', 'CITY', '5. What is the population where you live? (*If you are completing this survey as a fleet operator, public authority, etc. the population of the primary city of your operations / city you represent)', 'USER TYPE', 'EDUCATION', 'ADULTS', 'KIDS', 'TODDLERS', 'INFANTS', 'INCOME', '10. Please indicate the typical elevation profile of the areas where you drive most frequently. Choose the option that best describes the terrain:', '11. Road quality: What type of terrain do you primarily drive on? Please select the option that best describes the surface conditions of the roads you typically use: ', '12. What type and how many vehicles does your household currently own? [Sedan (traditional passenger car)]', '12. What type and how many vehicles does your household currently own? [SUV / Truck]', '12. What type and how many vehicles does your household currently own? [Three-wheel vehicle]', '12. What type and how many vehicles does your household currently own? [Motorcycle / Scooter]', '12. What type and how many vehicles does your household currently own? [Cargo bicycle]', '12. What type and how many vehicles does your household currently own? [Bicycle]', '12. What type and how many vehicles does your household currently own? [E-scooter]', '12. What type and how many vehicles does your household currently own? [L5 LEV / Three-wheel vehicle]', '12. What type and how many vehicles does your household currently own? [L6/L7 LEV / Four-wheel vehicle]', '13. Other vehicles (please specify type and number):', 'PRIMARY TRANSPORT MODE', '15. How is this vehicle powered?', 'PURPOSE', '17. In what conditions/context do you normally choose this transport mode?  (Multiple answers allowed.)', '18. Do you use this mode of transport in connection with another mode?  (Multiple answers allowed.)', '19. What is your secondary/alternate mode of transportation? ', '20. How is this vehicle powered?', '21. How do you generally use your secondary mode of transportation? (Multiple answers allowed.)', '22. In what conditions/context do you normally choose this transport mode?  (Multiple answers allowed.)', '23. Do you use this mode of transport in connection with another mode?  (Multiple answers allowed.)', '24. What type of housing do you live in? (relevant for charging infrastructure):', '25. How many ‘car’ parking spaces do you have available for yourself at your residence (even if used for other type of vehicles, bicycles, etc.)?', '26. Would you/your building be able to install charging infrastructure at your home?', '27. How many hours do you generally spend per week on the following in your own vehicles / on public transport? (Road types are only an example. Please choose what best aligns with the infrastructure/speed limit.) [Bicycle infrastructure (<25 km/h)]', '27. How many hours do you generally spend per week on the following in your own vehicles / on public transport? (Road types are only an example. Please choose what best aligns with the infrastructure/speed limit.) [Local (sub)urban roads (restricted speeds / residential areas) (20 – 30 km/h)]', '27. How many hours do you generally spend per week on the following in your own vehicles / on public transport? (Road types are only an example. Please choose what best aligns with the infrastructure/speed limit.) [Local (built environment / unrestricted speeds) (30 – 50 km/h)]', '27. How many hours do you generally spend per week on the following in your own vehicles / on public transport? (Road types are only an example. Please choose what best aligns with the infrastructure/speed limit.) [Local public transport - bus]', '27. How many hours do you generally spend per week on the following in your own vehicles / on public transport? (Road types are only an example. Please choose what best aligns with the infrastructure/speed limit.) [Regional / long distance public transport - bus]', '27. How many hours do you generally spend per week on the following in your own vehicles / on public transport? (Road types are only an example. Please choose what best aligns with the infrastructure/speed limit.) [Local rail - train]', '27. How many hours do you generally spend per week on the following in your own vehicles / on public transport? (Road types are only an example. Please choose what best aligns with the infrastructure/speed limit.) [Regional / long distance rail - train]', '27. How many hours do you generally spend per week on the following in your own vehicles / on public transport? (Road types are only an example. Please choose what best aligns with the infrastructure/speed limit.) [Rural roads / motorways (45 – 70 km/h)]', '27. How many hours do you generally spend per week on the following in your own vehicles / on public transport? (Road types are only an example. Please choose what best aligns with the infrastructure/speed limit.) [Rural roads / motorways (70 – 90 km/h)]', '27. How many hours do you generally spend per week on the following in your own vehicles / on public transport? (Road types are only an example. Please choose what best aligns with the infrastructure/speed limit.) [Highway\\t (>90 km/h)]', '28. If you rent vehicles from an agency, what type and for what purpose? ', '29. If you use shared vehicles, what type and for what purpose? ', '30. What model would best represent your preferred usage of a frugal L5/L6/L7 light electric vehicle?', '31. Additional Heating [How do you feel if the LEV has an additional heating system (beyond the defogging/de-icing required by law which provides some heating)?]', '31. Additional Heating [How do you feel if the LEV does not have an additional heating system?]', '32. Air Conditioning [How do you feel if the LEV has air conditioning?]', '32. Air Conditioning [How do you feel if the LEV does not have air conditioning?]', '33. Cargo Capacity - smaller vehicle (2-person) [How do you feel if the LEV has a higher cargo / weight capacity (including driver, passengers, cargo >200kg total)?]', '33. Cargo Capacity - smaller vehicle (2-person) [How do you feel if the LEV has limited cargo / weight capacity (<200kg total)?]', '34. Cargo Capacity – larger vehicle (4-person) [How do you feel if the LEV has a higher cargo / weight capacity (including, driver, passengers, cargo >450kg total)?]', '34. Cargo Capacity – larger vehicle (4-person) [How do you feel if the LEV has limited cargo capacity (<450kg total)?]', '35. Tailorable (vehicle modifications made by the user) changes in seating and cargo space [How do you feel if the LEV allows for modular changes  to shift seating for cargo space?]', '35. Tailorable (vehicle modifications made by the user) changes in seating and cargo space [How do you feel if the LEV does not allow for modular changes to shift seating for cargo space?]', '36. Anti-Lock Braking Systems (ABS) [How do you feel if the LEV includes Anti-Lock Braking Systems (ABS)?]', '36. Anti-Lock Braking Systems (ABS) [How do you feel if the LEV does not include ABS? ]', '37. Backing Up Alarm [How do you feel if the LEV includes a vehicle motion alarm (driving in reverse / backing up alarm)?]', '37. Backing Up Alarm [How do you feel if the LEV does not include a backing up alarm?]', '38. Headrests and Mirrors [How do you feel if the LEV includes headrests and side/rear-view mirrors?]', '38. Headrests and Mirrors [How do you feel if the LEV does not include headrests and side/rear-view mirrors?]', '39. Crash Safety Features [How do you feel if the LEV includes safety features in relation to crash safety such as airbags, crumple zones (structural features- to absorb impact in a collision), a collapsable steering column (mechanical feature designed to prevent the steering column from penetrating the interior of the car or the driver in the case of a collision)?]', '39. Crash Safety Features [How do you feel if the LEV does not include safety features in relation to crash safety such as airbags, crumple zones, a collapsable steering column?]', '40. Passenger Capacity [How do you feel if the LEV can carry more than 2 passengers?]', '40. Passenger Capacity [How do you feel if the LEV can not carry more than 2 passengers?]', '41. Doors [How do you feel if the LEV is enclosed and with doors?]', '41. Doors [How do you feel if the LEV is open and without doors?]', '42. Anti-Theft [How do you feel if the LEVs were capable of (if software was developed) advanced anti-theft features, such as GPS tracking systems, an alarm?]', '42. Anti-Theft [How do you feel if the LEVs were not capable of advanced anti-theft features?]', '43. Comfort Features  [How do you feel if the LEV has additional comfort features, such as cupholders, speakers, vanity mirrors?]', '43. Comfort Features  [How do you feel if the LEV does not have additional comfort features?]', '44. Comfort Features - Space [How do you feel if the LEV has extra legroom / headspace in the vehicle?]', '44. Comfort Features - Space [How do you feel if the LEV does not have extra legroom / headspace in the vehicle?]', '45. Comfort Features – Acoustic (shield from noise) [How do you feel if the LEV has extra acoustic dampening qualities (shield from external/road noise)?]', '45. Comfort Features – Acoustic (shield from noise) [How do you feel if the LEV does not have extra acoustic dampening qualities (shield from external/road noise)?]', '46. Compact Size [How do you feel if the LEV has a compact size (<2 meters length) and is able to park crosswise?]', '46. Compact Size [How do you feel if the LEV is not this compact?]', '47. Vehicle Aesthetics and Design [How do you feel if you find the vehicle aesthetics and design appealing when purchasing a vehicle?]', '47. Vehicle Aesthetics and Design [How do you feel if you do not find the vehicle aesthetics and design appealing when purchasing a vehicle?]', '48. Swappable Batteries for Charging [How do you feel if the LEV has swappable batteries for charging?]', '48. Swappable Batteries for Charging [How do you feel if the LEV does not have swappable batteries for charging?]', '49. Swappable Batteries – Ability to self-swap [How would you feel if the swappable batteries were of a weight and placement in the vehicle which allowed the user to change these on their own?]', '49. Swappable Batteries – Ability to self-swap [How would you feel if the swappable batteries were not of a weight and placement in the vehicle which allowed the user to change these on their own?]', '50. Power Capacity [How would you feel if the vehicle was capable of having backup (extra) batteries?]', '50. Power Capacity [How would you feel if the vehicle was not capable of having backup (extra) batteries?]', '51. Rapid Charging [How do you feel if the LEV supports rapid charging -~45 minutes (normal charging time 3.5 hours)?]', '51. Rapid Charging [How do you feel if the LEV does not support rapid charging?]', '52. Charging Infrastructure [How do you feel if the LEV is compatible with standard public charging stations?]', '52. Charging Infrastructure [How do you feel if the LEV is not compatible with standard public charging stations? (requires specialised charging infrastructure and can mostly only be charged at home?]', '53. Battery Enclosure [How would you feel if the battery was in a secured enclosure/casing to protect it from floods/water?]', '53. Battery Enclosure [How would you feel if the battery was not in a secured enclosure/casing to protect it from floods/water?]', '54. Solar Panels [How do you feel if the LEV has solar panels?]', '54. Solar Panels [How do you feel if the LEV does not have solar panels?]', '55. How important do you rank the following features (1 = Not Important, 9 = Extremely Important) [Additional Heating]', '55. How important do you rank the following features (1 = Not Important, 9 = Extremely Important) [Air Conditioning]', '55. How important do you rank the following features (1 = Not Important, 9 = Extremely Important) [Cargo / Passenger capacity]', '55. How important do you rank the following features (1 = Not Important, 9 = Extremely Important) [Price]', '55. How important do you rank the following features (1 = Not Important, 9 = Extremely Important) [Tailorable (vehicle modifications made by the user) changes in seating and cargo space]', '55. How important do you rank the following features (1 = Not Important, 9 = Extremely Important) [Doors]', '55. How important do you rank the following features (1 = Not Important, 9 = Extremely Important) [Charging Infrastructure]', '55. How important do you rank the following features (1 = Not Important, 9 = Extremely Important) [Safety Features (in general)]', '55. How important do you rank the following features (1 = Not Important, 9 = Extremely Important) [Vehicle Aesthetics and Design]', '56.  How important do you rank the following features (1 = Not Important, 9 = Extremely Important) [Price]', '56.  How important do you rank the following features (1 = Not Important, 9 = Extremely Important) [Safety features (in general)]', '56.  How important do you rank the following features (1 = Not Important, 9 = Extremely Important) [Anti-theft features]', '56.  How important do you rank the following features (1 = Not Important, 9 = Extremely Important) [Range (cover longer distances without charging)]', '56.  How important do you rank the following features (1 = Not Important, 9 = Extremely Important) [Rapid charging]', '56.  How important do you rank the following features (1 = Not Important, 9 = Extremely Important) [Swappable batteries for charging (lighter, ability to self-swap)]', '56.  How important do you rank the following features (1 = Not Important, 9 = Extremely Important) [Comfort features - Space (legroom and headspace)]', '56.  How important do you rank the following features (1 = Not Important, 9 = Extremely Important) [Comfort Features – Acoustic (shield from noise)]', '56.  How important do you rank the following features (1 = Not Important, 9 = Extremely Important) [Solar panels]', '57.  How important do you rank the following safety features (1 = Not Important, 9 = Extremely Important) [Anti-Lock Braking Systems (ABS)]', '57.  How important do you rank the following safety features (1 = Not Important, 9 = Extremely Important) [Driving in reverse / Backing up alarm]', '57.  How important do you rank the following safety features (1 = Not Important, 9 = Extremely Important) [Headrests]', '57.  How important do you rank the following safety features (1 = Not Important, 9 = Extremely Important) [Side/rear-view mirrors]', '57.  How important do you rank the following safety features (1 = Not Important, 9 = Extremely Important) [Airbags]', '57.  How important do you rank the following safety features (1 = Not Important, 9 = Extremely Important) [Crumple zones]', '57.  How important do you rank the following safety features (1 = Not Important, 9 = Extremely Important) [Collapsable steering column]', '58. How much payload/passenger capacity meets your minimum needs? How much payload capacity is enough to fulfil the purpose of your travel?  [100 kg capacity (people + cargo)]', '58. How much payload/passenger capacity meets your minimum needs? How much payload capacity is enough to fulfil the purpose of your travel?  [Between 100 and 250 kg capacity (people + cargo)]', '58. How much payload/passenger capacity meets your minimum needs? How much payload capacity is enough to fulfil the purpose of your travel?  [Between 250 and 450 kg capacity (people + cargo)]', '58. How much payload/passenger capacity meets your minimum needs? How much payload capacity is enough to fulfil the purpose of your travel?  [Between 450 and 650 kg capacity (people + cargo)]', '58. How much payload/passenger capacity meets your minimum needs? How much payload capacity is enough to fulfil the purpose of your travel?  [Between 600 and 1000 kg capacity (people + cargo)]', '58. How much payload/passenger capacity meets your minimum needs? How much payload capacity is enough to fulfil the purpose of your travel?  [> 1000 kg capacity (people + cargo)]', '59. If you would invest in an affordable light electric vehicle which category would best suit your mobility needs? (Multiple answers allowed.)', '60. Do you have any comments regarding the previous question?', '61. If you were to decide to use a light electric vehicle, which situation applies to you? Would the addition of a frugal light electric vehicle to your household replace your current vehicle usage habits? If so which vehicle/s? (Multiple answers allowed.) ', '62. If you do not already own an L5/L6/L7 LEV, why would you consider investing in one? ', '63. If we develop an L5/L6/L7 LEV vehicle that fulfils all your needs/purposes described above OR replace your current vehicle(s), what price range do you estimate as reasonable/affordable within your market in Euros (€/EUR)? (Link to EU currency converter)', '64. What incentives or benefits would motivate you to switch from conventional vehicles to frugal light electric vehicles?', '65. How often do you use the HVAC system (Heating, Ventilation, and Air Conditioning) in your car, and for what purposes? Please select the option that best describes your usage.', '66. Does your city of operations have sufficient public charging space for vehicles?', '67. What do you see as barriers to using an L5/L6/L7 LEV vehicle as a primary form of transport/work vehicle?  ', '68. How easy is it to find parking in your daily travels? (1 = Not easy, 9 = Extremely easy) [Ease of Parking]', '69. How fair do you think it is to pay a parking fee relative to the size of the vehicle? (1 = Not Fair, 9 = Extremely Fair) [Parking fee fairness]', '70. What safety precautions would you feel most necessary/important for yourself and/or transporting children? (Choose 1-3 answers.)', '71. What age do you think is appropriate for operating an L5/L6/L7 LEV vehicle?', '72. Do you identify any age restrictions/courses/licensing which are in place / should be in place on who can drive a frugal L5/L6/L7 LEV, or in any specific use case?', '73. Are there any transport spaces you feel L5/L6/L7 class LEV vehicles should not be permitted to operate for safety reasons? (Multiple answers allowed.)', '74. Are there any transport spaces in your area which you feel L5/L6/L7 class LEV vehicles should be permitted to operate where traditional larger vehicles can not? (Multiple answers allowed.)', '75. Do you have any additional views or feedback on operational and safety aspects of frugal L5/L6/L7 LEVs (what is best; what to avoid; issues encountered in your city/region/country)?', '76. Any comments on the effectiveness of enforcement (parking, charging areas, areas of operation) in regard to anything that should be changed?', '77. How important is it to you to have ample charging stations conveniently located throughout your area? (1 = Not Important, 9 = Extremely Important) [Charging station importance]', '78. How important is it to you to have locally available replacement parts? (1 = Not Important, 9 = Extremely Important) [Locally available replacement parts importance]', '79. How important is it to you to have local after-sales support services (maintenance, repair)? (1 = Not Important, 9 = Extremely Important) [Local after-sales support importance]', '80. What benefits do you foresee with other road users sharing the space with this class of vehicle?', '81. What concerns do you have or foresee with other road users sharing the space with this class of vehicle: safety, negative perceptions, allocation of space, potential conflicts, etc.?', '82. Do you see any need for subsidies or incentives offered to users (e.g. low-income, pensioners, etc.)? ', '83. Do you support/want increased use of these smaller, more frugal L-class vehicles?', '84. What would you see as potential incentives to increase uptake?', '85. What would be the ideal type and characteristics of an L5/L6/L7 class LEV vehicle to perform municipal services, and for what purpose would you consider these vehicles?', '86. How well do you think local regulations support the adoption and effective use of electric vehicles? Consider incentives, infrastructure support, and other policies.', '87. What changes in local regulations would most benefit the adoption and effective use of these vehicles?', '88. Do you have any infrastructure or incentives in place to support differentiated parking fees (by size of vehicle)?', '89. Do you have / plan to have charging facilities at mobility hubs?', '90. Do you have / plan to have public charging facilities?', '91. Are there existing policies that you feel need re-thinking, changed, or improved upon in relation to accelerating the implementation of charging infrastructure / increasing usage of LEVs in fleets / improving road safety? etc.', '92. What requirements would you need met to provide municipal services with L5/L6/L7 class EV fleets? (For example, for work in city parks and playground services, maintaining active transport infrastructure, garbage removal, de-icing streets, vehicles for office staff, shared municipal vehicles, etc.)', '93. What are the most significant barriers to the adoption of electric vehicles in your area?', '94. Are there any current or planned government-led programs for financing or funding procurement of LEVs? If yes, which market segment are these targeted for (e.g. logistics company, private users or individuals, transport service providers, manufacturers, etc)?', '95. How many passenger/cargo vehicles are in your fleet?', '96. During typical daily fleet operations, what payload capacity would be sufficient for L5/L6/L7 class LEVs to meet your needs?', '97. What charging system would be most preferable to ensure smooth fleet operations? ', '98. Over the course of typical daily operations, what would be the necessary minimum maximum speed required of an L5/L6/L7 LEV?', '99. What is the average daily km covered by a vehicle in your fleet? ', '100. What is the typical total length of time that a vehicle in your fleet stands idle over the course of 24 hours? (Please include time parked at locations where charging facilities might conceivably be provided) ', '101. Durability: What qualities do you require? Do you have any suggestions to strengthen the overall durability of fleet vehicles? ', '102. From your experience, what aspects/parts of LEVs could be optimised towards a circular economy?   ', '103. What security features do you need / expect?', '104. What would you need to ensure the vehicles / fleets could be adapted with external software for such tasks as real-time vehicle tracking, unlocking, maintenance management, analytics on energy consumption?', '105. Do banks have favourable interest rates or financing schemes that help different kinds of users in purchasing LEVs? What are the usual terms for bank/loan programs?', '106. Have you/your organization/company been a recipient of an electric vehicle project pilot/program/initiative in the past or currently? If yes, could you provide some further details such as project names, the procurement arrangement (donated, partially paid, fully paid), types of LEVs and how many vehicles were involved?', 'Do you have any other comments?']\n",
      "['Single Person Household' 'Couple / Family (2)' 'Family (3-5)' 'Unknown'\n",
      " 'Big Family (5+)']\n"
     ]
    },
    {
     "data": {
      "application/vnd.plotly.v1+json": {
       "config": {
        "plotlyServerURL": "https://plot.ly"
       },
       "data": [
        {
         "hovertemplate": "Average Dysfunctional Score=%{x}<br>Average Functional Score=%{y}<br>Feature=%{text}<extra></extra>",
         "legendgroup": "",
         "marker": {
          "color": "#636efa",
          "symbol": "circle"
         },
         "mode": "markers+text",
         "name": "",
         "orientation": "v",
         "showlegend": false,
         "text": [
          "Heating System",
          "Air Conditioning",
          "Small Vehicle Cargo Capacity",
          "Large Vehicle Cargo Capacity",
          "Tailorable",
          "ABS",
          "Backing Up Alarm",
          "Headrests and Mirrors",
          "Crash Safety Features",
          "Passenger Capacity",
          "Doors",
          "Anti-theft",
          "Comfort Features",
          "Comfort Features - Space",
          "Comfort Features - Acoustic",
          "Compact Size",
          "Vehicle Aesthetics",
          "General Swappable Batteries",
          "Self-Swappable Batteries",
          "Power Capacity",
          "Rapid Charging",
          "Charging Infrastructure",
          "Battery Enclosure",
          "Solar Panels"
         ],
         "textposition": "top center",
         "type": "scatter",
         "x": [
          1.4826254826254825,
          1.359073359073359,
          0.8764478764478765,
          0.583011583011583,
          1.5675675675675675,
          1.7915057915057915,
          0.8803088803088803,
          2.6216216216216215,
          2.1042471042471043,
          1.054054054054054,
          2.4092664092664093,
          1.2895752895752897,
          0.6988416988416989,
          1.2625482625482625,
          1.0772200772200773,
          1.5173745173745175,
          1.6525096525096525,
          1.528957528957529,
          1.8532818532818534,
          1.2162162162162162,
          1.2664092664092663,
          2.33976833976834,
          2.3552123552123554,
          0
         ],
         "xaxis": "x",
         "y": [
          1.5675675675675675,
          1.7142857142857142,
          1.2972972972972974,
          1.1544401544401544,
          2.4633204633204633,
          2.1505791505791505,
          1.1583011583011582,
          2.250965250965251,
          2.2046332046332044,
          1.61003861003861,
          2.471042471042471,
          1.803088803088803,
          1.1003861003861004,
          1.803088803088803,
          1.5984555984555984,
          2.3204633204633205,
          2.1196911196911197,
          2.250965250965251,
          2.312741312741313,
          2.312741312741313,
          2.1274131274131274,
          2.563706563706564,
          2.1042471042471043,
          2.1737451737451736
         ],
         "yaxis": "y"
        }
       ],
       "layout": {
        "annotations": [
         {
          "font": {
           "color": "LightSeaGreen",
           "size": 16
          },
          "showarrow": false,
          "text": "Performance",
          "x": 3,
          "y": 3.5
         },
         {
          "font": {
           "color": "LightCoral",
           "size": 16
          },
          "showarrow": false,
          "text": "Must-have",
          "x": 3,
          "y": 1
         },
         {
          "font": {
           "color": "LightBlue",
           "size": 16
          },
          "showarrow": false,
          "text": "Attractive",
          "x": 1,
          "y": 3.5
         },
         {
          "font": {
           "color": "Gray",
           "size": 16
          },
          "showarrow": false,
          "text": "Indifferent",
          "x": 1,
          "y": 1
         }
        ],
        "legend": {
         "tracegroupgap": 0
        },
        "shapes": [
         {
          "fillcolor": "PaleTurquoise",
          "layer": "below",
          "line": {
           "color": "LightSeaGreen"
          },
          "opacity": 0.3,
          "type": "rect",
          "x0": 2,
          "x1": 4,
          "y0": 2,
          "y1": 4
         },
         {
          "fillcolor": "LightSalmon",
          "layer": "below",
          "line": {
           "color": "LightCoral"
          },
          "opacity": 0.3,
          "type": "rect",
          "x0": 2,
          "x1": 4,
          "y0": 0,
          "y1": 2
         },
         {
          "fillcolor": "LightSteelBlue",
          "layer": "below",
          "line": {
           "color": "LightBlue"
          },
          "opacity": 0.3,
          "type": "rect",
          "x0": 0,
          "x1": 2,
          "y0": 2,
          "y1": 4
         },
         {
          "fillcolor": "LightGray",
          "layer": "below",
          "line": {
           "color": "Gray"
          },
          "opacity": 0.3,
          "type": "rect",
          "x0": 0,
          "x1": 2,
          "y0": 0,
          "y1": 2
         }
        ],
        "template": {
         "data": {
          "bar": [
           {
            "error_x": {
             "color": "#2a3f5f"
            },
            "error_y": {
             "color": "#2a3f5f"
            },
            "marker": {
             "line": {
              "color": "#E5ECF6",
              "width": 0.5
             },
             "pattern": {
              "fillmode": "overlay",
              "size": 10,
              "solidity": 0.2
             }
            },
            "type": "bar"
           }
          ],
          "barpolar": [
           {
            "marker": {
             "line": {
              "color": "#E5ECF6",
              "width": 0.5
             },
             "pattern": {
              "fillmode": "overlay",
              "size": 10,
              "solidity": 0.2
             }
            },
            "type": "barpolar"
           }
          ],
          "carpet": [
           {
            "aaxis": {
             "endlinecolor": "#2a3f5f",
             "gridcolor": "white",
             "linecolor": "white",
             "minorgridcolor": "white",
             "startlinecolor": "#2a3f5f"
            },
            "baxis": {
             "endlinecolor": "#2a3f5f",
             "gridcolor": "white",
             "linecolor": "white",
             "minorgridcolor": "white",
             "startlinecolor": "#2a3f5f"
            },
            "type": "carpet"
           }
          ],
          "choropleth": [
           {
            "colorbar": {
             "outlinewidth": 0,
             "ticks": ""
            },
            "type": "choropleth"
           }
          ],
          "contour": [
           {
            "colorbar": {
             "outlinewidth": 0,
             "ticks": ""
            },
            "colorscale": [
             [
              0,
              "#0d0887"
             ],
             [
              0.1111111111111111,
              "#46039f"
             ],
             [
              0.2222222222222222,
              "#7201a8"
             ],
             [
              0.3333333333333333,
              "#9c179e"
             ],
             [
              0.4444444444444444,
              "#bd3786"
             ],
             [
              0.5555555555555556,
              "#d8576b"
             ],
             [
              0.6666666666666666,
              "#ed7953"
             ],
             [
              0.7777777777777778,
              "#fb9f3a"
             ],
             [
              0.8888888888888888,
              "#fdca26"
             ],
             [
              1,
              "#f0f921"
             ]
            ],
            "type": "contour"
           }
          ],
          "contourcarpet": [
           {
            "colorbar": {
             "outlinewidth": 0,
             "ticks": ""
            },
            "type": "contourcarpet"
           }
          ],
          "heatmap": [
           {
            "colorbar": {
             "outlinewidth": 0,
             "ticks": ""
            },
            "colorscale": [
             [
              0,
              "#0d0887"
             ],
             [
              0.1111111111111111,
              "#46039f"
             ],
             [
              0.2222222222222222,
              "#7201a8"
             ],
             [
              0.3333333333333333,
              "#9c179e"
             ],
             [
              0.4444444444444444,
              "#bd3786"
             ],
             [
              0.5555555555555556,
              "#d8576b"
             ],
             [
              0.6666666666666666,
              "#ed7953"
             ],
             [
              0.7777777777777778,
              "#fb9f3a"
             ],
             [
              0.8888888888888888,
              "#fdca26"
             ],
             [
              1,
              "#f0f921"
             ]
            ],
            "type": "heatmap"
           }
          ],
          "heatmapgl": [
           {
            "colorbar": {
             "outlinewidth": 0,
             "ticks": ""
            },
            "colorscale": [
             [
              0,
              "#0d0887"
             ],
             [
              0.1111111111111111,
              "#46039f"
             ],
             [
              0.2222222222222222,
              "#7201a8"
             ],
             [
              0.3333333333333333,
              "#9c179e"
             ],
             [
              0.4444444444444444,
              "#bd3786"
             ],
             [
              0.5555555555555556,
              "#d8576b"
             ],
             [
              0.6666666666666666,
              "#ed7953"
             ],
             [
              0.7777777777777778,
              "#fb9f3a"
             ],
             [
              0.8888888888888888,
              "#fdca26"
             ],
             [
              1,
              "#f0f921"
             ]
            ],
            "type": "heatmapgl"
           }
          ],
          "histogram": [
           {
            "marker": {
             "pattern": {
              "fillmode": "overlay",
              "size": 10,
              "solidity": 0.2
             }
            },
            "type": "histogram"
           }
          ],
          "histogram2d": [
           {
            "colorbar": {
             "outlinewidth": 0,
             "ticks": ""
            },
            "colorscale": [
             [
              0,
              "#0d0887"
             ],
             [
              0.1111111111111111,
              "#46039f"
             ],
             [
              0.2222222222222222,
              "#7201a8"
             ],
             [
              0.3333333333333333,
              "#9c179e"
             ],
             [
              0.4444444444444444,
              "#bd3786"
             ],
             [
              0.5555555555555556,
              "#d8576b"
             ],
             [
              0.6666666666666666,
              "#ed7953"
             ],
             [
              0.7777777777777778,
              "#fb9f3a"
             ],
             [
              0.8888888888888888,
              "#fdca26"
             ],
             [
              1,
              "#f0f921"
             ]
            ],
            "type": "histogram2d"
           }
          ],
          "histogram2dcontour": [
           {
            "colorbar": {
             "outlinewidth": 0,
             "ticks": ""
            },
            "colorscale": [
             [
              0,
              "#0d0887"
             ],
             [
              0.1111111111111111,
              "#46039f"
             ],
             [
              0.2222222222222222,
              "#7201a8"
             ],
             [
              0.3333333333333333,
              "#9c179e"
             ],
             [
              0.4444444444444444,
              "#bd3786"
             ],
             [
              0.5555555555555556,
              "#d8576b"
             ],
             [
              0.6666666666666666,
              "#ed7953"
             ],
             [
              0.7777777777777778,
              "#fb9f3a"
             ],
             [
              0.8888888888888888,
              "#fdca26"
             ],
             [
              1,
              "#f0f921"
             ]
            ],
            "type": "histogram2dcontour"
           }
          ],
          "mesh3d": [
           {
            "colorbar": {
             "outlinewidth": 0,
             "ticks": ""
            },
            "type": "mesh3d"
           }
          ],
          "parcoords": [
           {
            "line": {
             "colorbar": {
              "outlinewidth": 0,
              "ticks": ""
             }
            },
            "type": "parcoords"
           }
          ],
          "pie": [
           {
            "automargin": true,
            "type": "pie"
           }
          ],
          "scatter": [
           {
            "fillpattern": {
             "fillmode": "overlay",
             "size": 10,
             "solidity": 0.2
            },
            "type": "scatter"
           }
          ],
          "scatter3d": [
           {
            "line": {
             "colorbar": {
              "outlinewidth": 0,
              "ticks": ""
             }
            },
            "marker": {
             "colorbar": {
              "outlinewidth": 0,
              "ticks": ""
             }
            },
            "type": "scatter3d"
           }
          ],
          "scattercarpet": [
           {
            "marker": {
             "colorbar": {
              "outlinewidth": 0,
              "ticks": ""
             }
            },
            "type": "scattercarpet"
           }
          ],
          "scattergeo": [
           {
            "marker": {
             "colorbar": {
              "outlinewidth": 0,
              "ticks": ""
             }
            },
            "type": "scattergeo"
           }
          ],
          "scattergl": [
           {
            "marker": {
             "colorbar": {
              "outlinewidth": 0,
              "ticks": ""
             }
            },
            "type": "scattergl"
           }
          ],
          "scattermapbox": [
           {
            "marker": {
             "colorbar": {
              "outlinewidth": 0,
              "ticks": ""
             }
            },
            "type": "scattermapbox"
           }
          ],
          "scatterpolar": [
           {
            "marker": {
             "colorbar": {
              "outlinewidth": 0,
              "ticks": ""
             }
            },
            "type": "scatterpolar"
           }
          ],
          "scatterpolargl": [
           {
            "marker": {
             "colorbar": {
              "outlinewidth": 0,
              "ticks": ""
             }
            },
            "type": "scatterpolargl"
           }
          ],
          "scatterternary": [
           {
            "marker": {
             "colorbar": {
              "outlinewidth": 0,
              "ticks": ""
             }
            },
            "type": "scatterternary"
           }
          ],
          "surface": [
           {
            "colorbar": {
             "outlinewidth": 0,
             "ticks": ""
            },
            "colorscale": [
             [
              0,
              "#0d0887"
             ],
             [
              0.1111111111111111,
              "#46039f"
             ],
             [
              0.2222222222222222,
              "#7201a8"
             ],
             [
              0.3333333333333333,
              "#9c179e"
             ],
             [
              0.4444444444444444,
              "#bd3786"
             ],
             [
              0.5555555555555556,
              "#d8576b"
             ],
             [
              0.6666666666666666,
              "#ed7953"
             ],
             [
              0.7777777777777778,
              "#fb9f3a"
             ],
             [
              0.8888888888888888,
              "#fdca26"
             ],
             [
              1,
              "#f0f921"
             ]
            ],
            "type": "surface"
           }
          ],
          "table": [
           {
            "cells": {
             "fill": {
              "color": "#EBF0F8"
             },
             "line": {
              "color": "white"
             }
            },
            "header": {
             "fill": {
              "color": "#C8D4E3"
             },
             "line": {
              "color": "white"
             }
            },
            "type": "table"
           }
          ]
         },
         "layout": {
          "annotationdefaults": {
           "arrowcolor": "#2a3f5f",
           "arrowhead": 0,
           "arrowwidth": 1
          },
          "autotypenumbers": "strict",
          "coloraxis": {
           "colorbar": {
            "outlinewidth": 0,
            "ticks": ""
           }
          },
          "colorscale": {
           "diverging": [
            [
             0,
             "#8e0152"
            ],
            [
             0.1,
             "#c51b7d"
            ],
            [
             0.2,
             "#de77ae"
            ],
            [
             0.3,
             "#f1b6da"
            ],
            [
             0.4,
             "#fde0ef"
            ],
            [
             0.5,
             "#f7f7f7"
            ],
            [
             0.6,
             "#e6f5d0"
            ],
            [
             0.7,
             "#b8e186"
            ],
            [
             0.8,
             "#7fbc41"
            ],
            [
             0.9,
             "#4d9221"
            ],
            [
             1,
             "#276419"
            ]
           ],
           "sequential": [
            [
             0,
             "#0d0887"
            ],
            [
             0.1111111111111111,
             "#46039f"
            ],
            [
             0.2222222222222222,
             "#7201a8"
            ],
            [
             0.3333333333333333,
             "#9c179e"
            ],
            [
             0.4444444444444444,
             "#bd3786"
            ],
            [
             0.5555555555555556,
             "#d8576b"
            ],
            [
             0.6666666666666666,
             "#ed7953"
            ],
            [
             0.7777777777777778,
             "#fb9f3a"
            ],
            [
             0.8888888888888888,
             "#fdca26"
            ],
            [
             1,
             "#f0f921"
            ]
           ],
           "sequentialminus": [
            [
             0,
             "#0d0887"
            ],
            [
             0.1111111111111111,
             "#46039f"
            ],
            [
             0.2222222222222222,
             "#7201a8"
            ],
            [
             0.3333333333333333,
             "#9c179e"
            ],
            [
             0.4444444444444444,
             "#bd3786"
            ],
            [
             0.5555555555555556,
             "#d8576b"
            ],
            [
             0.6666666666666666,
             "#ed7953"
            ],
            [
             0.7777777777777778,
             "#fb9f3a"
            ],
            [
             0.8888888888888888,
             "#fdca26"
            ],
            [
             1,
             "#f0f921"
            ]
           ]
          },
          "colorway": [
           "#636efa",
           "#EF553B",
           "#00cc96",
           "#ab63fa",
           "#FFA15A",
           "#19d3f3",
           "#FF6692",
           "#B6E880",
           "#FF97FF",
           "#FECB52"
          ],
          "font": {
           "color": "#2a3f5f"
          },
          "geo": {
           "bgcolor": "white",
           "lakecolor": "white",
           "landcolor": "#E5ECF6",
           "showlakes": true,
           "showland": true,
           "subunitcolor": "white"
          },
          "hoverlabel": {
           "align": "left"
          },
          "hovermode": "closest",
          "mapbox": {
           "style": "light"
          },
          "paper_bgcolor": "white",
          "plot_bgcolor": "#E5ECF6",
          "polar": {
           "angularaxis": {
            "gridcolor": "white",
            "linecolor": "white",
            "ticks": ""
           },
           "bgcolor": "#E5ECF6",
           "radialaxis": {
            "gridcolor": "white",
            "linecolor": "white",
            "ticks": ""
           }
          },
          "scene": {
           "xaxis": {
            "backgroundcolor": "#E5ECF6",
            "gridcolor": "white",
            "gridwidth": 2,
            "linecolor": "white",
            "showbackground": true,
            "ticks": "",
            "zerolinecolor": "white"
           },
           "yaxis": {
            "backgroundcolor": "#E5ECF6",
            "gridcolor": "white",
            "gridwidth": 2,
            "linecolor": "white",
            "showbackground": true,
            "ticks": "",
            "zerolinecolor": "white"
           },
           "zaxis": {
            "backgroundcolor": "#E5ECF6",
            "gridcolor": "white",
            "gridwidth": 2,
            "linecolor": "white",
            "showbackground": true,
            "ticks": "",
            "zerolinecolor": "white"
           }
          },
          "shapedefaults": {
           "line": {
            "color": "#2a3f5f"
           }
          },
          "ternary": {
           "aaxis": {
            "gridcolor": "white",
            "linecolor": "white",
            "ticks": ""
           },
           "baxis": {
            "gridcolor": "white",
            "linecolor": "white",
            "ticks": ""
           },
           "bgcolor": "#E5ECF6",
           "caxis": {
            "gridcolor": "white",
            "linecolor": "white",
            "ticks": ""
           }
          },
          "title": {
           "x": 0.05
          },
          "xaxis": {
           "automargin": true,
           "gridcolor": "white",
           "linecolor": "white",
           "ticks": "",
           "title": {
            "standoff": 15
           },
           "zerolinecolor": "white",
           "zerolinewidth": 2
          },
          "yaxis": {
           "automargin": true,
           "gridcolor": "white",
           "linecolor": "white",
           "ticks": "",
           "title": {
            "standoff": 15
           },
           "zerolinecolor": "white",
           "zerolinewidth": 2
          }
         }
        },
        "title": {
         "text": "Kano Model: Functional vs. Dysfunctional Scores"
        },
        "xaxis": {
         "anchor": "y",
         "domain": [
          0,
          1
         ],
         "ticktext": [
          "Like",
          "Must-be",
          "Neutral",
          "Live with",
          "Dislike"
         ],
         "tickvals": [
          -2,
          -1,
          0,
          2,
          4
         ],
         "title": {
          "text": "Dysfunctional"
         }
        },
        "yaxis": {
         "anchor": "x",
         "domain": [
          0,
          1
         ],
         "ticktext": [
          "Dislike",
          "Live with",
          "Neutral",
          "Neutral",
          "Like"
         ],
         "tickvals": [
          -2,
          -1,
          0,
          2,
          4
         ],
         "title": {
          "text": "Functional"
         }
        }
       }
      }
     },
     "metadata": {},
     "output_type": "display_data"
    }
   ],
   "source": [
    "import pandas as pd\n",
    "import matplotlib.pyplot as plt\n",
    "# Importing necessary modules and functions from your files\n",
    "from GIANTS_data_load_and_preprocessing import load_data, preprocess_data\n",
    "from GIANTS_kano_analysis import (get_feature_names, prepare_kano_data, apply_kano_scoring, calculate_kano_averages, plot_kano_results, \n",
    "                                  plot_kano_by_age_group, plot_feature_means_with_std\n",
    ")\n",
    "from GIANTS_clustering import preprocess_for_clustering, perform_clustering, plot_elbow_method, pca_and_visualize\n",
    "\n",
    "\n",
    "\n",
    "# Step 1: Load the data\n",
    "file_path = \"C:/Users/TomiNordi2m/OneDrive - i2m Unternehmensentwicklung GmbH/Documents/Python/GIANTS Survey Data Analysis/Copy of 2024.09.12 GIANTS project_ User and stakeholder needs survey (Responses).xlsx\"\n",
    "df = load_data(file_path)\n",
    "\n",
    "# Step 2: Preprocess the data\n",
    "df = preprocess_data(df)\n",
    "\n",
    "\n",
    "# Step 3: Prepare Kano data\n",
    "df_kano = prepare_kano_data(df)\n",
    "\n",
    "# Step 4: Get feature names for Kano analysis\n",
    "feature_names = get_feature_names()\n",
    "\n",
    "\n",
    "\n",
    "# Step 5: Apply Kano scoring\n",
    "df_kano = apply_kano_scoring(df_kano, feature_names)\n",
    "\n",
    "# Step 6: Calculate Kano averages\n",
    "df_averages = calculate_kano_averages(df_kano, feature_names)\n",
    "\n",
    "# Step 7: Plot Kano results \n",
    "plot_kano_results(df_averages)\n",
    "\n",
    "\n",
    "\n",
    "\n"
   ]
  },
  {
   "cell_type": "code",
   "execution_count": 2,
   "metadata": {},
   "outputs": [
    {
     "data": {
      "application/vnd.plotly.v1+json": {
       "config": {
        "plotlyServerURL": "https://plot.ly"
       },
       "data": [
        {
         "hovertemplate": "Average Dysfunctional Score=%{x}<br>Average Functional Score=%{y}<br>Feature=%{text}<extra></extra>",
         "legendgroup": "",
         "marker": {
          "color": "#636efa",
          "symbol": "circle"
         },
         "mode": "markers+text",
         "name": "",
         "orientation": "v",
         "showlegend": false,
         "text": [
          "Heating System",
          "Air Conditioning",
          "Small Vehicle Cargo Capacity",
          "Large Vehicle Cargo Capacity",
          "Tailorable",
          "ABS",
          "Backing Up Alarm",
          "Headrests and Mirrors",
          "Crash Safety Features",
          "Passenger Capacity",
          "Doors",
          "Anti-theft",
          "Comfort Features",
          "Comfort Features - Space",
          "Comfort Features - Acoustic",
          "Compact Size",
          "Vehicle Aesthetics",
          "General Swappable Batteries",
          "Self-Swappable Batteries",
          "Power Capacity",
          "Rapid Charging",
          "Charging Infrastructure",
          "Battery Enclosure",
          "Solar Panels"
         ],
         "textposition": "top center",
         "type": "scatter",
         "x": [
          1.4826254826254825,
          1.359073359073359,
          0.8764478764478765,
          0.583011583011583,
          1.5675675675675675,
          1.7915057915057915,
          0.8803088803088803,
          2.6216216216216215,
          2.1042471042471043,
          1.054054054054054,
          2.4092664092664093,
          1.2895752895752897,
          0.6988416988416989,
          1.2625482625482625,
          1.0772200772200773,
          1.5173745173745175,
          1.6525096525096525,
          1.528957528957529,
          1.8532818532818534,
          1.2162162162162162,
          1.2664092664092663,
          2.33976833976834,
          2.3552123552123554,
          0
         ],
         "xaxis": "x",
         "y": [
          1.5675675675675675,
          1.7142857142857142,
          1.2972972972972974,
          1.1544401544401544,
          2.4633204633204633,
          2.1505791505791505,
          1.1583011583011582,
          2.250965250965251,
          2.2046332046332044,
          1.61003861003861,
          2.471042471042471,
          1.803088803088803,
          1.1003861003861004,
          1.803088803088803,
          1.5984555984555984,
          2.3204633204633205,
          2.1196911196911197,
          2.250965250965251,
          2.312741312741313,
          2.312741312741313,
          2.1274131274131274,
          2.563706563706564,
          2.1042471042471043,
          2.1737451737451736
         ],
         "yaxis": "y"
        }
       ],
       "layout": {
        "annotations": [
         {
          "font": {
           "color": "LightSeaGreen",
           "size": 16
          },
          "showarrow": false,
          "text": "Performance",
          "x": 3,
          "y": 3.5
         },
         {
          "font": {
           "color": "LightCoral",
           "size": 16
          },
          "showarrow": false,
          "text": "Must-have",
          "x": 3,
          "y": 1
         },
         {
          "font": {
           "color": "LightBlue",
           "size": 16
          },
          "showarrow": false,
          "text": "Attractive",
          "x": 1,
          "y": 3.5
         },
         {
          "font": {
           "color": "Gray",
           "size": 16
          },
          "showarrow": false,
          "text": "Indifferent",
          "x": 1,
          "y": 1
         }
        ],
        "legend": {
         "tracegroupgap": 0
        },
        "shapes": [
         {
          "fillcolor": "PaleTurquoise",
          "layer": "below",
          "line": {
           "color": "LightSeaGreen"
          },
          "opacity": 0.3,
          "type": "rect",
          "x0": 2,
          "x1": 4,
          "y0": 2,
          "y1": 4
         },
         {
          "fillcolor": "LightSalmon",
          "layer": "below",
          "line": {
           "color": "LightCoral"
          },
          "opacity": 0.3,
          "type": "rect",
          "x0": 2,
          "x1": 4,
          "y0": 0,
          "y1": 2
         },
         {
          "fillcolor": "LightSteelBlue",
          "layer": "below",
          "line": {
           "color": "LightBlue"
          },
          "opacity": 0.3,
          "type": "rect",
          "x0": 0,
          "x1": 2,
          "y0": 2,
          "y1": 4
         },
         {
          "fillcolor": "LightGray",
          "layer": "below",
          "line": {
           "color": "Gray"
          },
          "opacity": 0.3,
          "type": "rect",
          "x0": 0,
          "x1": 2,
          "y0": 0,
          "y1": 2
         }
        ],
        "template": {
         "data": {
          "bar": [
           {
            "error_x": {
             "color": "#2a3f5f"
            },
            "error_y": {
             "color": "#2a3f5f"
            },
            "marker": {
             "line": {
              "color": "#E5ECF6",
              "width": 0.5
             },
             "pattern": {
              "fillmode": "overlay",
              "size": 10,
              "solidity": 0.2
             }
            },
            "type": "bar"
           }
          ],
          "barpolar": [
           {
            "marker": {
             "line": {
              "color": "#E5ECF6",
              "width": 0.5
             },
             "pattern": {
              "fillmode": "overlay",
              "size": 10,
              "solidity": 0.2
             }
            },
            "type": "barpolar"
           }
          ],
          "carpet": [
           {
            "aaxis": {
             "endlinecolor": "#2a3f5f",
             "gridcolor": "white",
             "linecolor": "white",
             "minorgridcolor": "white",
             "startlinecolor": "#2a3f5f"
            },
            "baxis": {
             "endlinecolor": "#2a3f5f",
             "gridcolor": "white",
             "linecolor": "white",
             "minorgridcolor": "white",
             "startlinecolor": "#2a3f5f"
            },
            "type": "carpet"
           }
          ],
          "choropleth": [
           {
            "colorbar": {
             "outlinewidth": 0,
             "ticks": ""
            },
            "type": "choropleth"
           }
          ],
          "contour": [
           {
            "colorbar": {
             "outlinewidth": 0,
             "ticks": ""
            },
            "colorscale": [
             [
              0,
              "#0d0887"
             ],
             [
              0.1111111111111111,
              "#46039f"
             ],
             [
              0.2222222222222222,
              "#7201a8"
             ],
             [
              0.3333333333333333,
              "#9c179e"
             ],
             [
              0.4444444444444444,
              "#bd3786"
             ],
             [
              0.5555555555555556,
              "#d8576b"
             ],
             [
              0.6666666666666666,
              "#ed7953"
             ],
             [
              0.7777777777777778,
              "#fb9f3a"
             ],
             [
              0.8888888888888888,
              "#fdca26"
             ],
             [
              1,
              "#f0f921"
             ]
            ],
            "type": "contour"
           }
          ],
          "contourcarpet": [
           {
            "colorbar": {
             "outlinewidth": 0,
             "ticks": ""
            },
            "type": "contourcarpet"
           }
          ],
          "heatmap": [
           {
            "colorbar": {
             "outlinewidth": 0,
             "ticks": ""
            },
            "colorscale": [
             [
              0,
              "#0d0887"
             ],
             [
              0.1111111111111111,
              "#46039f"
             ],
             [
              0.2222222222222222,
              "#7201a8"
             ],
             [
              0.3333333333333333,
              "#9c179e"
             ],
             [
              0.4444444444444444,
              "#bd3786"
             ],
             [
              0.5555555555555556,
              "#d8576b"
             ],
             [
              0.6666666666666666,
              "#ed7953"
             ],
             [
              0.7777777777777778,
              "#fb9f3a"
             ],
             [
              0.8888888888888888,
              "#fdca26"
             ],
             [
              1,
              "#f0f921"
             ]
            ],
            "type": "heatmap"
           }
          ],
          "heatmapgl": [
           {
            "colorbar": {
             "outlinewidth": 0,
             "ticks": ""
            },
            "colorscale": [
             [
              0,
              "#0d0887"
             ],
             [
              0.1111111111111111,
              "#46039f"
             ],
             [
              0.2222222222222222,
              "#7201a8"
             ],
             [
              0.3333333333333333,
              "#9c179e"
             ],
             [
              0.4444444444444444,
              "#bd3786"
             ],
             [
              0.5555555555555556,
              "#d8576b"
             ],
             [
              0.6666666666666666,
              "#ed7953"
             ],
             [
              0.7777777777777778,
              "#fb9f3a"
             ],
             [
              0.8888888888888888,
              "#fdca26"
             ],
             [
              1,
              "#f0f921"
             ]
            ],
            "type": "heatmapgl"
           }
          ],
          "histogram": [
           {
            "marker": {
             "pattern": {
              "fillmode": "overlay",
              "size": 10,
              "solidity": 0.2
             }
            },
            "type": "histogram"
           }
          ],
          "histogram2d": [
           {
            "colorbar": {
             "outlinewidth": 0,
             "ticks": ""
            },
            "colorscale": [
             [
              0,
              "#0d0887"
             ],
             [
              0.1111111111111111,
              "#46039f"
             ],
             [
              0.2222222222222222,
              "#7201a8"
             ],
             [
              0.3333333333333333,
              "#9c179e"
             ],
             [
              0.4444444444444444,
              "#bd3786"
             ],
             [
              0.5555555555555556,
              "#d8576b"
             ],
             [
              0.6666666666666666,
              "#ed7953"
             ],
             [
              0.7777777777777778,
              "#fb9f3a"
             ],
             [
              0.8888888888888888,
              "#fdca26"
             ],
             [
              1,
              "#f0f921"
             ]
            ],
            "type": "histogram2d"
           }
          ],
          "histogram2dcontour": [
           {
            "colorbar": {
             "outlinewidth": 0,
             "ticks": ""
            },
            "colorscale": [
             [
              0,
              "#0d0887"
             ],
             [
              0.1111111111111111,
              "#46039f"
             ],
             [
              0.2222222222222222,
              "#7201a8"
             ],
             [
              0.3333333333333333,
              "#9c179e"
             ],
             [
              0.4444444444444444,
              "#bd3786"
             ],
             [
              0.5555555555555556,
              "#d8576b"
             ],
             [
              0.6666666666666666,
              "#ed7953"
             ],
             [
              0.7777777777777778,
              "#fb9f3a"
             ],
             [
              0.8888888888888888,
              "#fdca26"
             ],
             [
              1,
              "#f0f921"
             ]
            ],
            "type": "histogram2dcontour"
           }
          ],
          "mesh3d": [
           {
            "colorbar": {
             "outlinewidth": 0,
             "ticks": ""
            },
            "type": "mesh3d"
           }
          ],
          "parcoords": [
           {
            "line": {
             "colorbar": {
              "outlinewidth": 0,
              "ticks": ""
             }
            },
            "type": "parcoords"
           }
          ],
          "pie": [
           {
            "automargin": true,
            "type": "pie"
           }
          ],
          "scatter": [
           {
            "fillpattern": {
             "fillmode": "overlay",
             "size": 10,
             "solidity": 0.2
            },
            "type": "scatter"
           }
          ],
          "scatter3d": [
           {
            "line": {
             "colorbar": {
              "outlinewidth": 0,
              "ticks": ""
             }
            },
            "marker": {
             "colorbar": {
              "outlinewidth": 0,
              "ticks": ""
             }
            },
            "type": "scatter3d"
           }
          ],
          "scattercarpet": [
           {
            "marker": {
             "colorbar": {
              "outlinewidth": 0,
              "ticks": ""
             }
            },
            "type": "scattercarpet"
           }
          ],
          "scattergeo": [
           {
            "marker": {
             "colorbar": {
              "outlinewidth": 0,
              "ticks": ""
             }
            },
            "type": "scattergeo"
           }
          ],
          "scattergl": [
           {
            "marker": {
             "colorbar": {
              "outlinewidth": 0,
              "ticks": ""
             }
            },
            "type": "scattergl"
           }
          ],
          "scattermapbox": [
           {
            "marker": {
             "colorbar": {
              "outlinewidth": 0,
              "ticks": ""
             }
            },
            "type": "scattermapbox"
           }
          ],
          "scatterpolar": [
           {
            "marker": {
             "colorbar": {
              "outlinewidth": 0,
              "ticks": ""
             }
            },
            "type": "scatterpolar"
           }
          ],
          "scatterpolargl": [
           {
            "marker": {
             "colorbar": {
              "outlinewidth": 0,
              "ticks": ""
             }
            },
            "type": "scatterpolargl"
           }
          ],
          "scatterternary": [
           {
            "marker": {
             "colorbar": {
              "outlinewidth": 0,
              "ticks": ""
             }
            },
            "type": "scatterternary"
           }
          ],
          "surface": [
           {
            "colorbar": {
             "outlinewidth": 0,
             "ticks": ""
            },
            "colorscale": [
             [
              0,
              "#0d0887"
             ],
             [
              0.1111111111111111,
              "#46039f"
             ],
             [
              0.2222222222222222,
              "#7201a8"
             ],
             [
              0.3333333333333333,
              "#9c179e"
             ],
             [
              0.4444444444444444,
              "#bd3786"
             ],
             [
              0.5555555555555556,
              "#d8576b"
             ],
             [
              0.6666666666666666,
              "#ed7953"
             ],
             [
              0.7777777777777778,
              "#fb9f3a"
             ],
             [
              0.8888888888888888,
              "#fdca26"
             ],
             [
              1,
              "#f0f921"
             ]
            ],
            "type": "surface"
           }
          ],
          "table": [
           {
            "cells": {
             "fill": {
              "color": "#EBF0F8"
             },
             "line": {
              "color": "white"
             }
            },
            "header": {
             "fill": {
              "color": "#C8D4E3"
             },
             "line": {
              "color": "white"
             }
            },
            "type": "table"
           }
          ]
         },
         "layout": {
          "annotationdefaults": {
           "arrowcolor": "#2a3f5f",
           "arrowhead": 0,
           "arrowwidth": 1
          },
          "autotypenumbers": "strict",
          "coloraxis": {
           "colorbar": {
            "outlinewidth": 0,
            "ticks": ""
           }
          },
          "colorscale": {
           "diverging": [
            [
             0,
             "#8e0152"
            ],
            [
             0.1,
             "#c51b7d"
            ],
            [
             0.2,
             "#de77ae"
            ],
            [
             0.3,
             "#f1b6da"
            ],
            [
             0.4,
             "#fde0ef"
            ],
            [
             0.5,
             "#f7f7f7"
            ],
            [
             0.6,
             "#e6f5d0"
            ],
            [
             0.7,
             "#b8e186"
            ],
            [
             0.8,
             "#7fbc41"
            ],
            [
             0.9,
             "#4d9221"
            ],
            [
             1,
             "#276419"
            ]
           ],
           "sequential": [
            [
             0,
             "#0d0887"
            ],
            [
             0.1111111111111111,
             "#46039f"
            ],
            [
             0.2222222222222222,
             "#7201a8"
            ],
            [
             0.3333333333333333,
             "#9c179e"
            ],
            [
             0.4444444444444444,
             "#bd3786"
            ],
            [
             0.5555555555555556,
             "#d8576b"
            ],
            [
             0.6666666666666666,
             "#ed7953"
            ],
            [
             0.7777777777777778,
             "#fb9f3a"
            ],
            [
             0.8888888888888888,
             "#fdca26"
            ],
            [
             1,
             "#f0f921"
            ]
           ],
           "sequentialminus": [
            [
             0,
             "#0d0887"
            ],
            [
             0.1111111111111111,
             "#46039f"
            ],
            [
             0.2222222222222222,
             "#7201a8"
            ],
            [
             0.3333333333333333,
             "#9c179e"
            ],
            [
             0.4444444444444444,
             "#bd3786"
            ],
            [
             0.5555555555555556,
             "#d8576b"
            ],
            [
             0.6666666666666666,
             "#ed7953"
            ],
            [
             0.7777777777777778,
             "#fb9f3a"
            ],
            [
             0.8888888888888888,
             "#fdca26"
            ],
            [
             1,
             "#f0f921"
            ]
           ]
          },
          "colorway": [
           "#636efa",
           "#EF553B",
           "#00cc96",
           "#ab63fa",
           "#FFA15A",
           "#19d3f3",
           "#FF6692",
           "#B6E880",
           "#FF97FF",
           "#FECB52"
          ],
          "font": {
           "color": "#2a3f5f"
          },
          "geo": {
           "bgcolor": "white",
           "lakecolor": "white",
           "landcolor": "#E5ECF6",
           "showlakes": true,
           "showland": true,
           "subunitcolor": "white"
          },
          "hoverlabel": {
           "align": "left"
          },
          "hovermode": "closest",
          "mapbox": {
           "style": "light"
          },
          "paper_bgcolor": "white",
          "plot_bgcolor": "#E5ECF6",
          "polar": {
           "angularaxis": {
            "gridcolor": "white",
            "linecolor": "white",
            "ticks": ""
           },
           "bgcolor": "#E5ECF6",
           "radialaxis": {
            "gridcolor": "white",
            "linecolor": "white",
            "ticks": ""
           }
          },
          "scene": {
           "xaxis": {
            "backgroundcolor": "#E5ECF6",
            "gridcolor": "white",
            "gridwidth": 2,
            "linecolor": "white",
            "showbackground": true,
            "ticks": "",
            "zerolinecolor": "white"
           },
           "yaxis": {
            "backgroundcolor": "#E5ECF6",
            "gridcolor": "white",
            "gridwidth": 2,
            "linecolor": "white",
            "showbackground": true,
            "ticks": "",
            "zerolinecolor": "white"
           },
           "zaxis": {
            "backgroundcolor": "#E5ECF6",
            "gridcolor": "white",
            "gridwidth": 2,
            "linecolor": "white",
            "showbackground": true,
            "ticks": "",
            "zerolinecolor": "white"
           }
          },
          "shapedefaults": {
           "line": {
            "color": "#2a3f5f"
           }
          },
          "ternary": {
           "aaxis": {
            "gridcolor": "white",
            "linecolor": "white",
            "ticks": ""
           },
           "baxis": {
            "gridcolor": "white",
            "linecolor": "white",
            "ticks": ""
           },
           "bgcolor": "#E5ECF6",
           "caxis": {
            "gridcolor": "white",
            "linecolor": "white",
            "ticks": ""
           }
          },
          "title": {
           "x": 0.05
          },
          "xaxis": {
           "automargin": true,
           "gridcolor": "white",
           "linecolor": "white",
           "ticks": "",
           "title": {
            "standoff": 15
           },
           "zerolinecolor": "white",
           "zerolinewidth": 2
          },
          "yaxis": {
           "automargin": true,
           "gridcolor": "white",
           "linecolor": "white",
           "ticks": "",
           "title": {
            "standoff": 15
           },
           "zerolinecolor": "white",
           "zerolinewidth": 2
          }
         }
        },
        "title": {
         "text": "Kano Model: Functional vs. Dysfunctional Scores"
        },
        "xaxis": {
         "anchor": "y",
         "domain": [
          0,
          1
         ],
         "ticktext": [
          "Like",
          "Must-be",
          "Neutral",
          "Live with",
          "Dislike"
         ],
         "tickvals": [
          -2,
          -1,
          0,
          2,
          4
         ],
         "title": {
          "text": "Dysfunctional"
         }
        },
        "yaxis": {
         "anchor": "x",
         "domain": [
          0,
          1
         ],
         "ticktext": [
          "Dislike",
          "Live with",
          "Neutral",
          "Neutral",
          "Like"
         ],
         "tickvals": [
          -2,
          -1,
          0,
          2,
          4
         ],
         "title": {
          "text": "Functional"
         }
        }
       }
      }
     },
     "metadata": {},
     "output_type": "display_data"
    }
   ],
   "source": [
    "def plot_kano_results_with_errors(df_averages, plot_title='Kano Model with Errors'):\n",
    "    \"\"\"Plots Kano results using Plotly with error bars for functional and dysfunctional scores.\"\"\"\n",
    "    fig = px.scatter(df_averages,\n",
    "                     x='Average Dysfunctional Score',\n",
    "                     y='Average Functional Score',\n",
    "                     text='Feature', \n",
    "                     title=plot_title,\n",
    "                     error_x='Dysfunctional StdDev',  # Add standard deviation for dysfunctional scores\n",
    "                     error_y='Functional StdDev')  # Add standard deviation for functional scores\n",
    "\n",
    "   \n",
    "\n",
    "# Step 6: Calculate Kano averages\n",
    "df_averages = calculate_kano_averages(df_kano, feature_names)\n",
    "\n",
    "\n",
    "# Step 7: Plot Kano results with standard deviations\n",
    "plot_kano_results(df_averages)\n"
   ]
  },
  {
   "cell_type": "code",
   "execution_count": 3,
   "metadata": {},
   "outputs": [],
   "source": [
    "#plot_interactive_scatter_for_feature(df_kano, 'Doors')"
   ]
  },
  {
   "cell_type": "code",
   "execution_count": 4,
   "metadata": {},
   "outputs": [
    {
     "name": "stderr",
     "output_type": "stream",
     "text": [
      "c:\\Users\\TomiNordi2m\\OneDrive - i2m Unternehmensentwicklung GmbH\\Documents\\Python\\GIANTS Survey Data Analysis\\GIANTS_kano_analysis.py:94: UserWarning:\n",
      "\n",
      "marker is redundantly defined by the 'marker' keyword argument and the fmt string \"o\" (-> marker='o'). The keyword argument will take precedence.\n",
      "\n",
      "c:\\Users\\TomiNordi2m\\OneDrive - i2m Unternehmensentwicklung GmbH\\Documents\\Python\\GIANTS Survey Data Analysis\\GIANTS_kano_analysis.py:98: UserWarning:\n",
      "\n",
      "marker is redundantly defined by the 'marker' keyword argument and the fmt string \"o\" (-> marker='o'). The keyword argument will take precedence.\n",
      "\n"
     ]
    },
    {
     "data": {
      "image/png": "[encoded data removed]",
      "text/plain": [
       "<Figure size 1200x1000 with 1 Axes>"
      ]
     },
     "metadata": {},
     "output_type": "display_data"
    }
   ],
   "source": [
    "#Standard Deviations of Features\n",
    "plot_feature_means_with_std(df_averages)\n"
   ]
  },
  {
   "cell_type": "code",
   "execution_count": 5,
   "metadata": {},
   "outputs": [],
   "source": [
    "# Step 8: Plot Kano analysis for each age group (set show_plot to False to avoid showing)\n",
    "#plot_kano_by_age_group(df, df_kano, feature_names)"
   ]
  },
  {
   "cell_type": "code",
   "execution_count": 6,
   "metadata": {},
   "outputs": [],
   "source": [
    "#kano_analysis_for_students(df, df_kano, feature_names)"
   ]
  },
  {
   "cell_type": "code",
   "execution_count": 7,
   "metadata": {},
   "outputs": [],
   "source": [
    "\n",
    "# Step 9: Plot the market distribution\n",
    "#plot_market_distribution(df)\n",
    "\n",
    "\n",
    "# Plot age distribution\n",
    "#plot_age_distribution(df)\n",
    "\n",
    "# Plot income distribution\n",
    "#plot_income_distribution(df)\n",
    "\n",
    "#Plot user type distribution\n",
    "#plot_user_type_distribution(df)\n",
    "\n",
    "\n",
    "#df = apply_persona_classification(df)\n",
    "\n",
    "# Print the first few rows to check the classified personas\n",
    "#print(df[['Persona']].head(20))"
   ]
  },
  {
   "cell_type": "code",
   "execution_count": 8,
   "metadata": {},
   "outputs": [
    {
     "ename": "TypeError",
     "evalue": "preprocess_for_clustering() missing 1 required positional argument: 'importance_columns'",
     "output_type": "error",
     "traceback": [
      "\u001b[1;31m---------------------------------------------------------------------------\u001b[0m",
      "\u001b[1;31mTypeError\u001b[0m                                 Traceback (most recent call last)",
      "Cell \u001b[1;32mIn[8], line 2\u001b[0m\n\u001b[0;32m      1\u001b[0m \u001b[38;5;66;03m# Preprocess specifically for clustering (inside the clustering module)\u001b[39;00m\n\u001b[1;32m----> 2\u001b[0m df_scaled, df_encoded \u001b[38;5;241m=\u001b[39m \u001b[43mpreprocess_for_clustering\u001b[49m\u001b[43m(\u001b[49m\u001b[43mdf\u001b[49m\u001b[43m)\u001b[49m\n\u001b[0;32m      4\u001b[0m \u001b[38;5;66;03m# Perform clustering\u001b[39;00m\n\u001b[0;32m      5\u001b[0m df_with_clusters \u001b[38;5;241m=\u001b[39m perform_clustering(df_scaled, df_encoded)\n",
      "\u001b[1;31mTypeError\u001b[0m: preprocess_for_clustering() missing 1 required positional argument: 'importance_columns'"
     ]
    }
   ],
   "source": [
    "# Preprocess specifically for clustering (inside the clustering module)\n",
    "df_scaled, df_encoded = preprocess_for_clustering(df)\n",
    "\n",
    "# Perform clustering\n",
    "df_with_clusters = perform_clustering(df_scaled, df_encoded)\n",
    "\n",
    "# Plot the elbow method to find the optimal number of clusters\n",
    "plot_elbow_method(df_scaled, max_clusters=10)\n",
    "\n",
    "\n"
   ]
  },
  {
   "cell_type": "code",
   "execution_count": 9,
   "metadata": {},
   "outputs": [
    {
     "data": {
      "application/vnd.plotly.v1+json": {
       "config": {
        "plotlyServerURL": "https://plot.ly"
       },
       "data": [
        {
         "hovertemplate": "cluster=2<br>PCA Component 1=%{x}<br>PCA Component 2=%{y}<br>PCA Component 3=%{z}<extra></extra>",
         "legendgroup": "2",
         "marker": {
          "color": "rgb(228,26,28)",
          "symbol": "circle"
         },
         "mode": "markers",
         "name": "2",
         "scene": "scene",
         "showlegend": true,
         "type": "scatter3d",
         "x": [
          2.8763705728315796,
          2.761576889923241,
          3.7773566720926017,
          3.667952458072791,
          4.452475929766802,
          4.98359381977272,
          5.995867237468502,
          6.526985127474423,
          5.2410025352193585,
          5.995867237468502,
          6.654814486853485,
          6.654814486853485,
          6.526985127474423,
          6.654814486853485,
          6.526985127474423,
          6.526985127474423,
          6.526985127474423,
          6.656564483542001,
          6.656564483542001,
          6.654814486853485,
          6.656564483542001,
          6.526985127474423,
          6.656564483542001,
          5.995867237468502,
          4.258787451923235,
          5.995867237468502,
          4.452475929766802
         ],
         "y": [
          8.201515050229577,
          9.881657089232402,
          3.562591080841209,
          -0.2434982634155725,
          -0.3222526153141328,
          -0.7676084051845344,
          -0.7722004272942777,
          -1.2175562171646792,
          -0.9325584979149955,
          -0.7722004272942777,
          -0.7984375025786846,
          -0.7984375025786846,
          -1.2175562171646792,
          -0.7984375025786846,
          -1.2175562171646792,
          -1.2175562171646792,
          -1.2175562171646792,
          -1.8016250244811338,
          -1.8016250244811338,
          -0.7984375025786846,
          -1.8016250244811338,
          -1.2175562171646792,
          -1.8016250244811338,
          -0.7722004272942777,
          -0.3314808755886423,
          -0.7722004272942777,
          -0.3222526153141327
         ],
         "z": [
          -2.470157787846723,
          -1.4567594310678924,
          -1.2040666956166963,
          2.5516400008206657,
          0.7512810432868968,
          0.26804579667406586,
          0.9878734378847278,
          0.5046381912718967,
          -0.18348535759869372,
          0.9878734378847278,
          0.7464916157565936,
          0.7464916157565936,
          0.5046381912718967,
          0.7464916157565936,
          0.5046381912718967,
          0.5046381912718967,
          0.5046381912718967,
          -0.18874638748555955,
          -0.18874638748555955,
          0.7464916157565936,
          -0.18874638748555955,
          0.5046381912718967,
          -0.18874638748555955,
          0.9878734378847278,
          0.9003342592363699,
          0.9878734378847278,
          0.751281043286897
         ]
        },
        {
         "hovertemplate": "cluster=0<br>PCA Component 1=%{x}<br>PCA Component 2=%{y}<br>PCA Component 3=%{z}<extra></extra>",
         "legendgroup": "0",
         "marker": {
          "color": "rgb(55,126,184)",
          "symbol": "circle"
         },
         "mode": "markers",
         "name": "0",
         "scene": "scene",
         "showlegend": true,
         "type": "scatter3d",
         "x": [
          3.084785757085412,
          2.2753574615678964,
          2.1943958744402225,
          -0.6670931783652048,
          -0.8819385161968634,
          -0.8299346697239808,
          -1.028130445528645,
          -1.095709619842836,
          -1.2148093933524302,
          0.3260961849797188,
          -0.7420420327659939,
          -0.7057785136503888,
          -0.9800425936366057,
          -0.7541091568178009,
          -0.8299346697239816,
          -0.15778080892738622,
          -1.0925438899131878,
          -1.2893980976864046,
          0.3500226108722572,
          -0.7184217935936136,
          -0.14675682692603773,
          -0.6836915033465094,
          -0.8819385161968633,
          -0.840413005722434,
          -1.0700631381006123,
          -0.573665596725277,
          -0.907956121361319,
          -1.2893980976864046,
          -0.9349200811813457,
          -0.8819385161968633,
          0.44157738884064857,
          -0.7641634507404371,
          -1.2148093933524302,
          -1.1655873238518173,
          -1.4815413051346287,
          -0.9436496670508137,
          -0.40205219448691093,
          -1.3125644564698502,
          -1.3604152890551904,
          0.29133889849121747,
          -1.0957096198428362,
          -1.0458325446876517,
          -1.0700631381006123,
          -1.02409265728604,
          -0.016392267572211884,
          -0.016392267572211884,
          0.00424595401505153,
          0.2807201271917877,
          0.3953686957010603,
          -1.197892497479674,
          -1.0281304455286449,
          -1.2016519929635439,
          -1.4646244092618725,
          -1.02409265728604,
          -1.0957096198428362,
          -1.0957096198428362,
          -0.899994899429424,
          0.3914478608907322,
          -1.1126265157155923,
          0.1199839311215753,
          -1.197892497479674,
          -0.6902998449279829,
          -0.9336211800829168,
          -0.6888616177776333,
          -1.136552941608131
         ],
         "y": [
          6.959799476959065,
          7.856154536606815,
          5.7794192865370375,
          -0.30863844977926225,
          -0.07238140159165651,
          0.6982605124835567,
          -0.1890815895611669,
          1.2540465493289157,
          -0.4491609375976682,
          0.9189408840630426,
          0.39805461461292446,
          0.49829282473330194,
          0.08915339791137585,
          0.3467373129943386,
          0.698260512483557,
          0.07508432518640394,
          -0.7593075257650324,
          1.2448182890544048,
          1.3457876601999192,
          1.156761367633819,
          -0.35708229570843186,
          -0.8945167274680695,
          -0.07238140159165576,
          -0.7804918032098928,
          0.6476556408871933,
          -0.2513145442729311,
          -0.4758608992084925,
          1.2448182890544048,
          -0.6400292413332603,
          -0.07238140159165576,
          0.3465357897617763,
          -0.778597672973934,
          -0.449160937597668,
          -0.9615643016087921,
          -0.6606459737159374,
          0.6440595310073286,
          -2.088572553106113,
          -0.5929351281386572,
          -0.32253614825197185,
          1.3840230572766599,
          1.2540465493289155,
          -0.38145009202038754,
          0.6476556408871933,
          -1.0860795693009475,
          -1.4264804644645332,
          -1.4264804644645332,
          -1.2219412017162459,
          -1.2715108811852789,
          3.38335371604802,
          0.2285369263011989,
          -0.18908158956116689,
          -0.8515142774515303,
          0.017051890182929474,
          -1.0860795693009475,
          1.2540465493289155,
          1.2540465493289155,
          -0.10182285185919215,
          -0.4536196493006675,
          0.5763486854300481,
          2.171567137013004,
          0.2285369263011989,
          0.4783676647767786,
          -0.3840502884986686,
          1.1759906886321687,
          0.14950190929317186
         ],
         "z": [
          -4.455426733600005,
          -3.3730207337296605,
          -1.696486072627845,
          -0.9066556562513781,
          1.713682619549492,
          1.123589156675406,
          2.258460377900416,
          1.3112850558469327,
          -0.5847638203408476,
          1.1955368586798318,
          0.9531753429100132,
          1.3061874240387557,
          -0.05470501392955217,
          1.955536044034189,
          1.1235891566754057,
          -0.5627748282921827,
          -0.04876545111663069,
          1.4603382717964057,
          0.11476073110469132,
          2.1279102230708116,
          0.9985279080212183,
          -1.0679990669536783,
          1.7136826195494919,
          -1.4093441493244925,
          1.568590890759446,
          0.5488816989579476,
          -0.09334769715160599,
          1.4603382717964057,
          0.015263602102493353,
          1.7136826195494919,
          2.111612413465122,
          -1.2822488771027805,
          -0.5847638203408476,
          -0.4903239737751114,
          -0.8772691270498545,
          1.6694590538055767,
          -1.4032096477524896,
          1.3924061575243858,
          0.10135070388964007,
          0.8427731504717303,
          1.3112850558469327,
          1.6849114642333924,
          1.568590890759446,
          -0.16344585185820523,
          -1.0328090436848105,
          -1.0328090436848105,
          -1.5049797691182965,
          -0.7767913423618132,
          -1.2245859305118558,
          1.3267374662747489,
          2.2584603779004158,
          -0.27724170460651426,
          1.0342321595657422,
          -0.16344585185820523,
          1.3112850558469327,
          1.3112850558469327,
          0.2448027946491742,
          -0.6784296079719129,
          -0.6002162307686644,
          0.7506796451587625,
          1.3267374662747489,
          4.425913872650391,
          -0.4510773225193844,
          3.217688710654352,
          0.4805598968064764
         ]
        },
        {
         "hovertemplate": "cluster=1<br>PCA Component 1=%{x}<br>PCA Component 2=%{y}<br>PCA Component 3=%{z}<extra></extra>",
         "legendgroup": "1",
         "marker": {
          "color": "rgb(77,175,74)",
          "symbol": "circle"
         },
         "mode": "markers",
         "name": "1",
         "scene": "scene",
         "showlegend": true,
         "type": "scatter3d",
         "x": [
          3.0852623295824784,
          -0.5291475876254133,
          0.057842360654216884,
          1.79183013821261,
          -0.07173699541335947,
          -0.7949225377442661,
          -0.9245018938118442,
          0.5381472327760067,
          -0.9577640291030423,
          -0.9577640291030441,
          -0.9746809249758008,
          -0.9746809249757995,
          -1.1121499432185218,
          -0.44356303496987937,
          -1.010023976360866,
          -1.2404558750946544,
          -0.7780056418715119,
          -0.9746809249758003,
          1.622456743200489,
          -1.2401046079074094,
          -1.4341443529382227,
          0.2993865622719818,
          -1.2889215251893336,
          -1.3058384210620897,
          -0.9746809249758003,
          0.790576091818456,
          -1.4341443529382227,
          -0.6275733973444855,
          -0.9245018938118434,
          -1.2915101990126405,
          -1.1193298590152163,
          0.3464865644364242,
          -0.44356303496987914,
          -1.1514525069466122,
          -1.417227457065467,
          0.0929671251781543,
          -1.2235389792218982,
          -1.1683694028193676,
          -1.3058384210620897,
          -1.1683694028193676,
          0.48796820161204923,
          -1.1683694028193676,
          -1.2235389792218982,
          -1.2161781820148703,
          -1.1514525069466122,
          -0.8305106343589234,
          -1.3058384210620897,
          -1.13607636911106,
          -0.3605250230341888,
          -1.1121499432185213,
          -0.9265983428349923,
          -1.0952330473457652,
          -0.8305106343589234,
          0.8357484075717592,
          -1.088395922302632,
          -1.1121499432185213,
          -0.2619395690867407,
          -0.9075849979390872,
          -0.9746809249758003,
          -1.2404558750946544,
          -1.1012734757826559,
          -1.1108295744483836,
          -0.5598371671369914,
          -0.9182805839646202,
          -0.7856966618856335,
          -0.8451015689082249,
          -1.4267835557311948,
          -1.4341443529382227,
          -0.8943053091266842,
          -0.9816904549955826,
          -1.1683694028193676,
          -0.9075849979390872,
          -0.14888139904816156,
          -1.0978217211690724,
          -0.17280782494070027,
          0.47462211053564507,
          -0.13663820322201817,
          1.3628377739498234,
          0.020880652902867915,
          -0.4514526971450246,
          -1.3058384210620897,
          -0.8584400050600961,
          -0.6750699458562718,
          -1.2404558750946544,
          -0.8251801070240578,
          -0.9256413811716481,
          -0.16579829492091763,
          -0.6061226845960457,
          -1.2235389792218982,
          -0.5395759331377039,
          -1.4341443529382227,
          -0.9495678070641869,
          -0.9588165662350565,
          1.3079553640082073,
          -0.1287485410468729,
          -0.4514526971450246,
          -0.2993927443530021,
          -0.1287485410468729,
          -1.3551278340848312,
          -0.08865389128611573,
          1.2275483479864628,
          -1.2255484780172547,
          -0.96565369127819,
          -0.797335449295515,
          0.22289280346012558,
          -0.13777686670688616,
          1.4744716757366858,
          -0.6440020723120502,
          -1.2235389792218982,
          -1.0714790264298757,
          -1.0714790264298757,
          -1.1078719530156682,
          -1.0714790264298757,
          -0.13663820322201817,
          -0.1276090536870681,
          -0.4112700012615707,
          -0.44356303496987914,
          0.013885612878709444,
          -0.3009288810442969,
          -0.5395759331377039,
          -0.9075849979390872,
          0.15289076781272554,
          -0.7481133797949026,
          -1.3776084308092775,
          -1.062793936886271,
          -0.8535549088963619,
          -1.053776927270869,
          0.34416233167793997,
          -0.7093379850887336,
          -1.110876519027079,
          0.10168335768691536,
          -1.2235389792218982,
          -0.09518208314712172,
          -0.24246353837370488,
          -0.213131136236091,
          -1.2235389792218982,
          -0.8718976347148998,
          -1.2235389792218982,
          -1.507187786876854,
          -1.053776927270869,
          -1.2235389792218982,
          -1.2235389792218982,
          -1.2235389792218982,
          -1.2235389792218982,
          0.000830815020703097,
          0.39892403322928205,
          -0.9075849979390872,
          0.3926279817726196,
          -1.2404558750946544,
          -1.2404558750946544,
          -1.0714790264298757,
          -1.053776927270869,
          -1.2404558750946544,
          -1.0714790264298757,
          -1.0952330473457652,
          -0.9075849979390874,
          -1.417227457065467,
          -1.071479026429876,
          -1.2404558750946546,
          -1.0537769272708692,
          -1.2404558750946546,
          -1.2404558750946546,
          -0.9515866027044175,
          -1.0883959223026318,
          -1.2404558750946544,
          -1.0978217211690724,
          -0.9577640291030441
         ],
         "y": [
          5.613180260682189,
          -1.283543201210615,
          1.8609292085468354,
          1.3709660715673524,
          2.444998015863297,
          -0.7277571643652568,
          -0.1436883570487996,
          0.6257506177210713,
          0.27914179789756227,
          0.27914179789756305,
          -0.39855606600130483,
          -0.39855606600130483,
          -0.7702705308468286,
          -0.8439118558717058,
          -0.7483158099026049,
          0.15722997084405352,
          -0.05005930046639037,
          -0.39855606600130444,
          -0.11372447472529221,
          -0.3810264304416723,
          0.14800171056954387,
          0.9013675269517039,
          -0.10180092722247207,
          -0.779498791121339,
          -0.39855606600130433,
          -0.8367436916495417,
          0.14800171056954387,
          -0.8405509609707192,
          -0.14368835704880106,
          -0.6247699707539417,
          0.49533979630801955,
          -0.6230841014586616,
          -0.8439118558717059,
          0.26991353762305276,
          0.825699574468411,
          0.947636006871526,
          0.8349278347429208,
          -0.40778432627581396,
          -0.779498791121339,
          -0.40778432627581396,
          0.37088290876856617,
          -0.40778432627581396,
          0.8349278347429208,
          0.045820345695203726,
          0.26991353762305276,
          -1.9643263564848714,
          -0.779498791121339,
          -1.1971173069837049,
          -1.05290530344165,
          -0.7702705308468286,
          -0.2627030163810981,
          -0.092572666947962,
          -1.9643263564848714,
          -1.2039156758552467,
          -0.45275704747753287,
          -0.7702705308468286,
          -0.42798302080654466,
          0.5340095068500659,
          -0.39855606600130433,
          0.15722997084405363,
          0.5247812465755564,
          -0.9420241063710277,
          -0.09762324264615328,
          -0.2845394324651876,
          -0.7717347199838602,
          -0.9826248733177598,
          -0.641105778478173,
          0.14800171056954387,
          -1.0520359970889894,
          -0.14770497823931325,
          -0.40778432627581396,
          0.5340095068500659,
          1.9302688198537603,
          -0.6155417104794317,
          1.5034220437168846,
          -0.535825363756687,
          -1.4523570422952108,
          -0.5211504265171907,
          1.512650303991394,
          -1.7996951280336866,
          -0.779498791121339,
          -0.9193559929015358,
          -0.7330790332757177,
          0.15722997084405363,
          -0.2080534896211098,
          0.5045680565825295,
          1.2525709559548934,
          0.7882475246441891,
          0.8349278347429208,
          -0.7057443348887139,
          0.14800171056954387,
          0.07772128044565364,
          -1.0368258547939881,
          -0.46662332440835863,
          -0.49657377013323023,
          -1.7996951280336866,
          -2.4096821463552733,
          -0.49657377013323023,
          -0.6642420835958027,
          1.767300151964427,
          -0.5952886106604333,
          -1.2483108909122582,
          -0.6766414742644178,
          -0.42293244510835326,
          0.012531956613396148,
          -0.5583644352793621,
          0.25088539169527535,
          -0.6894877690555127,
          0.8349278347429208,
          0.224940816421334,
          0.224940816421334,
          -0.32996531667461876,
          0.224940816421334,
          -1.4523570422952108,
          -1.1448301837645607,
          -1.6332448365795964,
          -0.8439118558717059,
          -1.2693454514567155,
          -1.616683537195191,
          -0.7057443348887139,
          0.5340095068500659,
          -1.6906295957712731,
          -0.9353358091194778,
          -0.6383238725906717,
          -0.2909857868521961,
          -0.06044624053733849,
          0.4173093188805547,
          -0.8827841579693654,
          -0.28812581902634804,
          -0.42683883647240173,
          -1.4021195508798887,
          0.8349278347429208,
          -0.9424750564666943,
          -0.5507747516094589,
          -1.7494576366183647,
          0.8349278347429208,
          1.3440335614895471,
          0.8349278347429208,
          -0.054255065274215954,
          0.4173093188805547,
          0.8349278347429208,
          0.8349278347429208,
          0.8349278347429208,
          0.8349278347429208,
          -1.0806425774496864,
          2.4655356305659764,
          0.5340095068500659,
          -0.6237532599028399,
          0.15722997084405363,
          0.15722997084405363,
          0.224940816421334,
          0.4173093188805547,
          0.15722997084405363,
          0.224940816421334,
          -0.092572666947962,
          0.5340095068500659,
          0.8256995744684108,
          0.2249408164213341,
          0.1572299708440537,
          0.41730931888055484,
          0.1572299708440537,
          0.1572299708440537,
          -0.2349204724624694,
          -0.45275704747753276,
          0.1572299708440537,
          -0.6155417104794316,
          0.2791417978975627
         ],
         "z": [
          -5.832631725013154,
          -1.3362049799076012,
          0.22626476746511687,
          -0.10639687973255368,
          0.919649346222576,
          -1.1485090807360756,
          -0.455124501978619,
          0.2598524598947387,
          0.8817357321907083,
          0.8817357321907099,
          -1.0297655544248885,
          -1.0297655544248887,
          -1.9774212221818122,
          -1.513000801037718,
          -1.1507293283519262,
          -0.8420696552533606,
          0.7629922058795221,
          -1.0297655544248878,
          0.20542770045416242,
          2.269226835441135,
          -0.6930164393038878,
          -0.6435494703403332,
          0.083133280383257,
          -1.8283680062323393,
          -1.0297655544248878,
          0.7069625068455716,
          -0.6930164393038878,
          -0.21613169556612255,
          -0.45512450197861815,
          -0.8087597791022607,
          0.136550175686134,
          2.333674936822071,
          -1.513000801037718,
          1.0307889481401815,
          1.2184848473117085,
          2.605035187432437,
          1.0694316313622358,
          -0.8807123384754143,
          -1.8283680062323393,
          -0.8807123384754143,
          -0.31478859255153235,
          -0.8807123384754143,
          1.0694316313622358,
          1.188450707865994,
          1.0307889481401815,
          -2.312631802980625,
          -1.8283680062323393,
          -0.8966450946066722,
          0.038139393433344916,
          -1.9774212221818126,
          -0.49270424614387304,
          -0.06591993556621543,
          -2.312631802980625,
          -0.41390101689319064,
          -0.48389565729471723,
          -1.9774212221818126,
          0.04977292996294268,
          1.4563767846369786,
          -1.0297655544248878,
          -0.842069655253361,
          1.605430000586451,
          -0.18705220952538643,
          1.131707601588517,
          0.10651603624041951,
          0.6520272530795318,
          -1.723150133182344,
          -0.5739973628001291,
          -0.6930164393038878,
          -0.5086370022751294,
          1.9625118597658495,
          -0.8807123384754143,
          1.4563767846369786,
          1.7119549590288237,
          -0.9578129950517338,
          2.7927310866039643,
          0.32001735357082867,
          -2.3244744325620768,
          -1.8797447533673772,
          2.6436778706544914,
          -3.154041047552098,
          -1.8283680062323393,
          -0.4532901744032056,
          -0.6118562379675749,
          -0.842069655253361,
          1.4272469490298212,
          -0.012503040263338615,
          -0.1995463275867726,
          1.4410550645020745,
          1.0694316313622358,
          -0.3935819902405241,
          -0.6930164393038878,
          1.0682730873118018,
          -1.1772802360521732,
          0.5398406411939066,
          -0.6834341860476961,
          -3.154041047552098,
          -2.7958670495934546,
          -0.6834341860476961,
          -0.7764009640037239,
          -0.9918519403930224,
          -0.376121439179921,
          -1.4697855427611792,
          -0.7593045143236722,
          -1.1478546071917899,
          -0.12411485373633052,
          1.7363649659361482,
          0.22792897479590843,
          -0.34771362106215176,
          1.0694316313622358,
          1.4276056293208796,
          1.4276056293208796,
          -0.29655843841424884,
          1.4276056293208796,
          -2.3244744325620768,
          -1.126055647762975,
          -1.5289335571689744,
          -1.513000801037718,
          -0.7991775258460686,
          -1.6287441408360905,
          -0.3935819902405241,
          1.4563767846369786,
          -1.0186447668465084,
          -1.0534147606260542,
          -1.827959540719823,
          -0.9983929257298022,
          -0.05114572348539293,
          2.001154542987903,
          0.8170868706818561,
          -1.3253049018661913,
          -1.5354542340108168,
          -0.9920938591462616,
          1.0694316313622358,
          -0.25739995400795734,
          -0.13756428891752578,
          -1.8216604741362834,
          1.0694316313622358,
          1.6287509636736015,
          1.0694316313622358,
          -1.1345749619623677,
          2.001154542987903,
          1.0694316313622358,
          1.0694316313622358,
          1.0694316313622358,
          1.0694316313622358,
          -1.3768187648051524,
          -4.4029089216808055,
          1.4563767846369786,
          -0.10811606495476163,
          -0.842069655253361,
          -0.842069655253361,
          1.4276056293208796,
          2.001154542987903,
          -0.842069655253361,
          1.4276056293208796,
          -0.06591993556621543,
          1.4563767846369786,
          1.2184848473117087,
          1.4276056293208796,
          -0.842069655253361,
          2.001154542987903,
          -0.842069655253361,
          -0.842069655253361,
          0.4957948251049088,
          -0.4838956572947172,
          -0.842069655253361,
          -0.9578129950517337,
          0.8817357321907087
         ]
        }
       ],
       "layout": {
        "legend": {
         "title": {
          "text": "cluster"
         },
         "tracegroupgap": 0
        },
        "scene": {
         "domain": {
          "x": [
           0,
           1
          ],
          "y": [
           0,
           1
          ]
         },
         "xaxis": {
          "title": {
           "text": "PCA Component 1"
          }
         },
         "yaxis": {
          "title": {
           "text": "PCA Component 2"
          }
         },
         "zaxis": {
          "title": {
           "text": "PCA Component 3"
          }
         }
        },
        "template": {
         "data": {
          "bar": [
           {
            "error_x": {
             "color": "#2a3f5f"
            },
            "error_y": {
             "color": "#2a3f5f"
            },
            "marker": {
             "line": {
              "color": "#E5ECF6",
              "width": 0.5
             },
             "pattern": {
              "fillmode": "overlay",
              "size": 10,
              "solidity": 0.2
             }
            },
            "type": "bar"
           }
          ],
          "barpolar": [
           {
            "marker": {
             "line": {
              "color": "#E5ECF6",
              "width": 0.5
             },
             "pattern": {
              "fillmode": "overlay",
              "size": 10,
              "solidity": 0.2
             }
            },
            "type": "barpolar"
           }
          ],
          "carpet": [
           {
            "aaxis": {
             "endlinecolor": "#2a3f5f",
             "gridcolor": "white",
             "linecolor": "white",
             "minorgridcolor": "white",
             "startlinecolor": "#2a3f5f"
            },
            "baxis": {
             "endlinecolor": "#2a3f5f",
             "gridcolor": "white",
             "linecolor": "white",
             "minorgridcolor": "white",
             "startlinecolor": "#2a3f5f"
            },
            "type": "carpet"
           }
          ],
          "choropleth": [
           {
            "colorbar": {
             "outlinewidth": 0,
             "ticks": ""
            },
            "type": "choropleth"
           }
          ],
          "contour": [
           {
            "colorbar": {
             "outlinewidth": 0,
             "ticks": ""
            },
            "colorscale": [
             [
              0,
              "#0d0887"
             ],
             [
              0.1111111111111111,
              "#46039f"
             ],
             [
              0.2222222222222222,
              "#7201a8"
             ],
             [
              0.3333333333333333,
              "#9c179e"
             ],
             [
              0.4444444444444444,
              "#bd3786"
             ],
             [
              0.5555555555555556,
              "#d8576b"
             ],
             [
              0.6666666666666666,
              "#ed7953"
             ],
             [
              0.7777777777777778,
              "#fb9f3a"
             ],
             [
              0.8888888888888888,
              "#fdca26"
             ],
             [
              1,
              "#f0f921"
             ]
            ],
            "type": "contour"
           }
          ],
          "contourcarpet": [
           {
            "colorbar": {
             "outlinewidth": 0,
             "ticks": ""
            },
            "type": "contourcarpet"
           }
          ],
          "heatmap": [
           {
            "colorbar": {
             "outlinewidth": 0,
             "ticks": ""
            },
            "colorscale": [
             [
              0,
              "#0d0887"
             ],
             [
              0.1111111111111111,
              "#46039f"
             ],
             [
              0.2222222222222222,
              "#7201a8"
             ],
             [
              0.3333333333333333,
              "#9c179e"
             ],
             [
              0.4444444444444444,
              "#bd3786"
             ],
             [
              0.5555555555555556,
              "#d8576b"
             ],
             [
              0.6666666666666666,
              "#ed7953"
             ],
             [
              0.7777777777777778,
              "#fb9f3a"
             ],
             [
              0.8888888888888888,
              "#fdca26"
             ],
             [
              1,
              "#f0f921"
             ]
            ],
            "type": "heatmap"
           }
          ],
          "heatmapgl": [
           {
            "colorbar": {
             "outlinewidth": 0,
             "ticks": ""
            },
            "colorscale": [
             [
              0,
              "#0d0887"
             ],
             [
              0.1111111111111111,
              "#46039f"
             ],
             [
              0.2222222222222222,
              "#7201a8"
             ],
             [
              0.3333333333333333,
              "#9c179e"
             ],
             [
              0.4444444444444444,
              "#bd3786"
             ],
             [
              0.5555555555555556,
              "#d8576b"
             ],
             [
              0.6666666666666666,
              "#ed7953"
             ],
             [
              0.7777777777777778,
              "#fb9f3a"
             ],
             [
              0.8888888888888888,
              "#fdca26"
             ],
             [
              1,
              "#f0f921"
             ]
            ],
            "type": "heatmapgl"
           }
          ],
          "histogram": [
           {
            "marker": {
             "pattern": {
              "fillmode": "overlay",
              "size": 10,
              "solidity": 0.2
             }
            },
            "type": "histogram"
           }
          ],
          "histogram2d": [
           {
            "colorbar": {
             "outlinewidth": 0,
             "ticks": ""
            },
            "colorscale": [
             [
              0,
              "#0d0887"
             ],
             [
              0.1111111111111111,
              "#46039f"
             ],
             [
              0.2222222222222222,
              "#7201a8"
             ],
             [
              0.3333333333333333,
              "#9c179e"
             ],
             [
              0.4444444444444444,
              "#bd3786"
             ],
             [
              0.5555555555555556,
              "#d8576b"
             ],
             [
              0.6666666666666666,
              "#ed7953"
             ],
             [
              0.7777777777777778,
              "#fb9f3a"
             ],
             [
              0.8888888888888888,
              "#fdca26"
             ],
             [
              1,
              "#f0f921"
             ]
            ],
            "type": "histogram2d"
           }
          ],
          "histogram2dcontour": [
           {
            "colorbar": {
             "outlinewidth": 0,
             "ticks": ""
            },
            "colorscale": [
             [
              0,
              "#0d0887"
             ],
             [
              0.1111111111111111,
              "#46039f"
             ],
             [
              0.2222222222222222,
              "#7201a8"
             ],
             [
              0.3333333333333333,
              "#9c179e"
             ],
             [
              0.4444444444444444,
              "#bd3786"
             ],
             [
              0.5555555555555556,
              "#d8576b"
             ],
             [
              0.6666666666666666,
              "#ed7953"
             ],
             [
              0.7777777777777778,
              "#fb9f3a"
             ],
             [
              0.8888888888888888,
              "#fdca26"
             ],
             [
              1,
              "#f0f921"
             ]
            ],
            "type": "histogram2dcontour"
           }
          ],
          "mesh3d": [
           {
            "colorbar": {
             "outlinewidth": 0,
             "ticks": ""
            },
            "type": "mesh3d"
           }
          ],
          "parcoords": [
           {
            "line": {
             "colorbar": {
              "outlinewidth": 0,
              "ticks": ""
             }
            },
            "type": "parcoords"
           }
          ],
          "pie": [
           {
            "automargin": true,
            "type": "pie"
           }
          ],
          "scatter": [
           {
            "fillpattern": {
             "fillmode": "overlay",
             "size": 10,
             "solidity": 0.2
            },
            "type": "scatter"
           }
          ],
          "scatter3d": [
           {
            "line": {
             "colorbar": {
              "outlinewidth": 0,
              "ticks": ""
             }
            },
            "marker": {
             "colorbar": {
              "outlinewidth": 0,
              "ticks": ""
             }
            },
            "type": "scatter3d"
           }
          ],
          "scattercarpet": [
           {
            "marker": {
             "colorbar": {
              "outlinewidth": 0,
              "ticks": ""
             }
            },
            "type": "scattercarpet"
           }
          ],
          "scattergeo": [
           {
            "marker": {
             "colorbar": {
              "outlinewidth": 0,
              "ticks": ""
             }
            },
            "type": "scattergeo"
           }
          ],
          "scattergl": [
           {
            "marker": {
             "colorbar": {
              "outlinewidth": 0,
              "ticks": ""
             }
            },
            "type": "scattergl"
           }
          ],
          "scattermapbox": [
           {
            "marker": {
             "colorbar": {
              "outlinewidth": 0,
              "ticks": ""
             }
            },
            "type": "scattermapbox"
           }
          ],
          "scatterpolar": [
           {
            "marker": {
             "colorbar": {
              "outlinewidth": 0,
              "ticks": ""
             }
            },
            "type": "scatterpolar"
           }
          ],
          "scatterpolargl": [
           {
            "marker": {
             "colorbar": {
              "outlinewidth": 0,
              "ticks": ""
             }
            },
            "type": "scatterpolargl"
           }
          ],
          "scatterternary": [
           {
            "marker": {
             "colorbar": {
              "outlinewidth": 0,
              "ticks": ""
             }
            },
            "type": "scatterternary"
           }
          ],
          "surface": [
           {
            "colorbar": {
             "outlinewidth": 0,
             "ticks": ""
            },
            "colorscale": [
             [
              0,
              "#0d0887"
             ],
             [
              0.1111111111111111,
              "#46039f"
             ],
             [
              0.2222222222222222,
              "#7201a8"
             ],
             [
              0.3333333333333333,
              "#9c179e"
             ],
             [
              0.4444444444444444,
              "#bd3786"
             ],
             [
              0.5555555555555556,
              "#d8576b"
             ],
             [
              0.6666666666666666,
              "#ed7953"
             ],
             [
              0.7777777777777778,
              "#fb9f3a"
             ],
             [
              0.8888888888888888,
              "#fdca26"
             ],
             [
              1,
              "#f0f921"
             ]
            ],
            "type": "surface"
           }
          ],
          "table": [
           {
            "cells": {
             "fill": {
              "color": "#EBF0F8"
             },
             "line": {
              "color": "white"
             }
            },
            "header": {
             "fill": {
              "color": "#C8D4E3"
             },
             "line": {
              "color": "white"
             }
            },
            "type": "table"
           }
          ]
         },
         "layout": {
          "annotationdefaults": {
           "arrowcolor": "#2a3f5f",
           "arrowhead": 0,
           "arrowwidth": 1
          },
          "autotypenumbers": "strict",
          "coloraxis": {
           "colorbar": {
            "outlinewidth": 0,
            "ticks": ""
           }
          },
          "colorscale": {
           "diverging": [
            [
             0,
             "#8e0152"
            ],
            [
             0.1,
             "#c51b7d"
            ],
            [
             0.2,
             "#de77ae"
            ],
            [
             0.3,
             "#f1b6da"
            ],
            [
             0.4,
             "#fde0ef"
            ],
            [
             0.5,
             "#f7f7f7"
            ],
            [
             0.6,
             "#e6f5d0"
            ],
            [
             0.7,
             "#b8e186"
            ],
            [
             0.8,
             "#7fbc41"
            ],
            [
             0.9,
             "#4d9221"
            ],
            [
             1,
             "#276419"
            ]
           ],
           "sequential": [
            [
             0,
             "#0d0887"
            ],
            [
             0.1111111111111111,
             "#46039f"
            ],
            [
             0.2222222222222222,
             "#7201a8"
            ],
            [
             0.3333333333333333,
             "#9c179e"
            ],
            [
             0.4444444444444444,
             "#bd3786"
            ],
            [
             0.5555555555555556,
             "#d8576b"
            ],
            [
             0.6666666666666666,
             "#ed7953"
            ],
            [
             0.7777777777777778,
             "#fb9f3a"
            ],
            [
             0.8888888888888888,
             "#fdca26"
            ],
            [
             1,
             "#f0f921"
            ]
           ],
           "sequentialminus": [
            [
             0,
             "#0d0887"
            ],
            [
             0.1111111111111111,
             "#46039f"
            ],
            [
             0.2222222222222222,
             "#7201a8"
            ],
            [
             0.3333333333333333,
             "#9c179e"
            ],
            [
             0.4444444444444444,
             "#bd3786"
            ],
            [
             0.5555555555555556,
             "#d8576b"
            ],
            [
             0.6666666666666666,
             "#ed7953"
            ],
            [
             0.7777777777777778,
             "#fb9f3a"
            ],
            [
             0.8888888888888888,
             "#fdca26"
            ],
            [
             1,
             "#f0f921"
            ]
           ]
          },
          "colorway": [
           "#636efa",
           "#EF553B",
           "#00cc96",
           "#ab63fa",
           "#FFA15A",
           "#19d3f3",
           "#FF6692",
           "#B6E880",
           "#FF97FF",
           "#FECB52"
          ],
          "font": {
           "color": "#2a3f5f"
          },
          "geo": {
           "bgcolor": "white",
           "lakecolor": "white",
           "landcolor": "#E5ECF6",
           "showlakes": true,
           "showland": true,
           "subunitcolor": "white"
          },
          "hoverlabel": {
           "align": "left"
          },
          "hovermode": "closest",
          "mapbox": {
           "style": "light"
          },
          "paper_bgcolor": "white",
          "plot_bgcolor": "#E5ECF6",
          "polar": {
           "angularaxis": {
            "gridcolor": "white",
            "linecolor": "white",
            "ticks": ""
           },
           "bgcolor": "#E5ECF6",
           "radialaxis": {
            "gridcolor": "white",
            "linecolor": "white",
            "ticks": ""
           }
          },
          "scene": {
           "xaxis": {
            "backgroundcolor": "#E5ECF6",
            "gridcolor": "white",
            "gridwidth": 2,
            "linecolor": "white",
            "showbackground": true,
            "ticks": "",
            "zerolinecolor": "white"
           },
           "yaxis": {
            "backgroundcolor": "#E5ECF6",
            "gridcolor": "white",
            "gridwidth": 2,
            "linecolor": "white",
            "showbackground": true,
            "ticks": "",
            "zerolinecolor": "white"
           },
           "zaxis": {
            "backgroundcolor": "#E5ECF6",
            "gridcolor": "white",
            "gridwidth": 2,
            "linecolor": "white",
            "showbackground": true,
            "ticks": "",
            "zerolinecolor": "white"
           }
          },
          "shapedefaults": {
           "line": {
            "color": "#2a3f5f"
           }
          },
          "ternary": {
           "aaxis": {
            "gridcolor": "white",
            "linecolor": "white",
            "ticks": ""
           },
           "baxis": {
            "gridcolor": "white",
            "linecolor": "white",
            "ticks": ""
           },
           "bgcolor": "#E5ECF6",
           "caxis": {
            "gridcolor": "white",
            "linecolor": "white",
            "ticks": ""
           }
          },
          "title": {
           "x": 0.05
          },
          "xaxis": {
           "automargin": true,
           "gridcolor": "white",
           "linecolor": "white",
           "ticks": "",
           "title": {
            "standoff": 15
           },
           "zerolinecolor": "white",
           "zerolinewidth": 2
          },
          "yaxis": {
           "automargin": true,
           "gridcolor": "white",
           "linecolor": "white",
           "ticks": "",
           "title": {
            "standoff": 15
           },
           "zerolinecolor": "white",
           "zerolinewidth": 2
          }
         }
        },
        "title": {
         "text": "3D Cluster Visualization with PCA"
        }
       }
      }
     },
     "metadata": {},
     "output_type": "display_data"
    },
    {
     "data": {
      "image/png": "[encoded data removed]",
      "text/plain": [
       "<Figure size 640x480 with 1 Axes>"
      ]
     },
     "metadata": {},
     "output_type": "display_data"
    }
   ],
   "source": [
    "# 4. Visualize clusters using PCA\n",
    "pca, df_pca = pca_and_visualize(df_scaled, df_with_clusters)\n",
    "\n",
    "import seaborn as sns\n",
    "import matplotlib.pyplot as plt\n",
    "from sklearn.tree import DecisionTreeClassifier\n",
    "importances = []\n",
    "\n",
    "# Define features and labels\n",
    "features = df_with_clusters.drop(columns=['cluster'])\n",
    "labels = df_with_clusters['cluster']\n",
    "\n",
    "# Fit a decision tree\n",
    "tree = DecisionTreeClassifier()\n",
    "tree.fit(features, labels)\n",
    "\n",
    "# Get feature importance\n",
    "importances = pd.Series(tree.feature_importances_, index=features.columns)\n",
    "importances.sort_values(ascending=False).plot(kind='bar', title='Feature Importance for Cluster Classification')\n",
    "plt.show()"
   ]
  },
  {
   "cell_type": "code",
   "execution_count": 10,
   "metadata": {},
   "outputs": [
    {
     "data": {
      "image/png": "[encoded data removed]",
      "text/plain": [
       "<Figure size 1400x500 with 2 Axes>"
      ]
     },
     "metadata": {},
     "output_type": "display_data"
    }
   ],
   "source": [
    "import seaborn as sns\n",
    "import matplotlib.pyplot as plt\n",
    "\n",
    "# Group by cluster and compute the mean of each feature to see the average profile per cluster\n",
    "cluster_summary = df_with_clusters.groupby('cluster').mean()\n",
    "\n",
    "# Create a heatmap for cluster characteristics with smaller cells and without numbers inside\n",
    "plt.figure(figsize=(14, 5))  # Adjust the figure size to make cells less tall\n",
    "sns.heatmap(cluster_summary, cmap='viridis', annot=False, linewidths=0.5, cbar=True)  # Set annot to False to remove numbers inside\n",
    "plt.title('Cluster Characteristics Heatmap')\n",
    "plt.xlabel('Features')\n",
    "plt.ylabel('Cluster')\n",
    "plt.xticks(rotation=90)\n",
    "plt.show()\n",
    "\n"
   ]
  },
  {
   "cell_type": "code",
   "execution_count": 11,
   "metadata": {},
   "outputs": [
    {
     "ename": "ValueError",
     "evalue": "Input X contains NaN.\nKMeans does not accept missing values encoded as NaN natively. For supervised learning, you might want to consider sklearn.ensemble.HistGradientBoostingClassifier and Regressor which accept missing values encoded as NaNs natively. Alternatively, it is possible to preprocess the data, for instance by using an imputer transformer in a pipeline or drop samples with missing values. See https://scikit-learn.org/stable/modules/impute.html You can find a list of all estimators that handle NaN values at the following page: https://scikit-learn.org/stable/modules/impute.html#estimators-that-handle-nan-values",
     "output_type": "error",
     "traceback": [
      "\u001b[1;31m---------------------------------------------------------------------------\u001b[0m",
      "\u001b[1;31mValueError\u001b[0m                                Traceback (most recent call last)",
      "Cell \u001b[1;32mIn[11], line 13\u001b[0m\n\u001b[0;32m     11\u001b[0m \u001b[38;5;66;03m# Step 3: Perform clustering using the existing function\u001b[39;00m\n\u001b[0;32m     12\u001b[0m n_clusters \u001b[38;5;241m=\u001b[39m \u001b[38;5;241m3\u001b[39m  \u001b[38;5;66;03m# Adjust the number of clusters as needed\u001b[39;00m\n\u001b[1;32m---> 13\u001b[0m df_with_clusters \u001b[38;5;241m=\u001b[39m \u001b[43mperform_clustering\u001b[49m\u001b[43m(\u001b[49m\u001b[43mdf_features_scaled\u001b[49m\u001b[43m,\u001b[49m\u001b[43m \u001b[49m\u001b[43mdf_features\u001b[49m\u001b[43m,\u001b[49m\u001b[43m \u001b[49m\u001b[43mn_clusters\u001b[49m\u001b[38;5;241;43m=\u001b[39;49m\u001b[43mn_clusters\u001b[49m\u001b[43m)\u001b[49m\n\u001b[0;32m     15\u001b[0m \u001b[38;5;66;03m# Step 4: Visualize the clusters using PCA\u001b[39;00m\n\u001b[0;32m     16\u001b[0m pca, df_pca \u001b[38;5;241m=\u001b[39m pca_and_visualize(df_features_scaled, df_with_clusters)\n",
      "File \u001b[1;32mc:\\Users\\TomiNordi2m\\OneDrive - i2m Unternehmensentwicklung GmbH\\Documents\\Python\\GIANTS Survey Data Analysis\\GIANTS_clustering.py:41\u001b[0m, in \u001b[0;36mperform_clustering\u001b[1;34m(df_scaled, df_encoded, n_clusters)\u001b[0m\n\u001b[0;32m     39\u001b[0m \u001b[38;5;66;03m# Perform KMeans clustering\u001b[39;00m\n\u001b[0;32m     40\u001b[0m kmeans \u001b[38;5;241m=\u001b[39m KMeans(n_clusters\u001b[38;5;241m=\u001b[39mn_clusters, random_state\u001b[38;5;241m=\u001b[39m\u001b[38;5;241m42\u001b[39m)\n\u001b[1;32m---> 41\u001b[0m clusters \u001b[38;5;241m=\u001b[39m \u001b[43mkmeans\u001b[49m\u001b[38;5;241;43m.\u001b[39;49m\u001b[43mfit_predict\u001b[49m\u001b[43m(\u001b[49m\u001b[43mdf_scaled\u001b[49m\u001b[43m)\u001b[49m\n\u001b[0;32m     43\u001b[0m \u001b[38;5;66;03m# Ensure df_encoded is a DataFrame\u001b[39;00m\n\u001b[0;32m     44\u001b[0m df_encoded \u001b[38;5;241m=\u001b[39m pd\u001b[38;5;241m.\u001b[39mDataFrame(df_encoded, columns\u001b[38;5;241m=\u001b[39mdf_encoded\u001b[38;5;241m.\u001b[39mcolumns)\n",
      "File \u001b[1;32mc:\\Users\\TomiNordi2m\\AppData\\Local\\Programs\\Python\\Python312\\Lib\\site-packages\\sklearn\\cluster\\_kmeans.py:1070\u001b[0m, in \u001b[0;36m_BaseKMeans.fit_predict\u001b[1;34m(self, X, y, sample_weight)\u001b[0m\n\u001b[0;32m   1047\u001b[0m \u001b[38;5;28;01mdef\u001b[39;00m \u001b[38;5;21mfit_predict\u001b[39m(\u001b[38;5;28mself\u001b[39m, X, y\u001b[38;5;241m=\u001b[39m\u001b[38;5;28;01mNone\u001b[39;00m, sample_weight\u001b[38;5;241m=\u001b[39m\u001b[38;5;28;01mNone\u001b[39;00m):\n\u001b[0;32m   1048\u001b[0m \u001b[38;5;250m    \u001b[39m\u001b[38;5;124;03m\"\"\"Compute cluster centers and predict cluster index for each sample.\u001b[39;00m\n\u001b[0;32m   1049\u001b[0m \n\u001b[0;32m   1050\u001b[0m \u001b[38;5;124;03m    Convenience method; equivalent to calling fit(X) followed by\u001b[39;00m\n\u001b[1;32m   (...)\u001b[0m\n\u001b[0;32m   1068\u001b[0m \u001b[38;5;124;03m        Index of the cluster each sample belongs to.\u001b[39;00m\n\u001b[0;32m   1069\u001b[0m \u001b[38;5;124;03m    \"\"\"\u001b[39;00m\n\u001b[1;32m-> 1070\u001b[0m     \u001b[38;5;28;01mreturn\u001b[39;00m \u001b[38;5;28;43mself\u001b[39;49m\u001b[38;5;241;43m.\u001b[39;49m\u001b[43mfit\u001b[49m\u001b[43m(\u001b[49m\u001b[43mX\u001b[49m\u001b[43m,\u001b[49m\u001b[43m \u001b[49m\u001b[43msample_weight\u001b[49m\u001b[38;5;241;43m=\u001b[39;49m\u001b[43msample_weight\u001b[49m\u001b[43m)\u001b[49m\u001b[38;5;241m.\u001b[39mlabels_\n",
      "File \u001b[1;32mc:\\Users\\TomiNordi2m\\AppData\\Local\\Programs\\Python\\Python312\\Lib\\site-packages\\sklearn\\base.py:1473\u001b[0m, in \u001b[0;36m_fit_context.<locals>.decorator.<locals>.wrapper\u001b[1;34m(estimator, *args, **kwargs)\u001b[0m\n\u001b[0;32m   1466\u001b[0m     estimator\u001b[38;5;241m.\u001b[39m_validate_params()\n\u001b[0;32m   1468\u001b[0m \u001b[38;5;28;01mwith\u001b[39;00m config_context(\n\u001b[0;32m   1469\u001b[0m     skip_parameter_validation\u001b[38;5;241m=\u001b[39m(\n\u001b[0;32m   1470\u001b[0m         prefer_skip_nested_validation \u001b[38;5;129;01mor\u001b[39;00m global_skip_validation\n\u001b[0;32m   1471\u001b[0m     )\n\u001b[0;32m   1472\u001b[0m ):\n\u001b[1;32m-> 1473\u001b[0m     \u001b[38;5;28;01mreturn\u001b[39;00m \u001b[43mfit_method\u001b[49m\u001b[43m(\u001b[49m\u001b[43mestimator\u001b[49m\u001b[43m,\u001b[49m\u001b[43m \u001b[49m\u001b[38;5;241;43m*\u001b[39;49m\u001b[43margs\u001b[49m\u001b[43m,\u001b[49m\u001b[43m \u001b[49m\u001b[38;5;241;43m*\u001b[39;49m\u001b[38;5;241;43m*\u001b[39;49m\u001b[43mkwargs\u001b[49m\u001b[43m)\u001b[49m\n",
      "File \u001b[1;32mc:\\Users\\TomiNordi2m\\AppData\\Local\\Programs\\Python\\Python312\\Lib\\site-packages\\sklearn\\cluster\\_kmeans.py:1464\u001b[0m, in \u001b[0;36mKMeans.fit\u001b[1;34m(self, X, y, sample_weight)\u001b[0m\n\u001b[0;32m   1436\u001b[0m \u001b[38;5;129m@_fit_context\u001b[39m(prefer_skip_nested_validation\u001b[38;5;241m=\u001b[39m\u001b[38;5;28;01mTrue\u001b[39;00m)\n\u001b[0;32m   1437\u001b[0m \u001b[38;5;28;01mdef\u001b[39;00m \u001b[38;5;21mfit\u001b[39m(\u001b[38;5;28mself\u001b[39m, X, y\u001b[38;5;241m=\u001b[39m\u001b[38;5;28;01mNone\u001b[39;00m, sample_weight\u001b[38;5;241m=\u001b[39m\u001b[38;5;28;01mNone\u001b[39;00m):\n\u001b[0;32m   1438\u001b[0m \u001b[38;5;250m    \u001b[39m\u001b[38;5;124;03m\"\"\"Compute k-means clustering.\u001b[39;00m\n\u001b[0;32m   1439\u001b[0m \n\u001b[0;32m   1440\u001b[0m \u001b[38;5;124;03m    Parameters\u001b[39;00m\n\u001b[1;32m   (...)\u001b[0m\n\u001b[0;32m   1462\u001b[0m \u001b[38;5;124;03m        Fitted estimator.\u001b[39;00m\n\u001b[0;32m   1463\u001b[0m \u001b[38;5;124;03m    \"\"\"\u001b[39;00m\n\u001b[1;32m-> 1464\u001b[0m     X \u001b[38;5;241m=\u001b[39m \u001b[38;5;28;43mself\u001b[39;49m\u001b[38;5;241;43m.\u001b[39;49m\u001b[43m_validate_data\u001b[49m\u001b[43m(\u001b[49m\n\u001b[0;32m   1465\u001b[0m \u001b[43m        \u001b[49m\u001b[43mX\u001b[49m\u001b[43m,\u001b[49m\n\u001b[0;32m   1466\u001b[0m \u001b[43m        \u001b[49m\u001b[43maccept_sparse\u001b[49m\u001b[38;5;241;43m=\u001b[39;49m\u001b[38;5;124;43m\"\u001b[39;49m\u001b[38;5;124;43mcsr\u001b[39;49m\u001b[38;5;124;43m\"\u001b[39;49m\u001b[43m,\u001b[49m\n\u001b[0;32m   1467\u001b[0m \u001b[43m        \u001b[49m\u001b[43mdtype\u001b[49m\u001b[38;5;241;43m=\u001b[39;49m\u001b[43m[\u001b[49m\u001b[43mnp\u001b[49m\u001b[38;5;241;43m.\u001b[39;49m\u001b[43mfloat64\u001b[49m\u001b[43m,\u001b[49m\u001b[43m \u001b[49m\u001b[43mnp\u001b[49m\u001b[38;5;241;43m.\u001b[39;49m\u001b[43mfloat32\u001b[49m\u001b[43m]\u001b[49m\u001b[43m,\u001b[49m\n\u001b[0;32m   1468\u001b[0m \u001b[43m        \u001b[49m\u001b[43morder\u001b[49m\u001b[38;5;241;43m=\u001b[39;49m\u001b[38;5;124;43m\"\u001b[39;49m\u001b[38;5;124;43mC\u001b[39;49m\u001b[38;5;124;43m\"\u001b[39;49m\u001b[43m,\u001b[49m\n\u001b[0;32m   1469\u001b[0m \u001b[43m        \u001b[49m\u001b[43mcopy\u001b[49m\u001b[38;5;241;43m=\u001b[39;49m\u001b[38;5;28;43mself\u001b[39;49m\u001b[38;5;241;43m.\u001b[39;49m\u001b[43mcopy_x\u001b[49m\u001b[43m,\u001b[49m\n\u001b[0;32m   1470\u001b[0m \u001b[43m        \u001b[49m\u001b[43maccept_large_sparse\u001b[49m\u001b[38;5;241;43m=\u001b[39;49m\u001b[38;5;28;43;01mFalse\u001b[39;49;00m\u001b[43m,\u001b[49m\n\u001b[0;32m   1471\u001b[0m \u001b[43m    \u001b[49m\u001b[43m)\u001b[49m\n\u001b[0;32m   1473\u001b[0m     \u001b[38;5;28mself\u001b[39m\u001b[38;5;241m.\u001b[39m_check_params_vs_input(X)\n\u001b[0;32m   1475\u001b[0m     random_state \u001b[38;5;241m=\u001b[39m check_random_state(\u001b[38;5;28mself\u001b[39m\u001b[38;5;241m.\u001b[39mrandom_state)\n",
      "File \u001b[1;32mc:\\Users\\TomiNordi2m\\AppData\\Local\\Programs\\Python\\Python312\\Lib\\site-packages\\sklearn\\base.py:633\u001b[0m, in \u001b[0;36mBaseEstimator._validate_data\u001b[1;34m(self, X, y, reset, validate_separately, cast_to_ndarray, **check_params)\u001b[0m\n\u001b[0;32m    631\u001b[0m         out \u001b[38;5;241m=\u001b[39m X, y\n\u001b[0;32m    632\u001b[0m \u001b[38;5;28;01melif\u001b[39;00m \u001b[38;5;129;01mnot\u001b[39;00m no_val_X \u001b[38;5;129;01mand\u001b[39;00m no_val_y:\n\u001b[1;32m--> 633\u001b[0m     out \u001b[38;5;241m=\u001b[39m \u001b[43mcheck_array\u001b[49m\u001b[43m(\u001b[49m\u001b[43mX\u001b[49m\u001b[43m,\u001b[49m\u001b[43m \u001b[49m\u001b[43minput_name\u001b[49m\u001b[38;5;241;43m=\u001b[39;49m\u001b[38;5;124;43m\"\u001b[39;49m\u001b[38;5;124;43mX\u001b[39;49m\u001b[38;5;124;43m\"\u001b[39;49m\u001b[43m,\u001b[49m\u001b[43m \u001b[49m\u001b[38;5;241;43m*\u001b[39;49m\u001b[38;5;241;43m*\u001b[39;49m\u001b[43mcheck_params\u001b[49m\u001b[43m)\u001b[49m\n\u001b[0;32m    634\u001b[0m \u001b[38;5;28;01melif\u001b[39;00m no_val_X \u001b[38;5;129;01mand\u001b[39;00m \u001b[38;5;129;01mnot\u001b[39;00m no_val_y:\n\u001b[0;32m    635\u001b[0m     out \u001b[38;5;241m=\u001b[39m _check_y(y, \u001b[38;5;241m*\u001b[39m\u001b[38;5;241m*\u001b[39mcheck_params)\n",
      "File \u001b[1;32mc:\\Users\\TomiNordi2m\\AppData\\Local\\Programs\\Python\\Python312\\Lib\\site-packages\\sklearn\\utils\\validation.py:1064\u001b[0m, in \u001b[0;36mcheck_array\u001b[1;34m(array, accept_sparse, accept_large_sparse, dtype, order, copy, force_writeable, force_all_finite, ensure_2d, allow_nd, ensure_min_samples, ensure_min_features, estimator, input_name)\u001b[0m\n\u001b[0;32m   1058\u001b[0m     \u001b[38;5;28;01mraise\u001b[39;00m \u001b[38;5;167;01mValueError\u001b[39;00m(\n\u001b[0;32m   1059\u001b[0m         \u001b[38;5;124m\"\u001b[39m\u001b[38;5;124mFound array with dim \u001b[39m\u001b[38;5;132;01m%d\u001b[39;00m\u001b[38;5;124m. \u001b[39m\u001b[38;5;132;01m%s\u001b[39;00m\u001b[38;5;124m expected <= 2.\u001b[39m\u001b[38;5;124m\"\u001b[39m\n\u001b[0;32m   1060\u001b[0m         \u001b[38;5;241m%\u001b[39m (array\u001b[38;5;241m.\u001b[39mndim, estimator_name)\n\u001b[0;32m   1061\u001b[0m     )\n\u001b[0;32m   1063\u001b[0m \u001b[38;5;28;01mif\u001b[39;00m force_all_finite:\n\u001b[1;32m-> 1064\u001b[0m     \u001b[43m_assert_all_finite\u001b[49m\u001b[43m(\u001b[49m\n\u001b[0;32m   1065\u001b[0m \u001b[43m        \u001b[49m\u001b[43marray\u001b[49m\u001b[43m,\u001b[49m\n\u001b[0;32m   1066\u001b[0m \u001b[43m        \u001b[49m\u001b[43minput_name\u001b[49m\u001b[38;5;241;43m=\u001b[39;49m\u001b[43minput_name\u001b[49m\u001b[43m,\u001b[49m\n\u001b[0;32m   1067\u001b[0m \u001b[43m        \u001b[49m\u001b[43mestimator_name\u001b[49m\u001b[38;5;241;43m=\u001b[39;49m\u001b[43mestimator_name\u001b[49m\u001b[43m,\u001b[49m\n\u001b[0;32m   1068\u001b[0m \u001b[43m        \u001b[49m\u001b[43mallow_nan\u001b[49m\u001b[38;5;241;43m=\u001b[39;49m\u001b[43mforce_all_finite\u001b[49m\u001b[43m \u001b[49m\u001b[38;5;241;43m==\u001b[39;49m\u001b[43m \u001b[49m\u001b[38;5;124;43m\"\u001b[39;49m\u001b[38;5;124;43mallow-nan\u001b[39;49m\u001b[38;5;124;43m\"\u001b[39;49m\u001b[43m,\u001b[49m\n\u001b[0;32m   1069\u001b[0m \u001b[43m    \u001b[49m\u001b[43m)\u001b[49m\n\u001b[0;32m   1071\u001b[0m \u001b[38;5;28;01mif\u001b[39;00m copy:\n\u001b[0;32m   1072\u001b[0m     \u001b[38;5;28;01mif\u001b[39;00m _is_numpy_namespace(xp):\n\u001b[0;32m   1073\u001b[0m         \u001b[38;5;66;03m# only make a copy if `array` and `array_orig` may share memory`\u001b[39;00m\n",
      "File \u001b[1;32mc:\\Users\\TomiNordi2m\\AppData\\Local\\Programs\\Python\\Python312\\Lib\\site-packages\\sklearn\\utils\\validation.py:123\u001b[0m, in \u001b[0;36m_assert_all_finite\u001b[1;34m(X, allow_nan, msg_dtype, estimator_name, input_name)\u001b[0m\n\u001b[0;32m    120\u001b[0m \u001b[38;5;28;01mif\u001b[39;00m first_pass_isfinite:\n\u001b[0;32m    121\u001b[0m     \u001b[38;5;28;01mreturn\u001b[39;00m\n\u001b[1;32m--> 123\u001b[0m \u001b[43m_assert_all_finite_element_wise\u001b[49m\u001b[43m(\u001b[49m\n\u001b[0;32m    124\u001b[0m \u001b[43m    \u001b[49m\u001b[43mX\u001b[49m\u001b[43m,\u001b[49m\n\u001b[0;32m    125\u001b[0m \u001b[43m    \u001b[49m\u001b[43mxp\u001b[49m\u001b[38;5;241;43m=\u001b[39;49m\u001b[43mxp\u001b[49m\u001b[43m,\u001b[49m\n\u001b[0;32m    126\u001b[0m \u001b[43m    \u001b[49m\u001b[43mallow_nan\u001b[49m\u001b[38;5;241;43m=\u001b[39;49m\u001b[43mallow_nan\u001b[49m\u001b[43m,\u001b[49m\n\u001b[0;32m    127\u001b[0m \u001b[43m    \u001b[49m\u001b[43mmsg_dtype\u001b[49m\u001b[38;5;241;43m=\u001b[39;49m\u001b[43mmsg_dtype\u001b[49m\u001b[43m,\u001b[49m\n\u001b[0;32m    128\u001b[0m \u001b[43m    \u001b[49m\u001b[43mestimator_name\u001b[49m\u001b[38;5;241;43m=\u001b[39;49m\u001b[43mestimator_name\u001b[49m\u001b[43m,\u001b[49m\n\u001b[0;32m    129\u001b[0m \u001b[43m    \u001b[49m\u001b[43minput_name\u001b[49m\u001b[38;5;241;43m=\u001b[39;49m\u001b[43minput_name\u001b[49m\u001b[43m,\u001b[49m\n\u001b[0;32m    130\u001b[0m \u001b[43m\u001b[49m\u001b[43m)\u001b[49m\n",
      "File \u001b[1;32mc:\\Users\\TomiNordi2m\\AppData\\Local\\Programs\\Python\\Python312\\Lib\\site-packages\\sklearn\\utils\\validation.py:172\u001b[0m, in \u001b[0;36m_assert_all_finite_element_wise\u001b[1;34m(X, xp, allow_nan, msg_dtype, estimator_name, input_name)\u001b[0m\n\u001b[0;32m    155\u001b[0m \u001b[38;5;28;01mif\u001b[39;00m estimator_name \u001b[38;5;129;01mand\u001b[39;00m input_name \u001b[38;5;241m==\u001b[39m \u001b[38;5;124m\"\u001b[39m\u001b[38;5;124mX\u001b[39m\u001b[38;5;124m\"\u001b[39m \u001b[38;5;129;01mand\u001b[39;00m has_nan_error:\n\u001b[0;32m    156\u001b[0m     \u001b[38;5;66;03m# Improve the error message on how to handle missing values in\u001b[39;00m\n\u001b[0;32m    157\u001b[0m     \u001b[38;5;66;03m# scikit-learn.\u001b[39;00m\n\u001b[0;32m    158\u001b[0m     msg_err \u001b[38;5;241m+\u001b[39m\u001b[38;5;241m=\u001b[39m (\n\u001b[0;32m    159\u001b[0m         \u001b[38;5;124mf\u001b[39m\u001b[38;5;124m\"\u001b[39m\u001b[38;5;130;01m\\n\u001b[39;00m\u001b[38;5;132;01m{\u001b[39;00mestimator_name\u001b[38;5;132;01m}\u001b[39;00m\u001b[38;5;124m does not accept missing values\u001b[39m\u001b[38;5;124m\"\u001b[39m\n\u001b[0;32m    160\u001b[0m         \u001b[38;5;124m\"\u001b[39m\u001b[38;5;124m encoded as NaN natively. For supervised learning, you might want\u001b[39m\u001b[38;5;124m\"\u001b[39m\n\u001b[1;32m   (...)\u001b[0m\n\u001b[0;32m    170\u001b[0m         \u001b[38;5;124m\"\u001b[39m\u001b[38;5;124m#estimators-that-handle-nan-values\u001b[39m\u001b[38;5;124m\"\u001b[39m\n\u001b[0;32m    171\u001b[0m     )\n\u001b[1;32m--> 172\u001b[0m \u001b[38;5;28;01mraise\u001b[39;00m \u001b[38;5;167;01mValueError\u001b[39;00m(msg_err)\n",
      "\u001b[1;31mValueError\u001b[0m: Input X contains NaN.\nKMeans does not accept missing values encoded as NaN natively. For supervised learning, you might want to consider sklearn.ensemble.HistGradientBoostingClassifier and Regressor which accept missing values encoded as NaNs natively. Alternatively, it is possible to preprocess the data, for instance by using an imputer transformer in a pipeline or drop samples with missing values. See https://scikit-learn.org/stable/modules/impute.html You can find a list of all estimators that handle NaN values at the following page: https://scikit-learn.org/stable/modules/impute.html#estimators-that-handle-nan-values"
     ]
    }
   ],
   "source": [
    "# Step 1: Define the vehicle feature columns as the importance columns\n",
    "vehicle_features_columns = [col for col in df.columns if '55' in col or '56' in col or '57' in col]\n",
    "\n",
    "# Step 2: Preprocess the data for clustering (impute only importance questions, encode, and scale)\n",
    "df_scaled, df_encoded = preprocess_for_clustering(df, vehicle_features_columns)\n",
    "\n",
    "# Step 3: Perform clustering using the existing function\n",
    "n_clusters = 3  # Adjust the number of clusters as needed\n",
    "df_with_clusters = perform_clustering(df_scaled, df_encoded, n_clusters=n_clusters)\n",
    "\n",
    "# Step 4: Visualize the clusters using PCA\n",
    "pca, df_pca = pca_and_visualize(df_scaled, df_with_clusters)\n",
    "\n",
    "# Step 5: Summarize the clusters\n",
    "cluster_summary = summarize_clusters(df_with_clusters)\n",
    "print(cluster_summary)\n"
   ]
  }
 ],
 "metadata": {
  "kernelspec": {
   "display_name": "Python 3",
   "language": "python",
   "name": "python3"
  },
  "language_info": {
   "codemirror_mode": {
    "name": "ipython",
    "version": 3
   },
   "file_extension": ".py",
   "mimetype": "text/x-python",
   "name": "python",
   "nbconvert_exporter": "python",
   "pygments_lexer": "ipython3",
   "version": "3.12.4"
  }
 },
 "nbformat": 4,
 "nbformat_minor": 2
}
